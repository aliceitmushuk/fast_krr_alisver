{
 "cells": [
  {
   "cell_type": "markdown",
   "metadata": {},
   "source": [
    "## Install required dependencies"
   ]
  },
  {
   "cell_type": "code",
   "execution_count": 1,
   "metadata": {},
   "outputs": [
    {
     "name": "stdout",
     "output_type": "stream",
     "text": [
      "Collecting pandas\n",
      "  Using cached pandas-2.2.3-cp310-cp310-manylinux_2_17_x86_64.manylinux2014_x86_64.whl (13.1 MB)\n",
      "Requirement already satisfied: tzdata>=2022.7 in /home/pratikr/fast_krr/test_env/lib/python3.10/site-packages (from pandas) (2025.1)\n",
      "Requirement already satisfied: python-dateutil>=2.8.2 in /home/pratikr/fast_krr/test_env/lib/python3.10/site-packages (from pandas) (2.9.0.post0)\n",
      "Requirement already satisfied: numpy>=1.22.4 in /home/pratikr/fast_krr/test_env/lib/python3.10/site-packages (from pandas) (2.2.3)\n",
      "Requirement already satisfied: pytz>=2020.1 in /home/pratikr/fast_krr/test_env/lib/python3.10/site-packages (from pandas) (2025.1)\n",
      "Requirement already satisfied: six>=1.5 in /home/pratikr/fast_krr/test_env/lib/python3.10/site-packages (from python-dateutil>=2.8.2->pandas) (1.17.0)\n",
      "Installing collected packages: pandas\n",
      "Successfully installed pandas-2.2.3\n",
      "Collecting git+https://github.com/pratikrathore8/fast_krr.git\n",
      "  Cloning https://github.com/pratikrathore8/fast_krr.git to /tmp/pip-req-build-o6a9en5w\n",
      "  Running command git clone --filter=blob:none --quiet https://github.com/pratikrathore8/fast_krr.git /tmp/pip-req-build-o6a9en5w\n",
      "  Resolved https://github.com/pratikrathore8/fast_krr.git to commit b9df47dc9d7baa84347a9c693f77e4a64f3995fa\n",
      "  Installing build dependencies ... \u001b[?25ldone\n",
      "\u001b[?25h  Getting requirements to build wheel ... \u001b[?25ldone\n",
      "\u001b[?25h  Preparing metadata (pyproject.toml) ... \u001b[?25ldone\n",
      "\u001b[?25hRequirement already satisfied: torch>=2.5.0 in /home/pratikr/fast_krr/test_env/lib/python3.10/site-packages (from fast_krr==0.1.0) (2.6.0)\n",
      "Requirement already satisfied: pykeops>=2.2.0 in /home/pratikr/fast_krr/test_env/lib/python3.10/site-packages (from fast_krr==0.1.0) (2.2.3)\n",
      "Requirement already satisfied: keopscore==2.2.3 in /home/pratikr/fast_krr/test_env/lib/python3.10/site-packages (from pykeops>=2.2.0->fast_krr==0.1.0) (2.2.3)\n",
      "Requirement already satisfied: numpy in /home/pratikr/fast_krr/test_env/lib/python3.10/site-packages (from pykeops>=2.2.0->fast_krr==0.1.0) (2.2.3)\n",
      "Requirement already satisfied: pybind11 in /home/pratikr/fast_krr/test_env/lib/python3.10/site-packages (from pykeops>=2.2.0->fast_krr==0.1.0) (2.13.6)\n",
      "Requirement already satisfied: nvidia-nvtx-cu12==12.4.127 in /home/pratikr/fast_krr/test_env/lib/python3.10/site-packages (from torch>=2.5.0->fast_krr==0.1.0) (12.4.127)\n",
      "Requirement already satisfied: nvidia-curand-cu12==10.3.5.147 in /home/pratikr/fast_krr/test_env/lib/python3.10/site-packages (from torch>=2.5.0->fast_krr==0.1.0) (10.3.5.147)\n",
      "Requirement already satisfied: triton==3.2.0 in /home/pratikr/fast_krr/test_env/lib/python3.10/site-packages (from torch>=2.5.0->fast_krr==0.1.0) (3.2.0)\n",
      "Requirement already satisfied: nvidia-cuda-cupti-cu12==12.4.127 in /home/pratikr/fast_krr/test_env/lib/python3.10/site-packages (from torch>=2.5.0->fast_krr==0.1.0) (12.4.127)\n",
      "Requirement already satisfied: nvidia-cuda-runtime-cu12==12.4.127 in /home/pratikr/fast_krr/test_env/lib/python3.10/site-packages (from torch>=2.5.0->fast_krr==0.1.0) (12.4.127)\n",
      "Requirement already satisfied: networkx in /home/pratikr/fast_krr/test_env/lib/python3.10/site-packages (from torch>=2.5.0->fast_krr==0.1.0) (3.4.2)\n",
      "Requirement already satisfied: sympy==1.13.1 in /home/pratikr/fast_krr/test_env/lib/python3.10/site-packages (from torch>=2.5.0->fast_krr==0.1.0) (1.13.1)\n",
      "Requirement already satisfied: nvidia-cublas-cu12==12.4.5.8 in /home/pratikr/fast_krr/test_env/lib/python3.10/site-packages (from torch>=2.5.0->fast_krr==0.1.0) (12.4.5.8)\n",
      "Requirement already satisfied: nvidia-cusparse-cu12==12.3.1.170 in /home/pratikr/fast_krr/test_env/lib/python3.10/site-packages (from torch>=2.5.0->fast_krr==0.1.0) (12.3.1.170)\n",
      "Requirement already satisfied: nvidia-nccl-cu12==2.21.5 in /home/pratikr/fast_krr/test_env/lib/python3.10/site-packages (from torch>=2.5.0->fast_krr==0.1.0) (2.21.5)\n",
      "Requirement already satisfied: filelock in /home/pratikr/fast_krr/test_env/lib/python3.10/site-packages (from torch>=2.5.0->fast_krr==0.1.0) (3.17.0)\n",
      "Requirement already satisfied: nvidia-cufft-cu12==11.2.1.3 in /home/pratikr/fast_krr/test_env/lib/python3.10/site-packages (from torch>=2.5.0->fast_krr==0.1.0) (11.2.1.3)\n",
      "Requirement already satisfied: nvidia-nvjitlink-cu12==12.4.127 in /home/pratikr/fast_krr/test_env/lib/python3.10/site-packages (from torch>=2.5.0->fast_krr==0.1.0) (12.4.127)\n",
      "Requirement already satisfied: typing-extensions>=4.10.0 in /home/pratikr/fast_krr/test_env/lib/python3.10/site-packages (from torch>=2.5.0->fast_krr==0.1.0) (4.12.2)\n",
      "Requirement already satisfied: fsspec in /home/pratikr/fast_krr/test_env/lib/python3.10/site-packages (from torch>=2.5.0->fast_krr==0.1.0) (2025.2.0)\n",
      "Requirement already satisfied: nvidia-cusparselt-cu12==0.6.2 in /home/pratikr/fast_krr/test_env/lib/python3.10/site-packages (from torch>=2.5.0->fast_krr==0.1.0) (0.6.2)\n",
      "Requirement already satisfied: nvidia-cuda-nvrtc-cu12==12.4.127 in /home/pratikr/fast_krr/test_env/lib/python3.10/site-packages (from torch>=2.5.0->fast_krr==0.1.0) (12.4.127)\n",
      "Requirement already satisfied: nvidia-cudnn-cu12==9.1.0.70 in /home/pratikr/fast_krr/test_env/lib/python3.10/site-packages (from torch>=2.5.0->fast_krr==0.1.0) (9.1.0.70)\n",
      "Requirement already satisfied: jinja2 in /home/pratikr/fast_krr/test_env/lib/python3.10/site-packages (from torch>=2.5.0->fast_krr==0.1.0) (3.1.5)\n",
      "Requirement already satisfied: nvidia-cusolver-cu12==11.6.1.9 in /home/pratikr/fast_krr/test_env/lib/python3.10/site-packages (from torch>=2.5.0->fast_krr==0.1.0) (11.6.1.9)\n",
      "Requirement already satisfied: mpmath<1.4,>=1.1.0 in /home/pratikr/fast_krr/test_env/lib/python3.10/site-packages (from sympy==1.13.1->torch>=2.5.0->fast_krr==0.1.0) (1.3.0)\n",
      "Requirement already satisfied: MarkupSafe>=2.0 in /home/pratikr/fast_krr/test_env/lib/python3.10/site-packages (from jinja2->torch>=2.5.0->fast_krr==0.1.0) (3.0.2)\n"
     ]
    }
   ],
   "source": [
    "!pip install pandas\n",
    "!pip install git+https://github.com/pratikrathore8/fast_krr.git"
   ]
  },
  {
   "cell_type": "markdown",
   "metadata": {},
   "source": [
    "## Import required libraries"
   ]
  },
  {
   "cell_type": "code",
   "execution_count": 2,
   "metadata": {},
   "outputs": [
    {
     "ename": "ModuleNotFoundError",
     "evalue": "No module named 'fast_krr.opts.utils'",
     "output_type": "error",
     "traceback": [
      "\u001b[0;31m---------------------------------------------------------------------------\u001b[0m",
      "\u001b[0;31mModuleNotFoundError\u001b[0m                       Traceback (most recent call last)",
      "Cell \u001b[0;32mIn[2], line 6\u001b[0m\n\u001b[1;32m      3\u001b[0m \u001b[38;5;28;01mimport\u001b[39;00m\u001b[38;5;250m \u001b[39m\u001b[38;5;21;01mtorch\u001b[39;00m\n\u001b[1;32m      5\u001b[0m \u001b[38;5;28;01mfrom\u001b[39;00m\u001b[38;5;250m \u001b[39m\u001b[38;5;21;01mfast_krr\u001b[39;00m\u001b[38;5;21;01m.\u001b[39;00m\u001b[38;5;21;01mmodels\u001b[39;00m\u001b[38;5;250m \u001b[39m\u001b[38;5;28;01mimport\u001b[39;00m FullKRR\n\u001b[0;32m----> 6\u001b[0m \u001b[38;5;28;01mfrom\u001b[39;00m\u001b[38;5;250m \u001b[39m\u001b[38;5;21;01mfast_krr\u001b[39;00m\u001b[38;5;21;01m.\u001b[39;00m\u001b[38;5;21;01mopts\u001b[39;00m\u001b[38;5;250m \u001b[39m\u001b[38;5;28;01mimport\u001b[39;00m ASkotchV2\n\u001b[1;32m      8\u001b[0m \u001b[38;5;28;01mfrom\u001b[39;00m\u001b[38;5;250m \u001b[39m\u001b[38;5;21;01mutils\u001b[39;00m\u001b[38;5;250m \u001b[39m\u001b[38;5;28;01mimport\u001b[39;00m load_data\n",
      "File \u001b[0;32m~/fast_krr/test_env/lib/python3.10/site-packages/fast_krr/opts/__init__.py:1\u001b[0m\n\u001b[0;32m----> 1\u001b[0m \u001b[38;5;28;01mfrom\u001b[39;00m\u001b[38;5;250m \u001b[39m\u001b[38;5;21;01m.\u001b[39;00m\u001b[38;5;21;01maskotch\u001b[39;00m\u001b[38;5;250m \u001b[39m\u001b[38;5;28;01mimport\u001b[39;00m ASkotch\n\u001b[1;32m      2\u001b[0m \u001b[38;5;28;01mfrom\u001b[39;00m\u001b[38;5;250m \u001b[39m\u001b[38;5;21;01m.\u001b[39;00m\u001b[38;5;21;01maskotchv2\u001b[39;00m\u001b[38;5;250m \u001b[39m\u001b[38;5;28;01mimport\u001b[39;00m ASkotchV2\n\u001b[1;32m      3\u001b[0m \u001b[38;5;28;01mfrom\u001b[39;00m\u001b[38;5;250m \u001b[39m\u001b[38;5;21;01m.\u001b[39;00m\u001b[38;5;21;01meigenpro2\u001b[39;00m\u001b[38;5;250m \u001b[39m\u001b[38;5;28;01mimport\u001b[39;00m EigenPro2\n",
      "File \u001b[0;32m~/fast_krr/test_env/lib/python3.10/site-packages/fast_krr/opts/askotch.py:4\u001b[0m\n\u001b[1;32m      1\u001b[0m \u001b[38;5;28;01mimport\u001b[39;00m\u001b[38;5;250m \u001b[39m\u001b[38;5;21;01mtorch\u001b[39;00m\n\u001b[1;32m      3\u001b[0m \u001b[38;5;28;01mfrom\u001b[39;00m\u001b[38;5;250m \u001b[39m\u001b[38;5;21;01m.\u001b[39;00m\u001b[38;5;21;01moptimizer\u001b[39;00m\u001b[38;5;250m \u001b[39m\u001b[38;5;28;01mimport\u001b[39;00m Optimizer\n\u001b[0;32m----> 4\u001b[0m \u001b[38;5;28;01mfrom\u001b[39;00m\u001b[38;5;250m \u001b[39m\u001b[38;5;21;01m.\u001b[39;00m\u001b[38;5;21;01mutils\u001b[39;00m\u001b[38;5;21;01m.\u001b[39;00m\u001b[38;5;21;01mbcd\u001b[39;00m\u001b[38;5;250m \u001b[39m\u001b[38;5;28;01mimport\u001b[39;00m (\n\u001b[1;32m      5\u001b[0m     _get_blocks,\n\u001b[1;32m      6\u001b[0m     _get_block_precond,\n\u001b[1;32m      7\u001b[0m     _get_block_properties,\n\u001b[1;32m      8\u001b[0m     _get_block_update,\n\u001b[1;32m      9\u001b[0m )\n\u001b[1;32m     12\u001b[0m \u001b[38;5;28;01mclass\u001b[39;00m\u001b[38;5;250m \u001b[39m\u001b[38;5;21;01mASkotch\u001b[39;00m(Optimizer):\n\u001b[1;32m     13\u001b[0m     \u001b[38;5;28;01mdef\u001b[39;00m\u001b[38;5;250m \u001b[39m\u001b[38;5;21m__init__\u001b[39m(\n\u001b[1;32m     14\u001b[0m         \u001b[38;5;28mself\u001b[39m,\n\u001b[1;32m     15\u001b[0m         model,\n\u001b[0;32m   (...)\u001b[0m\n\u001b[1;32m     20\u001b[0m         accelerated\u001b[38;5;241m=\u001b[39m\u001b[38;5;28;01mTrue\u001b[39;00m,\n\u001b[1;32m     21\u001b[0m     ):\n",
      "\u001b[0;31mModuleNotFoundError\u001b[0m: No module named 'fast_krr.opts.utils'"
     ]
    }
   ],
   "source": [
    "import numpy as np\n",
    "import pandas as pd\n",
    "import torch\n",
    "\n",
    "from fast_krr.models import FullKRR\n",
    "from fast_krr.opts import ASkotchV2\n",
    "\n",
    "from utils import load_data"
   ]
  },
  {
   "cell_type": "markdown",
   "metadata": {},
   "source": [
    "## Load the uracil dataset"
   ]
  },
  {
   "cell_type": "code",
   "execution_count": null,
   "metadata": {},
   "outputs": [],
   "source": []
  }
 ],
 "metadata": {
  "kernelspec": {
   "display_name": "test_env",
   "language": "python",
   "name": "test_env"
  },
  "language_info": {
   "codemirror_mode": {
    "name": "ipython",
    "version": 3
   },
   "file_extension": ".py",
   "mimetype": "text/x-python",
   "name": "python",
   "nbconvert_exporter": "python",
   "pygments_lexer": "ipython3",
   "version": "3.10.12"
  }
 },
 "nbformat": 4,
 "nbformat_minor": 2
}
