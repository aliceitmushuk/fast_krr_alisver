{
 "cells": [
  {
   "cell_type": "markdown",
   "metadata": {},
   "source": [
    "## Install required dependencies"
   ]
  },
  {
   "cell_type": "code",
   "execution_count": null,
   "metadata": {},
   "outputs": [],
   "source": [
    "!pip install matplotlib\n",
    "!pip install numpy\n",
    "!pip install pandas\n",
    "!pip install scipy\n",
    "!pip install scikit-learn\n",
    "!pip install torch\n",
    "!pip install tqdm\n",
    "!pip install git+https://github.com/pratikrathore8/fast_krr.git"
   ]
  },
  {
   "cell_type": "markdown",
   "metadata": {},
   "source": [
    "## Import libraries"
   ]
  },
  {
   "cell_type": "code",
   "execution_count": null,
   "metadata": {},
   "outputs": [],
   "source": [
    "import matplotlib.pyplot as plt\n",
    "import torch\n",
    "from tqdm import trange\n",
    "\n",
    "from fast_krr.models import FullKRR\n",
    "from fast_krr.opts import ASkotchV2\n",
    "\n",
    "from utils import load_data"
   ]
  },
  {
   "cell_type": "markdown",
   "metadata": {},
   "source": [
    "## Run regression experiment"
   ]
  },
  {
   "cell_type": "markdown",
   "metadata": {},
   "source": [
    "### Load the uracil dataset"
   ]
  },
  {
   "cell_type": "code",
   "execution_count": null,
   "metadata": {},
   "outputs": [],
   "source": [
    "dataset = \"comet_mc\"\n",
    "data_config = {\n",
    "    \"tr\": \"comet_mc_data.pkl\",\n",
    "    \"tgt\": \"comet_mc_target.pkl\",\n",
    "    \"loading\": \"pkl\",\n",
    "    \"split\": 0.8,\n",
    "    \"label_map\": {0: -1, 1: 1},\n",
    "    \"task\": \"classification\",\n",
    "}\n",
    "remove_label_means=False\n",
    "seed = 0\n",
    "device = torch.device(\"cuda\" if torch.cuda.is_available() else \"cpu\")"
   ]
  },
  {
   "cell_type": "code",
   "execution_count": null,
   "metadata": {},
   "outputs": [],
   "source": [
    "X, Xtst, y, ytst = load_data(dataset=dataset, data_config=data_config, \n",
    "                             remove_label_means=remove_label_means, seed=seed, device=device)"
   ]
  },
  {
   "cell_type": "markdown",
   "metadata": {},
   "source": [
    "### Initialize the model"
   ]
  },
  {
   "cell_type": "code",
   "execution_count": null,
   "metadata": {},
   "outputs": [],
   "source": [
    "n = X.shape[0]\n",
    "task = \"classification\"\n",
    "kernel_params = {\"type\": \"rbf\", \"sigma\": 2.1122933418117933}\n",
    "w0 = torch.zeros(n, device=device)\n",
    "lambd = 1e-6 * n"
   ]
  },
  {
   "cell_type": "code",
   "execution_count": null,
   "metadata": {},
   "outputs": [],
   "source": [
    "model = FullKRR(X, y, Xtst, ytst, kernel_params=kernel_params,\n",
    "                 Ktr_needed=True, lambd=lambd, task=task, w0=w0, device=device)"
   ]
  },
  {
   "cell_type": "markdown",
   "metadata": {},
   "source": [
    "### Initialize the `ASkotchV2` optimizer"
   ]
  },
  {
   "cell_type": "code",
   "execution_count": null,
   "metadata": {},
   "outputs": [],
   "source": [
    "block_sz = n // 100\n",
    "precond_params = {\"type\": \"nystrom\", \"r\": 100, \"rho\": \"damped\"}"
   ]
  },
  {
   "cell_type": "code",
   "execution_count": null,
   "metadata": {},
   "outputs": [],
   "source": [
    "opt = ASkotchV2(model=model, block_sz=block_sz, precond_params=precond_params)"
   ]
  },
  {
   "cell_type": "markdown",
   "metadata": {},
   "source": [
    "### Train the FullKRR model using `ASkotchV2`"
   ]
  },
  {
   "cell_type": "code",
   "execution_count": null,
   "metadata": {},
   "outputs": [],
   "source": [
    "max_iters = 5000\n",
    "log_freq = 20"
   ]
  },
  {
   "cell_type": "code",
   "execution_count": null,
   "metadata": {},
   "outputs": [],
   "source": [
    "metrics = []\n",
    "metrics.append((0, model.compute_metrics(v=opt.model.w, log_test_only=False)))\n",
    "\n",
    "for i in trange(1, max_iters + 1, desc=\"Optimization progress\"):\n",
    "    opt.step()\n",
    "\n",
    "    if i % log_freq == 0:\n",
    "        metrics.append((i, model.compute_metrics(v=opt.model.w, log_test_only=False)))"
   ]
  },
  {
   "cell_type": "markdown",
   "metadata": {},
   "source": [
    "## Plot the results"
   ]
  },
  {
   "cell_type": "code",
   "execution_count": null,
   "metadata": {},
   "outputs": [],
   "source": [
    "rel_residuals = [m[\"rel_residual\"].cpu() for _, m in metrics]\n",
    "test_acc = [m[\"test_acc\"] for _, m in metrics]\n",
    "x_vals = [i for i, _ in metrics]\n",
    "\n",
    "plt.figure()\n",
    "plt.semilogy(x_vals, rel_residuals)\n",
    "plt.ylabel(\"Relative residual\")\n",
    "plt.xlabel(\"Iterations\")\n",
    "plt.show()\n",
    "\n",
    "plt.figure()\n",
    "plt.semilogy(x_vals, test_acc)\n",
    "plt.ylabel(\"Test accuracy\")\n",
    "plt.xlabel(\"Iterations\")\n",
    "plt.show()"
   ]
  },
  {
   "cell_type": "markdown",
   "metadata": {},
   "source": [
    "Since we ran `ASkotchV2` in single precision, the relative residual plateaus at around 1e-4. Running in double precision would allow us to reach a lower relative residual."
   ]
  }
 ],
 "metadata": {
  "kernelspec": {
   "display_name": "test_env",
   "language": "python",
   "name": "test_env"
  },
  "language_info": {
   "codemirror_mode": {
    "name": "ipython",
    "version": 3
   },
   "file_extension": ".py",
   "mimetype": "text/x-python",
   "name": "python",
   "nbconvert_exporter": "python",
   "pygments_lexer": "ipython3",
   "version": "3.10.12"
  }
 },
 "nbformat": 4,
 "nbformat_minor": 2
}
