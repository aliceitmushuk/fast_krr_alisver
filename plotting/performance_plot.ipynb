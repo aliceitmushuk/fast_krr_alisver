{
 "cells": [
  {
   "cell_type": "code",
   "execution_count": 1,
   "metadata": {},
   "outputs": [],
   "source": [
    "import numpy as np\n",
    "\n",
    "from constants import ENTITY_NAME, PROJECT_FULL_KRR, PROJECT_INDUCING_KRR \n",
    "from constants import FONTSIZE, USE_LATEX, LEGEND_SPECS, OPT_LABELS, OPT_COLORS, DUMMY_PLOTTING_RANK\n",
    "from constants import PERFORMANCE_DATASETS_CLASSIFICATION_CFG, PERFORMANCE_DATASETS_REGRESSION_CFG\n",
    "from base_utils import set_fontsize, render_in_latex, _get_clean_data, get_x, get_color\n",
    "from cfg_utils import create_krr_config, _get_filtered_runs\n",
    "\n",
    "import matplotlib.pyplot as plt"
   ]
  },
  {
   "cell_type": "code",
   "execution_count": null,
   "metadata": {},
   "outputs": [],
   "source": [
    "set_fontsize(FONTSIZE)\n",
    "if USE_LATEX:\n",
    "    render_in_latex()"
   ]
  },
  {
   "cell_type": "code",
   "execution_count": null,
   "metadata": {},
   "outputs": [],
   "source": [
    "CLASSIFICATION_EPS = 1e-3\n",
    "REGRESSION_REL_EPS = 1e-2"
   ]
  },
  {
   "cell_type": "code",
   "execution_count": null,
   "metadata": {},
   "outputs": [],
   "source": [
    "ASKOTCH_FILTER = {\n",
    "    \"optimizer\": lambda run: run.config[\"opt\"] == \"askotchv2\",\n",
    "    \"accelerated\": lambda run: run.config[\"accelerated\"],\n",
    "    \"preconditioned\": lambda run: run.config[\"precond_params\"] is not None,\n",
    "    \"rho_damped\": lambda run: run.config.get(\"precond_params\", {}).get(\"rho\", None)\n",
    "    == \"damped\",\n",
    "    \"sampling\": lambda run: run.config[\"sampling_method\"] == \"uniform\",\n",
    "    \"block_sz_frac\": lambda run: run.config[\"block_sz_frac\"] == 0.01,\n",
    "    \"finished\": lambda run: run.state == \"finished\",\n",
    "}\n",
    "EIGENPRO2_FILTER = {\n",
    "    \"optimizer\": lambda run: run.config[\"opt\"] == \"eigenpro2\",\n",
    "    \"finished\": lambda run: run.state == \"finished\",\n",
    "}\n",
    "EIGENPRO3_FILTER = {\n",
    "    \"optimizer\": lambda run: run.config[\"opt\"] == \"eigenpro3\",\n",
    "    \"finished\": lambda run: run.state == \"finished\",\n",
    "}\n",
    "PCG_FLOAT64_FILTER = {\n",
    "    \"optimizer\": lambda run: run.config[\"opt\"] == \"pcg\",\n",
    "    \"precision\": lambda run: run.config[\"precision\"] == \"float64\",\n",
    "    \"not_greedy_cholesky_or_falkon\": lambda run: not (\n",
    "        run.config[\"precond_params\"][\"type\"] == \"partial_cholesky\"\n",
    "        and run.config[\"precond_params\"][\"mode\"] == \"greedy\"\n",
    "    ) and not run.config[\"precond_params\"][\"type\"] == \"falkon\",\n",
    "    \"finished\": lambda run: run.state == \"finished\",\n",
    "}\n",
    "FALKON_FLOAT64_FILTER = {\n",
    "    \"optimizer\": lambda run: run.config[\"opt\"] == \"pcg\",\n",
    "    \"precision\": lambda run: run.config[\"precision\"] == \"float64\",\n",
    "    \"falkon\": lambda run: run.config[\"precond_params\"][\"type\"] == \"falkon\",\n",
    "    \"finished\": lambda run: run.state == \"finished\",\n",
    "}"
   ]
  },
  {
   "cell_type": "code",
   "execution_count": 4,
   "metadata": {},
   "outputs": [],
   "source": [
    "filters = {\n",
    "    \"askotchv2\": ASKOTCH_FILTER,\n",
    "    \"eigenpro2\": EIGENPRO2_FILTER,\n",
    "    \"eigenpro3\": EIGENPRO3_FILTER,\n",
    "    \"pcg\": PCG_FLOAT64_FILTER,\n",
    "    \"falkon\": FALKON_FLOAT64_FILTER,\n",
    "}\n",
    "\n",
    "krr_configs = {}\n",
    "for key, value in filters.items():\n",
    "    if key in [\"eigenpro3\", \"falkon\"]:\n",
    "        krr_configs[key] = create_krr_config(proj_name=PROJECT_INDUCING_KRR, base_criteria=[value])\n",
    "    else:\n",
    "        krr_configs[key] = create_krr_config(proj_name=PROJECT_FULL_KRR, base_criteria=[value])"
   ]
  },
  {
   "cell_type": "code",
   "execution_count": 5,
   "metadata": {},
   "outputs": [],
   "source": [
    "def get_krr_runs(dataset_cfgs, krr_configs):\n",
    "    krr_runs = {}\n",
    "    for dataset_cfg in dataset_cfgs:\n",
    "        for ds in dataset_cfg[\"datasets\"].keys():\n",
    "            krr_runs[ds] = {}\n",
    "            krr_runs[ds][\"runs\"] = {}\n",
    "            krr_runs[ds][\"metric\"] = dataset_cfg[\"datasets\"][ds][\"metric\"]\n",
    "            for key, value in krr_configs.items():\n",
    "                krr_runs[ds][\"runs\"][key] = _get_filtered_runs(value, ds, ENTITY_NAME)\n",
    "    return krr_runs"
   ]
  },
  {
   "cell_type": "code",
   "execution_count": 6,
   "metadata": {},
   "outputs": [],
   "source": [
    "def get_peak_metric(run, metric):\n",
    "    y, _ = _get_clean_data(run, metric)\n",
    "    if metric == \"test_acc\":\n",
    "        return y.max()\n",
    "    else:\n",
    "        return y.min()"
   ]
  },
  {
   "cell_type": "code",
   "execution_count": 7,
   "metadata": {},
   "outputs": [],
   "source": [
    "def get_best_metric_val(krr_runs_dataset):\n",
    "    metric = krr_runs_dataset[\"metric\"]\n",
    "    best_metric_val = 0 if metric == \"test_acc\" else np.inf\n",
    "    for key, value in krr_runs_dataset[\"runs\"].items():\n",
    "        for run in value:\n",
    "            peak_metric = get_peak_metric(run, metric)\n",
    "            # print(f\"{run.id}: {peak_metric}\")\n",
    "\n",
    "            if metric == \"test_acc\":\n",
    "                best_metric_val = max(best_metric_val, peak_metric)\n",
    "            else:\n",
    "                best_metric_val = min(best_metric_val, peak_metric)\n",
    "    return best_metric_val"
   ]
  },
  {
   "cell_type": "code",
   "execution_count": null,
   "metadata": {},
   "outputs": [],
   "source": [
    "def get_stopping_point(run, metric, best_val):\n",
    "    y, steps = _get_clean_data(run, metric)\n",
    "    times = get_x(run, steps, \"time\")\n",
    "    if metric == \"test_acc\":\n",
    "        eps = CLASSIFICATION_EPS\n",
    "        relative = False\n",
    "    else:\n",
    "        eps = REGRESSION_REL_EPS\n",
    "        relative = True\n",
    "\n",
    "    if relative:\n",
    "        condition = y <= best_val * (1 + eps)\n",
    "    else:\n",
    "        condition = y >= best_val - eps\n",
    "\n",
    "    indices = np.where(condition)[0]\n",
    "    if indices.size > 0:\n",
    "        return times[indices[0]]\n",
    "    return np.inf\n",
    "\n",
    "    # # Go through y (enumerating) and find the first point where the metric is within eps of the best_val\n",
    "    # for i, val in enumerate(y):\n",
    "    #     if relative:\n",
    "    #         if val <= best_val * (1 + eps):\n",
    "    #             return times[i]\n",
    "    #     else:\n",
    "    #         if val >= best_val - eps:\n",
    "    #             return times[i]\n",
    "    # return np.inf"
   ]
  },
  {
   "cell_type": "code",
   "execution_count": 9,
   "metadata": {},
   "outputs": [],
   "source": [
    "def convert_time_to_frac(time, run):\n",
    "    return time / run.config[\"max_time\"]"
   ]
  },
  {
   "cell_type": "code",
   "execution_count": 10,
   "metadata": {},
   "outputs": [],
   "source": [
    "def get_best_stopping_points(krr_runs_dataset, best_metric_val_dataset):\n",
    "    metric = krr_runs_dataset[\"metric\"]\n",
    "    best_stopping_points = {}\n",
    "    for key, value in krr_runs_dataset[\"runs\"].items():\n",
    "        best_stopping_point = np.inf\n",
    "        for run in value:\n",
    "            stopping_point = get_stopping_point(run, metric, best_metric_val_dataset)\n",
    "            # print(f\"{run.id}: {stopping_point}\")\n",
    "\n",
    "            best_stopping_point = min(best_stopping_point, stopping_point)\n",
    "        # Implicitly assumes all runs for the same optimizer have the same time budget\n",
    "        best_stopping_point_relative = convert_time_to_frac(best_stopping_point, value[0]) \n",
    "        best_stopping_points[key] = {\"absolute\": best_stopping_point, \"relative\": best_stopping_point_relative}\n",
    "    return best_stopping_points"
   ]
  },
  {
   "cell_type": "code",
   "execution_count": 11,
   "metadata": {},
   "outputs": [],
   "source": [
    "krr_runs = get_krr_runs(PERFORMANCE_DATASETS_REGRESSION_CFG, krr_configs)"
   ]
  },
  {
   "cell_type": "code",
   "execution_count": 12,
   "metadata": {},
   "outputs": [
    {
     "name": "stdout",
     "output_type": "stream",
     "text": [
      "Best metric value for toluene: 0.018190858885645866\n",
      "Best metric value for ethanol: 0.010460924357175827\n",
      "Best metric value for benzene: 0.01840088702738285\n"
     ]
    },
    {
     "name": "stderr",
     "output_type": "stream",
     "text": [
      "\u001b[34m\u001b[1mwandb\u001b[0m: \u001b[33mWARNING\u001b[0m A graphql request initiated by the public wandb API timed out (timeout=19 sec). Create a new API with an integer timeout larger than 19, e.g., `api = wandb.Api(timeout=29)` to increase the graphql timeout.\n"
     ]
    },
    {
     "name": "stdout",
     "output_type": "stream",
     "text": [
      "Best metric value for malonaldehyde: 0.017547601833939552\n",
      "Best metric value for yolanda: 6.213605880737305\n",
      "Best metric value for yearpredictionmsd: 6.190075397491455\n",
      "Best metric value for acsincome: 28516.37890625\n"
     ]
    },
    {
     "name": "stderr",
     "output_type": "stream",
     "text": [
      "\u001b[34m\u001b[1mwandb\u001b[0m: \u001b[33mWARNING\u001b[0m A graphql request initiated by the public wandb API timed out (timeout=19 sec). Create a new API with an integer timeout larger than 19, e.g., `api = wandb.Api(timeout=29)` to increase the graphql timeout.\n"
     ]
    }
   ],
   "source": [
    "best_stopping_points = {}\n",
    "for ds, runs in krr_runs.items():\n",
    "    best_metric_vals_ds = get_best_metric_val(runs)\n",
    "    print(f\"Best metric value for {ds}: {best_metric_vals_ds}\")\n",
    "\n",
    "    best_stopping_points[ds] = get_best_stopping_points(runs, best_metric_vals_ds)"
   ]
  },
  {
   "cell_type": "code",
   "execution_count": 13,
   "metadata": {},
   "outputs": [
    {
     "name": "stdout",
     "output_type": "stream",
     "text": [
      "askotchv2: {'absolute': np.float64(3537.8248932361603), 'relative': np.float64(0.9827291370100445)}\n",
      "eigenpro2: {'absolute': inf, 'relative': inf}\n",
      "eigenpro3: {'absolute': inf, 'relative': inf}\n",
      "pcg: {'absolute': inf, 'relative': inf}\n",
      "falkon: {'absolute': inf, 'relative': inf}\n",
      "askotchv2: {'absolute': np.float64(7000.560095787048), 'relative': np.float64(0.9723000133037567)}\n",
      "eigenpro2: {'absolute': inf, 'relative': inf}\n",
      "eigenpro3: {'absolute': inf, 'relative': inf}\n",
      "pcg: {'absolute': inf, 'relative': inf}\n",
      "falkon: {'absolute': inf, 'relative': inf}\n",
      "askotchv2: {'absolute': np.float64(5262.540126800537), 'relative': np.float64(0.730908350944519)}\n",
      "eigenpro2: {'absolute': inf, 'relative': inf}\n",
      "eigenpro3: {'absolute': inf, 'relative': inf}\n",
      "pcg: {'absolute': inf, 'relative': inf}\n",
      "falkon: {'absolute': inf, 'relative': inf}\n",
      "askotchv2: {'absolute': np.float64(7089.571094512939), 'relative': np.float64(0.984662652015686)}\n",
      "eigenpro2: {'absolute': inf, 'relative': inf}\n",
      "eigenpro3: {'absolute': inf, 'relative': inf}\n",
      "pcg: {'absolute': inf, 'relative': inf}\n",
      "falkon: {'absolute': inf, 'relative': inf}\n",
      "askotchv2: {'absolute': np.float64(268.5489618778229), 'relative': np.float64(0.0745969338549508)}\n",
      "eigenpro2: {'absolute': inf, 'relative': inf}\n",
      "eigenpro3: {'absolute': inf, 'relative': inf}\n",
      "pcg: {'absolute': inf, 'relative': inf}\n",
      "falkon: {'absolute': np.float64(786.4399974346161), 'relative': np.float64(0.2184555548429489)}\n",
      "askotchv2: {'absolute': np.float64(159.77781009674072), 'relative': np.float64(0.044382725026872426)}\n",
      "eigenpro2: {'absolute': inf, 'relative': inf}\n",
      "eigenpro3: {'absolute': inf, 'relative': inf}\n",
      "pcg: {'absolute': inf, 'relative': inf}\n",
      "falkon: {'absolute': np.float64(1141.0467944145203), 'relative': np.float64(0.31695744289292227)}\n",
      "askotchv2: {'absolute': np.float64(47.680042028427124), 'relative': np.float64(0.004414818706335845)}\n",
      "eigenpro2: {'absolute': inf, 'relative': inf}\n",
      "eigenpro3: {'absolute': inf, 'relative': inf}\n",
      "pcg: {'absolute': np.float64(10868.25321149826), 'relative': np.float64(1.0063197418053944)}\n",
      "falkon: {'absolute': np.float64(305.29567980766296), 'relative': np.float64(0.028268118500709535)}\n"
     ]
    }
   ],
   "source": [
    "for ds, best_stopping_points_ds in best_stopping_points.items():\n",
    "    for opt, best_stopping_point in best_stopping_points_ds.items():\n",
    "        print(f\"{opt}: {best_stopping_point}\")"
   ]
  },
  {
   "cell_type": "code",
   "execution_count": 14,
   "metadata": {},
   "outputs": [
    {
     "data": {
      "text/plain": [
       "<matplotlib.legend.Legend at 0x7f75e4df61d0>"
      ]
     },
     "execution_count": 14,
     "metadata": {},
     "output_type": "execute_result"
    },
    {
     "data": {
      "image/png": "[encoded data removed]",
      "text/plain": [
       "<Figure size 640x480 with 1 Axes>"
      ]
     },
     "metadata": {},
     "output_type": "display_data"
    }
   ],
   "source": [
    "# Make a performance plot for each optimizer based on the best stopping point\n",
    "fig, ax = plt.subplots()\n",
    "time_budget = np.linspace(0, 1, 101)\n",
    "\n",
    "performance = {}\n",
    "\n",
    "# Loop through the datasets and get performance for each optimizer\n",
    "for ds, best_stopping_points_ds in best_stopping_points.items():\n",
    "    for opt, best_stopping_point in best_stopping_points_ds.items():\n",
    "        relative_stopping_point = best_stopping_point[\"relative\"]\n",
    "        if opt not in performance:\n",
    "            performance[opt] = np.zeros_like(time_budget)\n",
    "        performance[opt] += np.where(time_budget >= relative_stopping_point, 1, 0)\n",
    "\n",
    "for opt, perf in performance.items():\n",
    "    ax.plot(time_budget, perf / len(best_stopping_points), label=OPT_LABELS[opt], color=get_color(opt, DUMMY_PLOTTING_RANK))\n",
    "\n",
    "ax.set_xlabel(\"Fraction of time budget\")\n",
    "ax.set_ylabel(\"Fraction of problems solved\")\n",
    "fig.legend(**LEGEND_SPECS)"
   ]
  }
 ],
 "metadata": {
  "kernelspec": {
   "display_name": "fast_krr_env",
   "language": "python",
   "name": "python3"
  },
  "language_info": {
   "codemirror_mode": {
    "name": "ipython",
    "version": 3
   },
   "file_extension": ".py",
   "mimetype": "text/x-python",
   "name": "python",
   "nbconvert_exporter": "python",
   "pygments_lexer": "ipython3",
   "version": "3.10.12"
  }
 },
 "nbformat": 4,
 "nbformat_minor": 2
}
