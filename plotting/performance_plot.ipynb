{
 "cells": [
  {
   "cell_type": "code",
   "execution_count": 1,
   "metadata": {},
   "outputs": [],
   "source": [
    "import numpy as np\n",
    "\n",
    "from constants import ENTITY_NAME, PROJECT_FULL_KRR, PROJECT_INDUCING_KRR \n",
    "from constants import FONTSIZE, USE_LATEX, LEGEND_SPECS, OPT_LABELS, DUMMY_PLOTTING_RANK\n",
    "from constants import PERFORMANCE_DATASETS_CLASSIFICATION_CFG, PERFORMANCE_DATASETS_REGRESSION_CFG\n",
    "from base_utils import set_fontsize, render_in_latex, _get_clean_data, get_x, get_color\n",
    "from cfg_utils import create_krr_config, _get_filtered_runs\n",
    "\n",
    "import matplotlib.pyplot as plt"
   ]
  },
  {
   "cell_type": "code",
   "execution_count": 2,
   "metadata": {},
   "outputs": [],
   "source": [
    "set_fontsize(FONTSIZE)\n",
    "if USE_LATEX:\n",
    "    render_in_latex()"
   ]
  },
  {
   "cell_type": "code",
   "execution_count": 3,
   "metadata": {},
   "outputs": [],
   "source": [
    "CLASSIFICATION_EPS = 1e-3\n",
    "REGRESSION_REL_EPS = 1e-2"
   ]
  },
  {
   "cell_type": "code",
   "execution_count": 4,
   "metadata": {},
   "outputs": [],
   "source": [
    "ASKOTCH_FILTER = {\n",
    "    \"optimizer\": lambda run: run.config[\"opt\"] == \"askotchv2\",\n",
    "    \"accelerated\": lambda run: run.config[\"accelerated\"],\n",
    "    \"preconditioned\": lambda run: run.config[\"precond_params\"] is not None,\n",
    "    \"rho_damped\": lambda run: run.config.get(\"precond_params\", {}).get(\"rho\", None)\n",
    "    == \"damped\",\n",
    "    \"sampling\": lambda run: run.config[\"sampling_method\"] == \"uniform\",\n",
    "    \"block_sz_frac\": lambda run: run.config[\"block_sz_frac\"] == 0.01,\n",
    "    \"finished\": lambda run: run.state == \"finished\",\n",
    "}\n",
    "EIGENPRO2_FILTER = {\n",
    "    \"optimizer\": lambda run: run.config[\"opt\"] == \"eigenpro2\",\n",
    "    \"finished\": lambda run: run.state == \"finished\",\n",
    "}\n",
    "EIGENPRO3_FILTER = {\n",
    "    \"optimizer\": lambda run: run.config[\"opt\"] == \"eigenpro3\",\n",
    "    \"finished\": lambda run: run.state == \"finished\",\n",
    "}\n",
    "PCG_FLOAT64_FILTER = {\n",
    "    \"optimizer\": lambda run: run.config[\"opt\"] == \"pcg\",\n",
    "    \"precision\": lambda run: run.config[\"precision\"] == \"float64\",\n",
    "    \"not_greedy_cholesky_or_falkon\": lambda run: not (\n",
    "        run.config[\"precond_params\"][\"type\"] == \"partial_cholesky\"\n",
    "        and run.config[\"precond_params\"][\"mode\"] == \"greedy\"\n",
    "    ) and not run.config[\"precond_params\"][\"type\"] == \"falkon\",\n",
    "    \"finished\": lambda run: run.state == \"finished\",\n",
    "}\n",
    "FALKON_FLOAT64_FILTER = {\n",
    "    \"optimizer\": lambda run: run.config[\"opt\"] == \"pcg\",\n",
    "    \"precision\": lambda run: run.config[\"precision\"] == \"float64\",\n",
    "    \"falkon\": lambda run: run.config[\"precond_params\"][\"type\"] == \"falkon\",\n",
    "    \"finished\": lambda run: run.state == \"finished\",\n",
    "}"
   ]
  },
  {
   "cell_type": "code",
   "execution_count": 5,
   "metadata": {},
   "outputs": [],
   "source": [
    "filters = {\n",
    "    \"askotchv2\": ASKOTCH_FILTER,\n",
    "    \"eigenpro2\": EIGENPRO2_FILTER,\n",
    "    \"eigenpro3\": EIGENPRO3_FILTER,\n",
    "    \"pcg\": PCG_FLOAT64_FILTER,\n",
    "    \"falkon\": FALKON_FLOAT64_FILTER,\n",
    "}\n",
    "\n",
    "krr_configs = {}\n",
    "for key, value in filters.items():\n",
    "    if key in [\"eigenpro3\", \"falkon\"]:\n",
    "        krr_configs[key] = create_krr_config(proj_name=PROJECT_INDUCING_KRR, base_criteria=[value])\n",
    "    else:\n",
    "        krr_configs[key] = create_krr_config(proj_name=PROJECT_FULL_KRR, base_criteria=[value])"
   ]
  },
  {
   "cell_type": "code",
   "execution_count": 6,
   "metadata": {},
   "outputs": [],
   "source": [
    "def get_krr_runs(dataset_cfgs, krr_configs):\n",
    "    krr_runs = {}\n",
    "    for dataset_cfg in dataset_cfgs:\n",
    "        for ds in dataset_cfg[\"datasets\"].keys():\n",
    "            krr_runs[ds] = {}\n",
    "            krr_runs[ds][\"runs\"] = {}\n",
    "            krr_runs[ds][\"metric\"] = dataset_cfg[\"datasets\"][ds][\"metric\"]\n",
    "            for key, value in krr_configs.items():\n",
    "                krr_runs[ds][\"runs\"][key] = _get_filtered_runs(value, ds, ENTITY_NAME)\n",
    "    return krr_runs"
   ]
  },
  {
   "cell_type": "code",
   "execution_count": 7,
   "metadata": {},
   "outputs": [],
   "source": [
    "def get_peak_metric(run, metric):\n",
    "    y, _ = _get_clean_data(run, metric)\n",
    "    if metric == \"test_acc\":\n",
    "        return y.max()\n",
    "    else:\n",
    "        return y.min()"
   ]
  },
  {
   "cell_type": "code",
   "execution_count": 8,
   "metadata": {},
   "outputs": [],
   "source": [
    "def get_best_metric_val(krr_runs_dataset):\n",
    "    metric = krr_runs_dataset[\"metric\"]\n",
    "    best_metric_val = 0 if metric == \"test_acc\" else np.inf\n",
    "    for key, value in krr_runs_dataset[\"runs\"].items():\n",
    "        for run in value:\n",
    "            peak_metric = get_peak_metric(run, metric)\n",
    "            if metric == \"test_acc\":\n",
    "                best_metric_val = max(best_metric_val, peak_metric)\n",
    "            else:\n",
    "                best_metric_val = min(best_metric_val, peak_metric)\n",
    "    return best_metric_val"
   ]
  },
  {
   "cell_type": "code",
   "execution_count": 9,
   "metadata": {},
   "outputs": [],
   "source": [
    "def get_stopping_point(run, metric, best_val):\n",
    "    y, steps = _get_clean_data(run, metric)\n",
    "    times = get_x(run, steps, \"time\")\n",
    "    if metric == \"test_acc\":\n",
    "        eps = CLASSIFICATION_EPS\n",
    "        relative = False\n",
    "    else:\n",
    "        eps = REGRESSION_REL_EPS\n",
    "        relative = True\n",
    "\n",
    "    if relative:\n",
    "        condition = y <= best_val * (1 + eps)\n",
    "    else:\n",
    "        condition = y >= best_val - eps\n",
    "\n",
    "    indices = np.where(condition)[0]\n",
    "    if indices.size > 0:\n",
    "        return times[indices[0]]\n",
    "    return np.inf"
   ]
  },
  {
   "cell_type": "code",
   "execution_count": 10,
   "metadata": {},
   "outputs": [],
   "source": [
    "def convert_time_to_frac(time, run):\n",
    "    return time / run.config[\"max_time\"]"
   ]
  },
  {
   "cell_type": "code",
   "execution_count": 11,
   "metadata": {},
   "outputs": [],
   "source": [
    "def get_best_stopping_points(krr_runs_dataset, best_metric_val_dataset):\n",
    "    metric = krr_runs_dataset[\"metric\"]\n",
    "    best_stopping_points = {}\n",
    "    for key, value in krr_runs_dataset[\"runs\"].items():\n",
    "        best_stopping_point = np.inf\n",
    "        for run in value:\n",
    "            stopping_point = get_stopping_point(run, metric, best_metric_val_dataset)\n",
    "            best_stopping_point = min(best_stopping_point, stopping_point)\n",
    "        # Implicitly assumes all runs for the same optimizer have the same time budget\n",
    "        if len(value) > 0:\n",
    "            best_stopping_point_relative = convert_time_to_frac(best_stopping_point, value[0])\n",
    "        else:\n",
    "            best_stopping_point_relative = np.inf\n",
    "        best_stopping_points[key] = {\"absolute\": best_stopping_point, \"relative\": best_stopping_point_relative}\n",
    "    return best_stopping_points"
   ]
  },
  {
   "cell_type": "code",
   "execution_count": 12,
   "metadata": {},
   "outputs": [],
   "source": [
    "krr_runs = get_krr_runs(PERFORMANCE_DATASETS_CLASSIFICATION_CFG, krr_configs)"
   ]
  },
  {
   "cell_type": "code",
   "execution_count": 13,
   "metadata": {},
   "outputs": [
    {
     "name": "stdout",
     "output_type": "stream",
     "text": [
      "Best metric value for cifar10: 0.9753999710083008\n",
      "Best metric value for fashion_mnist: 0.9696999788284302\n",
      "Best metric value for mnist: 0.9969\n",
      "Best metric value for svhn: 0.9492931365966797\n",
      "Best metric value for miniboone: 0.9289202094078064\n",
      "Best metric value for comet_mc: 0.9851038455963135\n",
      "Best metric value for susy: 0.804315984249115\n",
      "Best metric value for higgs: 0.727598\n",
      "Best metric value for covtype_binary: 0.9500959527723035\n",
      "Best metric value for click_prediction: 0.834633350188494\n"
     ]
    }
   ],
   "source": [
    "best_stopping_points = {}\n",
    "for ds, runs in krr_runs.items():\n",
    "    best_metric_vals_ds = get_best_metric_val(runs)\n",
    "    print(f\"Best metric value for {ds}: {best_metric_vals_ds}\")\n",
    "\n",
    "    best_stopping_points[ds] = get_best_stopping_points(runs, best_metric_vals_ds)"
   ]
  },
  {
   "cell_type": "code",
   "execution_count": 14,
   "metadata": {},
   "outputs": [
    {
     "data": {
      "text/plain": [
       "<matplotlib.legend.Legend at 0x7f4bcf12f130>"
      ]
     },
     "execution_count": 14,
     "metadata": {},
     "output_type": "execute_result"
    },
    {
     "data": {
      "image/png": "[encoded data removed]",
      "text/plain": [
       "<Figure size 640x480 with 1 Axes>"
      ]
     },
     "metadata": {},
     "output_type": "display_data"
    }
   ],
   "source": [
    "# Make a performance plot for each optimizer based on the best stopping point\n",
    "fig, ax = plt.subplots()\n",
    "time_budget = np.linspace(0, 1, 101)\n",
    "\n",
    "performance = {}\n",
    "\n",
    "# Loop through the datasets and get performance for each optimizer\n",
    "for ds, best_stopping_points_ds in best_stopping_points.items():\n",
    "    for opt, best_stopping_point in best_stopping_points_ds.items():\n",
    "        relative_stopping_point = best_stopping_point[\"relative\"]\n",
    "        if opt not in performance:\n",
    "            performance[opt] = np.zeros_like(time_budget)\n",
    "        performance[opt] += np.where(time_budget >= relative_stopping_point, 1, 0)\n",
    "\n",
    "for opt, perf in performance.items():\n",
    "    ax.plot(time_budget, perf / len(best_stopping_points), label=OPT_LABELS[opt], color=get_color(opt, DUMMY_PLOTTING_RANK))\n",
    "\n",
    "ax.set_xlabel(\"Fraction of time budget\")\n",
    "ax.set_ylabel(\"Fraction of problems solved\")\n",
    "fig.legend(**LEGEND_SPECS)"
   ]
  }
 ],
 "metadata": {
  "kernelspec": {
   "display_name": "fast_krr_env",
   "language": "python",
   "name": "python3"
  },
  "language_info": {
   "codemirror_mode": {
    "name": "ipython",
    "version": 3
   },
   "file_extension": ".py",
   "mimetype": "text/x-python",
   "name": "python",
   "nbconvert_exporter": "python",
   "pygments_lexer": "ipython3",
   "version": "3.10.12"
  }
 },
 "nbformat": 4,
 "nbformat_minor": 2
}
