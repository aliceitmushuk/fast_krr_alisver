{
 "cells": [
  {
   "cell_type": "code",
   "execution_count": 1,
   "metadata": {},
   "outputs": [],
   "source": [
    "import torch\n",
    "from pykeops.torch import LazyTensor\n",
    "import matplotlib.pyplot as plt\n",
    "from collections import namedtuple"
   ]
  },
  {
   "cell_type": "code",
   "execution_count": 2,
   "metadata": {},
   "outputs": [],
   "source": [
    "import sys\n",
    "import os\n",
    "\n",
    "sys.path.append(os.path.abspath(\"..\"))\n",
    "from src.kernels.rbf import Rbf\n",
    "from src.kernels.l1_laplace import L1Laplace\n",
    "from src.experiment_utils import set_precision\n",
    "from src.data_utils import load_data"
   ]
  },
  {
   "cell_type": "code",
   "execution_count": 3,
   "metadata": {},
   "outputs": [],
   "source": [
    "CentersDictionary = namedtuple('CentersDictionary',\n",
    "                               ('idx', 'X', 'probs', 'lam', 'rls_oversample'))"
   ]
  },
  {
   "cell_type": "code",
   "execution_count": 4,
   "metadata": {},
   "outputs": [],
   "source": [
    "def stable_filter(eigenvec, eigenval):\n",
    "    \"\"\" Given eigendecomposition of a PSD matrix, compute a reduced (thin) version containing only stable eigenvalues.\n",
    "    \"\"\"\n",
    "    n = eigenvec.shape[0]\n",
    "\n",
    "    if eigenvec.shape != (n, n) or eigenval.shape != (n,):\n",
    "        raise ValueError(\n",
    "            f'Array sizes of {eigenvec.shape} eigenvectors and {eigenval.shape} eigenvalues do not match')\n",
    "\n",
    "    # Threshold formula, similar to numpy/scipy's pinv2 implementation\n",
    "    thresh = torch.abs(eigenval).max() * max(eigenval.shape) * \\\n",
    "        torch.finfo(eigenval.dtype).eps\n",
    "    stable_eig = ~torch.isclose(eigenval, torch.tensor(\n",
    "        0.0, dtype=eigenval.dtype), atol=thresh)\n",
    "\n",
    "    if torch.any(eigenval <= -thresh):\n",
    "        raise ValueError(f'Some eigenvalues of a PSD matrix are negative, this should never happen. '\n",
    "                         f'Minimum eig: {torch.min(eigenval).item()}')\n",
    "\n",
    "    m = stable_eig.sum().item()\n",
    "    eigenvec_thin = eigenvec[:, stable_eig]\n",
    "    eigenval_thin = eigenval[stable_eig]\n",
    "\n",
    "    if eigenvec_thin.shape != (n, m) or eigenval_thin.shape != (m,):\n",
    "        raise ValueError(\n",
    "            f'Array sizes of {eigenvec_thin.shape} eigenvectors and {eigenval_thin.shape} eigenvalues do not match')\n",
    "\n",
    "    return eigenvec_thin, eigenval_thin\n",
    "\n",
    "\n",
    "def stable_invert_root(eigenvec, eigenval):\n",
    "    \"\"\" Given eigendecomposition of a PSD matrix, compute a representation of the pseudo-inverse square root\n",
    "    of the matrix using numerically stable operations. In particular, eigenvalues which are near-zero\n",
    "    and the associated eigenvectors are dropped from the pseudo-inverse.\n",
    "    \"\"\"\n",
    "    eigenvec_thin, eigenval_thin = stable_filter(eigenvec, eigenval)\n",
    "\n",
    "    eigenval_thin_inv_root = (1 / torch.sqrt(eigenval_thin)) #.reshape(-1, 1)\n",
    "\n",
    "    return eigenvec_thin, eigenval_thin_inv_root"
   ]
  },
  {
   "cell_type": "code",
   "execution_count": 5,
   "metadata": {},
   "outputs": [],
   "source": [
    "def estimate_rls_bless(D, X, kernel, kernel_params, kernel_class, lam_new):\n",
    "    kernel_temp = kernel_class(LazyTensor(X[:, None, :]), LazyTensor(X[None, :, :]), kernel_params)\n",
    "    diag_norm = kernel_temp.get_diag().to(X.device)\n",
    "\n",
    "    # (m x n) kernel matrix between samples in dictionary and dataset X\n",
    "    D_lazy1 = LazyTensor(D.X[:, None, :])\n",
    "    D_lazy2 = LazyTensor(D.X[None, :, :])\n",
    "    X_lazy = LazyTensor(X[None, :, :])\n",
    "    K_DU = kernel._compute_kernel(D_lazy1, X_lazy, kernel_params)\n",
    "\n",
    "    K_DD = kernel._compute_kernel(D_lazy1, D_lazy2, kernel_params)\n",
    "    K_DD = K_DD @ torch.eye(D.X.shape[0], device=X.device)\n",
    "\n",
    "    U_DD, S_DD, _ = torch.linalg.svd(\n",
    "        K_DD + lam_new * torch.diag(D.probs))\n",
    "    U_DD, S_root_inv_DD = stable_invert_root(U_DD, S_DD)\n",
    "\n",
    "    E = S_root_inv_DD.unsqueeze(1) * U_DD.T\n",
    "\n",
    "    # compute (X'X + lam*S^(-2))^(-1/2)XX'\n",
    "    # X_precond = E @ K_DU\n",
    "    X_precond = (K_DU.T @ E.T).T\n",
    "\n",
    "    # the diagonal entries of XX'(X'X + lam*S^(-2))^(-1)XX' are just the squared\n",
    "    # ell-2 norm of the columns of (X'X + lam*S^(-2))^(-1/2)XX'\n",
    "    rls_estimate = (diag_norm - X_precond.pow(2).sum(dim=0)) / lam_new\n",
    "\n",
    "    if torch.any(rls_estimate < 0.0):\n",
    "        raise ValueError(\n",
    "            'Some estimated RLS is negative, this should never happen. '\n",
    "            f'Min prob: {torch.min(rls_estimate).item()}'\n",
    "        )\n",
    "\n",
    "    return rls_estimate"
   ]
  },
  {
   "cell_type": "code",
   "execution_count": 6,
   "metadata": {},
   "outputs": [],
   "source": [
    "def reduce_lambda(X_data,\n",
    "                  kernel,\n",
    "                  kernel_params,\n",
    "                  kernel_class,\n",
    "                  intermediate_dict_bless,\n",
    "                  lam_new,\n",
    "                  rls_oversample_parameter=None):\n",
    "    n, _ = X_data.shape\n",
    "\n",
    "    if rls_oversample_parameter is None:\n",
    "        rls_oversample_parameter = intermediate_dict_bless.rls_oversample\n",
    "\n",
    "    red_ratio = intermediate_dict_bless.lam / lam_new\n",
    "\n",
    "    if red_ratio < 1.0:\n",
    "        raise ValueError(f\"red_ratio = {red_ratio} is less than 1.0\")\n",
    "\n",
    "    diag = kernel.get_diag().to(X_data.device)\n",
    "\n",
    "    # compute upper confidence bound on RLS of each sample, overestimate (oversample) by a rls_oversample factor\n",
    "    # to boost success probability at the expenses of a larger sample (dictionary)\n",
    "    ucb = torch.minimum(rls_oversample_parameter * diag / (diag + lam_new), torch.tensor(1.0))\n",
    "\n",
    "\n",
    "    U = torch.rand(n, device=X_data.device) <= ucb\n",
    "    u = U.sum()\n",
    "\n",
    "    if u <= 0:\n",
    "        raise ValueError('No point selected during uniform sampling step, try to increase rls_oversample_bless. '\n",
    "                         'Expected number of points: {:.3f}'.format(n * ucb.mean()))\n",
    "\n",
    "    X_U = X_data[U, :]\n",
    "\n",
    "    rls_estimate = estimate_rls_bless(\n",
    "        intermediate_dict_bless, X_U, kernel, kernel_params, kernel_class, lam_new)\n",
    "\n",
    "    # same as before, oversample by a rls_oversample factor\n",
    "    probs = torch.minimum(rls_oversample_parameter * rls_estimate, ucb[U])\n",
    "    probs_reject = probs / ucb[U]\n",
    "\n",
    "    if torch.any(probs < 0.0):\n",
    "        raise ValueError(f'Some estimated probability is negative, this should never happen. '\n",
    "                        f'Min prob: {torch.min(probs)}')\n",
    "\n",
    "    deff_estimate = probs_reject.sum() / rls_oversample_parameter\n",
    "\n",
    "    if rls_oversample_parameter * deff_estimate < 1.0:\n",
    "        raise ValueError('Estimated deff is smaller than 1, you might want to reconsider your kernel. '\n",
    "                         'deff_estimate: {:.3f}'.format(rls_oversample_parameter * deff_estimate))\n",
    "\n",
    "    selected = torch.rand(u, device=X_data.device) <= probs_reject\n",
    "    s = selected.sum()\n",
    "\n",
    "    if s.item() <= 0:\n",
    "        raise ValueError(\n",
    "            f'No point selected during RLS sampling step, try to increase rls_oversample_bless. '\n",
    "            f'Expected number of points (rls_oversample_bless*deff): {probs_reject.sum().item():.3f}'\n",
    "        )\n",
    "\n",
    "    intermediate_dict_bless_new = CentersDictionary(\n",
    "        idx=U.nonzero()[selected.nonzero()],\n",
    "        X=X_U[selected, :],\n",
    "        probs=probs[selected],\n",
    "        lam=lam_new,\n",
    "        rls_oversample=rls_oversample_parameter\n",
    "    )\n",
    "\n",
    "    return intermediate_dict_bless_new"
   ]
  },
  {
   "cell_type": "code",
   "execution_count": null,
   "metadata": {},
   "outputs": [],
   "source": [
    "# def bless(X_data,\n",
    "#           kernel,\n",
    "#           kernel_params,\n",
    "#           kernel_class,\n",
    "#           lam_final,\n",
    "#           rls_oversample_param,\n",
    "#           nb_iter_bless=None):\n",
    "\n",
    "#     n, _ = X_data.shape\n",
    "\n",
    "#     if nb_iter_bless is None:\n",
    "#         nb_iter_bless = torch.ceil(torch.log(torch.tensor(n))).int().item()\n",
    "\n",
    "#     diag_norm = kernel.get_diag().to(X_data.device)\n",
    "\n",
    "#     lam_init = n\n",
    "#     ucb_init = rls_oversample_param * diag_norm / (diag_norm + lam_init)\n",
    "#     while ucb_init.sum() <= 10:\n",
    "#         lam_init /= 1.25\n",
    "#         ucb_init = rls_oversample_param * diag_norm / (diag_norm + lam_init)\n",
    "\n",
    "#     selected_init = torch.rand(n, device=X_data.device) <= ucb_init\n",
    "#     selected_init[0] = True  # force at least one sample to be selected\n",
    "\n",
    "#     ucb_init[0] = rls_oversample_param * 1.0\n",
    "\n",
    "#     intermediate_dict_bless = CentersDictionary(\n",
    "#         idx=selected_init.nonzero(),\n",
    "#         X=X_data[selected_init, :],\n",
    "#         probs=torch.ones(selected_init.sum(), device=X_data.device) * ucb_init[selected_init],\n",
    "#         lam=lam_init,\n",
    "#         rls_oversample=rls_oversample_param\n",
    "#     )\n",
    "\n",
    "#     lam_sequence = torch.exp(torch.linspace(\n",
    "#                                 torch.log(torch.tensor(lam_final)), \n",
    "#                                 torch.log(torch.tensor(lam_init)), \n",
    "#                                 nb_iter_bless\n",
    "#                                 )\n",
    "#                             ).tolist()\n",
    "\n",
    "#     # discard lam_init from the list, we already used it to initialize\n",
    "#     lam_sequence.pop()\n",
    "\n",
    "#     while len(lam_sequence) > 0:\n",
    "#         lam_new = lam_sequence.pop()\n",
    "#         intermediate_dict_bless = reduce_lambda(X_data,\n",
    "#                                                 kernel,\n",
    "#                                                 kernel_params,\n",
    "#                                                 kernel_class,\n",
    "#                                                 intermediate_dict_bless,\n",
    "#                                                 lam_new)\n",
    "\n",
    "#     return intermediate_dict_bless"
   ]
  },
  {
   "cell_type": "code",
   "execution_count": 8,
   "metadata": {},
   "outputs": [],
   "source": [
    "def bless_size(X_data,\n",
    "               kernel,\n",
    "               kernel_params,\n",
    "               kernel_class,\n",
    "               size_final,\n",
    "               rls_oversample_param,\n",
    "               nb_iter_bless=None):\n",
    "    n, _ = X_data.shape\n",
    "\n",
    "    diag_norm = kernel.get_diag().to(X_data.device)\n",
    "\n",
    "    lam_init = diag_norm.sum() / (size_final - 1.0)\n",
    "    lam_max = lam_init\n",
    "\n",
    "    lam_final = 1\n",
    "    lam_min = lam_final\n",
    "\n",
    "    if nb_iter_bless is None:\n",
    "        nb_iter_bless = torch.ceil(torch.log2(torch.tensor(lam_init))).int().item()\n",
    "\n",
    "    lam_sequence = torch.exp(torch.linspace(torch.log(torch.tensor(\n",
    "        lam_final)), torch.log(torch.tensor(lam_init)), nb_iter_bless)).tolist()\n",
    "\n",
    "    ucb_init = rls_oversample_param * diag_norm / (diag_norm + lam_init)\n",
    "\n",
    "    selected_init = torch.rand(n, device=X_data.device) <= ucb_init\n",
    "    selected_init[0] = True  # force at least one sample to be selected\n",
    "    ucb_init[0] = rls_oversample_param * 1.0\n",
    "\n",
    "    intermediate_dict_bless = CentersDictionary(\n",
    "        idx=selected_init.nonzero(),\n",
    "        X=X_data[selected_init, :],\n",
    "        probs=torch.ones(selected_init.sum(),\n",
    "                         device=X_data.device) * ucb_init[selected_init],\n",
    "        lam=lam_init,\n",
    "        rls_oversample=rls_oversample_param\n",
    "    )\n",
    "\n",
    "    # discard lam_init from the list, we already used it to initialize\n",
    "    lam_new = lam_sequence.pop()\n",
    "    deff_hat_new = size_final - 1\n",
    "\n",
    "    while len(lam_sequence) > 0:\n",
    "        lam_old = lam_new\n",
    "        deff_hat_old = deff_hat_new\n",
    "\n",
    "        lam_new = lam_sequence.pop()\n",
    "        intermediate_dict_bless = reduce_lambda(\n",
    "            X_data,\n",
    "            kernel,\n",
    "            kernel_params,\n",
    "            kernel_class,\n",
    "            intermediate_dict_bless,\n",
    "            lam_new)\n",
    "        deff_hat_new = (len(intermediate_dict_bless.idx)\n",
    "                        / intermediate_dict_bless.rls_oversample)\n",
    "\n",
    "        # check if the dictionary passed the lower threshold, in which case set it to last valid lambda\n",
    "        if deff_hat_old <= (size_final - 1) / 2 <= deff_hat_new:\n",
    "                lam_max = lam_old\n",
    "\n",
    "        if deff_hat_new >= 2 * (size_final + 1):\n",
    "            lam_min = lam_new\n",
    "            break\n",
    "        \n",
    "    return intermediate_dict_bless, lam_max, lam_min"
   ]
  },
  {
   "cell_type": "code",
   "execution_count": 9,
   "metadata": {},
   "outputs": [],
   "source": [
    "torch.manual_seed(0)\n",
    "set_precision(\"float64\")\n",
    "device = torch.device('cuda:0' if torch.cuda.is_available() else 'cpu')"
   ]
  },
  {
   "cell_type": "markdown",
   "metadata": {},
   "source": [
    "### Synthetic data w/ RBF kernel"
   ]
  },
  {
   "cell_type": "code",
   "execution_count": 10,
   "metadata": {},
   "outputs": [],
   "source": [
    "n = 10000\n",
    "d = 5\n",
    "X = torch.randn(n, d, device=device)\n",
    "kernel_params = {\"sigma\": 1.0}\n",
    "kernel = Rbf(LazyTensor(X[:, None, :]), LazyTensor(X[None, :, :]), kernel_params)\n",
    "kernel_class = Rbf\n",
    "lam_final = 1.0\n",
    "size_final = int(n ** 0.5)\n",
    "rls_oversample_param = 5.0\n",
    "max_iter_bless = 5"
   ]
  },
  {
   "cell_type": "code",
   "execution_count": 11,
   "metadata": {},
   "outputs": [
    {
     "name": "stderr",
     "output_type": "stream",
     "text": [
      "/tmp/ipykernel_4086692/4085678775.py:19: UserWarning: To copy construct from a tensor, it is recommended to use sourceTensor.clone().detach() or sourceTensor.clone().detach().requires_grad_(True), rather than torch.tensor(sourceTensor).\n",
      "  nb_iter_bless = torch.ceil(torch.log2(torch.tensor(lam_init))).int().item()\n",
      "/tmp/ipykernel_4086692/4085678775.py:22: UserWarning: To copy construct from a tensor, it is recommended to use sourceTensor.clone().detach() or sourceTensor.clone().detach().requires_grad_(True), rather than torch.tensor(sourceTensor).\n",
      "  lam_final)), torch.log(torch.tensor(lam_init)), nb_iter_bless)).tolist()\n"
     ]
    }
   ],
   "source": [
    "# dict_reduced = bless(X, kernel, kernel_params, kernel_class,\n",
    "#                       lam_final, rls_oversample_param, nb_iter_bless=max_iter_bless)\n",
    "dict_reduced, _, _ = bless_size(X, kernel, kernel_params, kernel_class,\n",
    "                          size_final, rls_oversample_param)\n",
    "rls_approx = estimate_rls_bless(dict_reduced, X, kernel, kernel_params, kernel_class, lam_final)"
   ]
  },
  {
   "cell_type": "code",
   "execution_count": 12,
   "metadata": {},
   "outputs": [
    {
     "name": "stdout",
     "output_type": "stream",
     "text": [
      "Number of selected centers = 1445\n"
     ]
    }
   ],
   "source": [
    "print(f\"Number of selected centers = {dict_reduced.X.shape[0]}\")"
   ]
  },
  {
   "cell_type": "code",
   "execution_count": 13,
   "metadata": {},
   "outputs": [],
   "source": [
    "K_true = kernel.K @ torch.eye(n, device=X.device)\n",
    "rls_true = torch.linalg.solve(K_true + lam_final * torch.eye(n, device=X.device), K_true).diag()"
   ]
  },
  {
   "cell_type": "code",
   "execution_count": 14,
   "metadata": {},
   "outputs": [
    {
     "data": {
      "text/plain": [
       "<matplotlib.legend.Legend at 0x7ff6694e3f40>"
      ]
     },
     "execution_count": 14,
     "metadata": {},
     "output_type": "execute_result"
    },
    {
     "data": {
      "image/png": "[encoded data removed]",
      "text/plain": [
       "<Figure size 640x480 with 1 Axes>"
      ]
     },
     "metadata": {},
     "output_type": "display_data"
    }
   ],
   "source": [
    "plt.hist(rls_true.cpu().numpy(), bins=100, alpha=0.5, label='True RLS')\n",
    "plt.hist(rls_approx.cpu().numpy(), bins=100, alpha=0.5, label='Approx RLS')\n",
    "plt.legend()"
   ]
  },
  {
   "cell_type": "markdown",
   "metadata": {},
   "source": [
    "### HOMO data w/ L1-laplace kernel"
   ]
  },
  {
   "cell_type": "code",
   "execution_count": 15,
   "metadata": {},
   "outputs": [],
   "source": [
    "X, _, _, _ = load_data(\"homo\", seed=0, device=device)\n",
    "n = X.shape[0]\n",
    "kernel_params = {\"sigma\": 5120.0}\n",
    "kernel = L1Laplace(LazyTensor(X[:, None, :]),\n",
    "             LazyTensor(X[None, :, :]), kernel_params)\n",
    "kernel_class = L1Laplace\n",
    "lam_final = 1e-3\n",
    "size_final = int(n ** 0.5)\n",
    "rls_oversample_param = 5.0"
   ]
  },
  {
   "cell_type": "code",
   "execution_count": 16,
   "metadata": {},
   "outputs": [
    {
     "name": "stdout",
     "output_type": "stream",
     "text": [
      "[KeOps] Generating code for Sum_Reduction reduction (with parameters 0) of formula Exp(-Sum(Abs(a-b))/c)*d with a=Var(0,435,0), b=Var(1,435,1), c=Var(2,1,2), d=Var(3,1574,1) ... "
     ]
    },
    {
     "name": "stderr",
     "output_type": "stream",
     "text": [
      "/tmp/ipykernel_4086692/4085678775.py:19: UserWarning: To copy construct from a tensor, it is recommended to use sourceTensor.clone().detach() or sourceTensor.clone().detach().requires_grad_(True), rather than torch.tensor(sourceTensor).\n",
      "  nb_iter_bless = torch.ceil(torch.log2(torch.tensor(lam_init))).int().item()\n",
      "/tmp/ipykernel_4086692/4085678775.py:22: UserWarning: To copy construct from a tensor, it is recommended to use sourceTensor.clone().detach() or sourceTensor.clone().detach().requires_grad_(True), rather than torch.tensor(sourceTensor).\n",
      "  lam_final)), torch.log(torch.tensor(lam_init)), nb_iter_bless)).tolist()\n"
     ]
    },
    {
     "name": "stdout",
     "output_type": "stream",
     "text": [
      "OK\n",
      "[KeOps] Generating code for Sum_Reduction reduction (with parameters 0) of formula Exp(-Sum(Abs(a-b))/c)*d with a=Var(0,435,1), b=Var(1,435,0), c=Var(2,1,2), d=Var(3,1574,1) ... OK\n",
      "[KeOps] Generating code for Sum_Reduction reduction (with parameters 0) of formula Exp(-Sum(Abs(a-b))/c)*d with a=Var(0,435,0), b=Var(1,435,1), c=Var(2,1,2), d=Var(3,148,1) ... OK\n",
      "[KeOps] Generating code for Sum_Reduction reduction (with parameters 0) of formula Exp(-Sum(Abs(a-b))/c)*d with a=Var(0,435,1), b=Var(1,435,0), c=Var(2,1,2), d=Var(3,148,1) ... OK\n",
      "[KeOps] Generating code for Sum_Reduction reduction (with parameters 0) of formula Exp(-Sum(Abs(a-b))/c)*d with a=Var(0,435,0), b=Var(1,435,1), c=Var(2,1,2), d=Var(3,209,1) ... OK\n",
      "[KeOps] Generating code for Sum_Reduction reduction (with parameters 0) of formula Exp(-Sum(Abs(a-b))/c)*d with a=Var(0,435,1), b=Var(1,435,0), c=Var(2,1,2), d=Var(3,209,1) ... OK\n",
      "[KeOps] Generating code for Sum_Reduction reduction (with parameters 0) of formula Exp(-Sum(Abs(a-b))/c)*d with a=Var(0,435,0), b=Var(1,435,1), c=Var(2,1,2), d=Var(3,434,1) ... OK\n",
      "[KeOps] Generating code for Sum_Reduction reduction (with parameters 0) of formula Exp(-Sum(Abs(a-b))/c)*d with a=Var(0,435,1), b=Var(1,435,0), c=Var(2,1,2), d=Var(3,434,1) ... OK\n",
      "[KeOps] Generating code for Sum_Reduction reduction (with parameters 0) of formula Exp(-Sum(Abs(a-b))/c)*d with a=Var(0,435,0), b=Var(1,435,1), c=Var(2,1,2), d=Var(3,677,1) ... OK\n",
      "[KeOps] Generating code for Sum_Reduction reduction (with parameters 0) of formula Exp(-Sum(Abs(a-b))/c)*d with a=Var(0,435,1), b=Var(1,435,0), c=Var(2,1,2), d=Var(3,677,1) ... OK\n",
      "[KeOps] Generating code for Sum_Reduction reduction (with parameters 0) of formula Exp(-Sum(Abs(a-b))/c)*d with a=Var(0,435,0), b=Var(1,435,1), c=Var(2,1,2), d=Var(3,1169,1) ... OK\n",
      "[KeOps] Generating code for Sum_Reduction reduction (with parameters 0) of formula Exp(-Sum(Abs(a-b))/c)*d with a=Var(0,435,1), b=Var(1,435,0), c=Var(2,1,2), d=Var(3,1169,1) ... OK\n",
      "[KeOps] Generating code for Sum_Reduction reduction (with parameters 0) of formula Exp(-Sum(Abs(a-b))/c)*d with a=Var(0,435,0), b=Var(1,435,1), c=Var(2,1,2), d=Var(3,1980,1) ... OK\n",
      "[KeOps] Generating code for Sum_Reduction reduction (with parameters 0) of formula Exp(-Sum(Abs(a-b))/c)*d with a=Var(0,435,1), b=Var(1,435,0), c=Var(2,1,2), d=Var(3,1980,1) ... OK\n",
      "[KeOps] Generating code for Sum_Reduction reduction (with parameters 0) of formula Exp(-Sum(Abs(a-b))/c)*d with a=Var(0,435,0), b=Var(1,435,1), c=Var(2,1,2), d=Var(3,2990,1) ... OK\n",
      "[KeOps] Generating code for Sum_Reduction reduction (with parameters 0) of formula Exp(-Sum(Abs(a-b))/c)*d with a=Var(0,435,1), b=Var(1,435,0), c=Var(2,1,2), d=Var(3,2990,1) ... OK\n",
      "[KeOps] Generating code for Sum_Reduction reduction (with parameters 0) of formula Exp(-Sum(Abs(a-b))/c)*d with a=Var(0,435,0), b=Var(1,435,1), c=Var(2,1,2), d=Var(3,4799,1) ... OK\n",
      "[KeOps] Generating code for Sum_Reduction reduction (with parameters 0) of formula Exp(-Sum(Abs(a-b))/c)*d with a=Var(0,435,1), b=Var(1,435,0), c=Var(2,1,2), d=Var(3,4799,1) ... OK\n"
     ]
    }
   ],
   "source": [
    "dict_reduced, _, _ = bless_size(X, kernel, kernel_params, kernel_class,\n",
    "                                size_final, rls_oversample_param)\n",
    "rls_approx = estimate_rls_bless(\n",
    "    dict_reduced, X, kernel, kernel_params, kernel_class, lam_final)"
   ]
  },
  {
   "cell_type": "code",
   "execution_count": 17,
   "metadata": {},
   "outputs": [
    {
     "name": "stdout",
     "output_type": "stream",
     "text": [
      "Number of selected centers = 4799\n"
     ]
    }
   ],
   "source": [
    "print(f\"Number of selected centers = {dict_reduced.X.shape[0]}\")"
   ]
  },
  {
   "cell_type": "code",
   "execution_count": 18,
   "metadata": {},
   "outputs": [
    {
     "data": {
      "text/plain": [
       "<matplotlib.legend.Legend at 0x7ff625c3fb50>"
      ]
     },
     "execution_count": 18,
     "metadata": {},
     "output_type": "execute_result"
    },
    {
     "data": {
      "image/png": "[encoded data removed]",
      "text/plain": [
       "<Figure size 640x480 with 1 Axes>"
      ]
     },
     "metadata": {},
     "output_type": "display_data"
    }
   ],
   "source": [
    "plt.hist(rls_approx.cpu().numpy(), bins=100, alpha=0.5, label='Approx RLS')\n",
    "plt.legend()"
   ]
  },
  {
   "cell_type": "code",
   "execution_count": 19,
   "metadata": {},
   "outputs": [
    {
     "data": {
      "text/plain": [
       "<matplotlib.legend.Legend at 0x7ff66940a6e0>"
      ]
     },
     "execution_count": 19,
     "metadata": {},
     "output_type": "execute_result"
    },
    {
     "data": {
      "image/png": "[encoded data removed]",
      "text/plain": [
       "<Figure size 640x480 with 1 Axes>"
      ]
     },
     "metadata": {},
     "output_type": "display_data"
    }
   ],
   "source": [
    "filtered_data = rls_approx[rls_approx > 10].cpu().numpy()\n",
    "plt.hist(filtered_data, bins=100, alpha=0.5, label='Approx RLS')\n",
    "plt.legend()"
   ]
  },
  {
   "cell_type": "code",
   "execution_count": 20,
   "metadata": {},
   "outputs": [],
   "source": [
    "# torch.max(rls_approx)\n",
    "# torch.min(rls_approx)\n",
    "# torch.sum(rls_approx)"
   ]
  }
 ],
 "metadata": {
  "kernelspec": {
   "display_name": "fast_krr_env",
   "language": "python",
   "name": "python3"
  },
  "language_info": {
   "codemirror_mode": {
    "name": "ipython",
    "version": 3
   },
   "file_extension": ".py",
   "mimetype": "text/x-python",
   "name": "python",
   "nbconvert_exporter": "python",
   "pygments_lexer": "ipython3",
   "version": "3.10.12"
  }
 },
 "nbformat": 4,
 "nbformat_minor": 2
}
