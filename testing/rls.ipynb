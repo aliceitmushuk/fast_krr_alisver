{
 "cells": [
  {
   "cell_type": "code",
   "execution_count": 24,
   "metadata": {},
   "outputs": [],
   "source": [
    "import math\n",
    "import torch\n",
    "from pykeops.torch import LazyTensor\n",
    "from sklearn.datasets import load_svmlight_file\n",
    "from sklearn.preprocessing import StandardScaler\n",
    "import matplotlib.pyplot as plt"
   ]
  },
  {
   "cell_type": "code",
   "execution_count": 25,
   "metadata": {},
   "outputs": [],
   "source": [
    "def rbf(sigma, device, X1, X2=None):\n",
    "    x1_lazy = LazyTensor(X1[:, None, :])\n",
    "    if X2 is None:\n",
    "        x2_lazy = LazyTensor(X1[None, :, :])\n",
    "    else:\n",
    "        x2_lazy = LazyTensor(X2[None, :, :])\n",
    "\n",
    "    D = ((x1_lazy - x2_lazy) ** 2).sum(dim=2)\n",
    "    K = (-D / (2 * sigma ** 2)).exp()\n",
    "\n",
    "    identity_shape = X1.shape[0] if X2 is None else X2.shape[0]\n",
    "    return K @ torch.eye(identity_shape, device=device)"
   ]
  },
  {
   "cell_type": "code",
   "execution_count": 26,
   "metadata": {},
   "outputs": [
    {
     "data": {
      "text/plain": [
       "<torch._C.Generator at 0x7f9889943310>"
      ]
     },
     "execution_count": 26,
     "metadata": {},
     "output_type": "execute_result"
    }
   ],
   "source": [
    "torch.manual_seed(0)"
   ]
  },
  {
   "cell_type": "code",
   "execution_count": 27,
   "metadata": {},
   "outputs": [],
   "source": [
    "device = torch.device(\"cuda\" if torch.cuda.is_available() else \"cpu\")"
   ]
  },
  {
   "cell_type": "code",
   "execution_count": 28,
   "metadata": {},
   "outputs": [],
   "source": [
    "# m = 10000\n",
    "# d = 20\n",
    "sigma = 10.0\n",
    "delta = 0.01\n",
    "lambd = 1.0\n",
    "n_components = 100\n",
    "# X = torch.randn(m, d, device=device)\n",
    "\n",
    "# Load data and standardize\n",
    "X, y = load_svmlight_file(\"../data/cod-rna\")\n",
    "X = X.toarray()\n",
    "X = X[:5000, :] # Subsample\n",
    "scaler = StandardScaler()\n",
    "X = scaler.fit_transform(X)\n",
    "X = torch.tensor(X, device=device, dtype=torch.float32)\n",
    "\n",
    "# kernel_fn = lambda Y: rbf(sigma, device, Y, None)\n",
    "\n",
    "def kernel_fn(Y1, Y2=None):\n",
    "    return rbf(sigma, device, Y1, Y2)"
   ]
  },
  {
   "cell_type": "markdown",
   "metadata": {},
   "source": [
    "### Alg. 2 from \"Recursive Sampling for the Nyström Method\" by Musco & Musco (2017)"
   ]
  },
  {
   "cell_type": "code",
   "execution_count": 29,
   "metadata": {},
   "outputs": [],
   "source": [
    "def rrls_nystrom2(X, kernel_fn, lambd, delta, device):\n",
    "    m, _ = X.shape\n",
    "    print(f\"m ub = {192 * torch.log(1/delta)}\")\n",
    "    if m <= 192 * torch.log(1 / delta):\n",
    "        return torch.eye(m, device=device)\n",
    "    \n",
    "    # Sample rows of X independently, each with probability 1/2\n",
    "    S_bar = torch.bernoulli(0.5 * torch.ones(m, device=device)).bool()\n",
    "    S_bar_mat = torch.zeros(m, torch.sum(S_bar), device=device)\n",
    "    S_bar_mat[S_bar, torch.arange(torch.sum(S_bar))] = 1\n",
    "    S_til = rrls_nystrom2(X[S_bar], kernel_fn, lambd, delta / 3, device)\n",
    "    print(f\"S_bar_mat.shape = {S_bar_mat.shape}\")\n",
    "    print(f\"S_til.shape = {S_til.shape}\")\n",
    "    S_hat = S_bar_mat @ S_til # TODO(pratik): Try making this more efficient in the future\n",
    "\n",
    "    # Compute approximate leverage scores\n",
    "    K = kernel_fn(X)\n",
    "    S_hatT_K = S_hat.T @ K\n",
    "    C = S_hatT_K @ S_hat # TODO(pratik): optimize this -- think of it as taking the block kernel followed by column/row scaling\n",
    "    C.diagonal().add_(lambd)\n",
    "    L = torch.linalg.cholesky(C)\n",
    "    nys_sqrt = torch.linalg.solve_triangular(L, S_hatT_K, upper=False)\n",
    "\n",
    "    l_tilde = 3/(2 * lambd) * (torch.diagonal(K) - torch.sum(nys_sqrt ** 2, dim=0))\n",
    "    print(f\"min of unscaled leverage scores = {torch.min(torch.diagonal(K) - torch.sum(nys_sqrt ** 2, dim=0))}\")\n",
    "    print(f\"max of unscaled leverage scores = {torch.max(torch.diagonal(K) - torch.sum(nys_sqrt ** 2, dim=0))}\")\n",
    "    adj_factor = torch.log(torch.sum(l_tilde) / delta)\n",
    "    print(\n",
    "        f\"min of adjusted leverage scores = {torch.min(adj_factor * l_tilde)}\")\n",
    "    p = torch.minimum(torch.ones(m, device=device), adj_factor * l_tilde)\n",
    "    # print(f\"min of adjusted leverage scores = {torch.min(16 * adj_factor * l_tilde)}\")\n",
    "    # p = torch.minimum(torch.ones(m, device=device), 16 * adj_factor * l_tilde)\n",
    "\n",
    "    # Form the new sampling matrix\n",
    "    sampling_vector = torch.bernoulli(p)\n",
    "    # Find indices of sampling_vector that equal 1\n",
    "    sampling_indices = torch.nonzero(sampling_vector == 1).squeeze()\n",
    "    num_columns = sampling_indices.shape[0]\n",
    "    S = torch.zeros(m, num_columns, device=device)\n",
    "    S[sampling_indices, torch.arange(num_columns)] = 1 / torch.sqrt(p[sampling_indices])\n",
    "    return S"
   ]
  },
  {
   "cell_type": "markdown",
   "metadata": {},
   "source": [
    "### Alg. 3 from \"Recursive Sampling for the Nyström Method\" by Musco & Musco (2017)"
   ]
  },
  {
   "cell_type": "code",
   "execution_count": 30,
   "metadata": {},
   "outputs": [],
   "source": [
    "def rrls_nystrom3(X, n_components, kernel_fn, device, accelerated=False, lambd_0=0, return_leverage_scores=False):\n",
    "    n_oversample = torch.log(n_components)\n",
    "    k = torch.ceil(n_components / (4 * n_oversample)).int()\n",
    "    n_levels = torch.ceil(torch.log2(X.shape[0] / n_components)).int()\n",
    "    perm = torch.randperm(X.shape[0])\n",
    "\n",
    "    # Set up sizes for recursive levels\n",
    "    size_list = [X.shape[0]]\n",
    "    for _ in range(n_levels):\n",
    "        size_list.append(math.ceil(size_list[-1] / 2))\n",
    "\n",
    "    # Indices of points selected at previous level of recursion\n",
    "    # At the base level it's just a uniform sample of ~ n_components points\n",
    "    sample = torch.arange(size_list[-1])\n",
    "    indices = perm[sample]\n",
    "    weights = torch.ones(indices.shape[0], device=device)\n",
    "\n",
    "    # Compute whole diagonal of kernel matrix\n",
    "    K_diag = kernel_fn(X).diagonal()\n",
    "\n",
    "    # Main recursion, unrolled for efficiency\n",
    "    for l in reversed(range(n_levels)):\n",
    "        # Indices of current uniform sample\n",
    "        current_indices = perm[:size_list[l]]\n",
    "\n",
    "        # Build sampled kernel matrix\n",
    "        KS = kernel_fn(X[current_indices, :], X[indices, :])\n",
    "        SKS = KS[sample, :]\n",
    "\n",
    "        # Optimal lambda for taking O(klog(k)) samples\n",
    "        if k >= SKS.shape[0]:\n",
    "            # For the rare chance we take less than k samples in a round\n",
    "            # Don't set to exactly 0 to avoid stability issues\n",
    "            lambd = 1e-5\n",
    "        else:\n",
    "            # Eigenvalues equal roughly the number of points per cluster, maybe this should scale with n?\n",
    "            # Can be interpreted as the zoom level\n",
    "            # TODO(pratik): use lobpcg to compute the top k eigenvalues\n",
    "            lambd = (torch.sum(SKS.diagonal() * (weights ** 2)) \n",
    "                     - torch.sum(torch.linalg.eigvalsh(SKS * weights[:, None] * weights[None, :])[:k]))/k\n",
    "        lambd = max(lambd_0 * SKS.shape[0], lambd)\n",
    "\n",
    "        # Compute and sample by lambd ridge leverage scores\n",
    "        SKS.diagonal().add_(lambd * (weights ** (-2)))\n",
    "        R = torch.linalg.inv(SKS) # TODO(pratik): use cholesky here\n",
    "        R = KS @ R\n",
    "        if l > 0:\n",
    "            # max(0, .) is to avoid numerical issues, unnecessary in theory\n",
    "            leverage_score = torch.minimum(torch.tensor([1.], device=device), n_oversample * (1/ lambd) * torch.relu(\n",
    "                                (K_diag[current_indices] - torch.sum(R * KS, dim=1))))\n",
    "            # On intermediate levels, we independently sample each column\n",
    "            # by its leverage score. The sample size is n_components in expectation\n",
    "            sample = torch.bernoulli(leverage_score).bool()\n",
    "            sample = torch.arange(current_indices.shape[0], device=device)[sample]\n",
    "            # With very low probabiltity, we could accidentally sample no\n",
    "            # Columns. In this case, just take a fixed size uniform sample\n",
    "            if torch.sum(sample) == 0:\n",
    "                leverage_score = torch.ones(current_indices.shape[0], device=device) * n_components / current_indices.shape[0]\n",
    "                sample = torch.randperm(current_indices.shape[0])[:n_components]\n",
    "            weights = 1 / torch.sqrt(leverage_score[sample])\n",
    "        else:\n",
    "            leverage_score = torch.minimum(torch.tensor([1.], device=device), (1 / lambd) * torch.relu(\n",
    "                                (K_diag[current_indices] - torch.sum(R * KS, dim=1))))\n",
    "            p = leverage_score / torch.sum(leverage_score)\n",
    "            sample = torch.multinomial(p, int(n_components.item()), replacement=False)\n",
    "        indices = perm[sample]\n",
    "\n",
    "    if return_leverage_scores:\n",
    "        return indices, leverage_score[torch.argsort(perm)]\n",
    "    else:\n",
    "        return indices"
   ]
  },
  {
   "cell_type": "markdown",
   "metadata": {},
   "source": [
    "### Try out RRLS methods"
   ]
  },
  {
   "cell_type": "code",
   "execution_count": 31,
   "metadata": {},
   "outputs": [],
   "source": [
    "# S = rrls_nystrom2(X, kernel_fn, lambd, torch.tensor([delta], device=device), device)"
   ]
  },
  {
   "cell_type": "code",
   "execution_count": 32,
   "metadata": {},
   "outputs": [],
   "source": [
    "# S"
   ]
  },
  {
   "cell_type": "code",
   "execution_count": 33,
   "metadata": {},
   "outputs": [],
   "source": [
    "# S.shape"
   ]
  },
  {
   "cell_type": "code",
   "execution_count": 34,
   "metadata": {},
   "outputs": [
    {
     "name": "stdout",
     "output_type": "stream",
     "text": [
      "[KeOps] Generating code for Sum_Reduction reduction (with parameters 0) of formula Exp(-Sum((a-b)**2)/c)*d with a=Var(0,8,0), b=Var(1,8,1), c=Var(2,1,2), d=Var(3,9,1) ... OK\n",
      "[pyKeOps] Compiling pykeops cpp 048c84488a module ... OK\n",
      "[KeOps] Generating code for Sum_Reduction reduction (with parameters 0) of formula Exp(-Sum((a-b)**2)/c)*d with a=Var(0,8,0), b=Var(1,8,1), c=Var(2,1,2), d=Var(3,16,1) ... OK\n",
      "[pyKeOps] Compiling pykeops cpp fdcda683f2 module ... OK\n",
      "[KeOps] Generating code for Sum_Reduction reduction (with parameters 0) of formula Exp(-Sum((a-b)**2)/c)*d with a=Var(0,8,0), b=Var(1,8,1), c=Var(2,1,2), d=Var(3,8,1) ... OK\n",
      "[pyKeOps] Compiling pykeops cpp 17926b869d module ... OK\n",
      "[KeOps] Generating code for Sum_Reduction reduction (with parameters 0) of formula Exp(-Sum((a-b)**2)/c)*d with a=Var(0,8,0), b=Var(1,8,1), c=Var(2,1,2), d=Var(3,26,1) ... OK\n",
      "[pyKeOps] Compiling pykeops cpp 0ed9049078 module ... OK\n"
     ]
    }
   ],
   "source": [
    "indices_rrls, leverage_scores_rrls = rrls_nystrom3(X, torch.tensor([n_components]), kernel_fn, device, return_leverage_scores=True)"
   ]
  },
  {
   "cell_type": "code",
   "execution_count": 35,
   "metadata": {},
   "outputs": [],
   "source": [
    "# indices_rrls"
   ]
  },
  {
   "cell_type": "code",
   "execution_count": 36,
   "metadata": {},
   "outputs": [],
   "source": [
    "# leverage_scores_rrls"
   ]
  },
  {
   "cell_type": "code",
   "execution_count": 37,
   "metadata": {},
   "outputs": [],
   "source": [
    "# plt.hist(leverage_scores_rrls.cpu().numpy(), bins=100)"
   ]
  },
  {
   "cell_type": "code",
   "execution_count": 38,
   "metadata": {},
   "outputs": [],
   "source": [
    "def nystrom(X, indices, kernel_fn, device):\n",
    "    C = kernel_fn(X[indices], X[indices])\n",
    "    shift = 1e-5\n",
    "    C.diagonal().add_(shift) # For stability\n",
    "    KS = kernel_fn(X, X[indices])\n",
    "\n",
    "    L = torch.linalg.cholesky(C)\n",
    "    nys_sqrt = torch.linalg.solve_triangular(L, KS.T, upper=False)\n",
    "    _, S, VT = torch.linalg.svd(nys_sqrt, full_matrices=False)\n",
    "    S = torch.max(torch.tensor([0.], device=device), S ** 2 - shift)\n",
    "\n",
    "    return VT.T @ torch.diag(S) @ VT"
   ]
  },
  {
   "cell_type": "code",
   "execution_count": 39,
   "metadata": {},
   "outputs": [
    {
     "name": "stdout",
     "output_type": "stream",
     "text": [
      "RRLS error = 0.04152042791247368\n",
      "Random error = 0.8579890131950378\n"
     ]
    }
   ],
   "source": [
    "K_rrls = nystrom(X, indices_rrls, kernel_fn, device)\n",
    "\n",
    "# Sample indices uniformly at random\n",
    "indices_rand = torch.randperm(X.shape[0])[:n_components]\n",
    "K_rand = nystrom(X, indices_rand, kernel_fn, device)\n",
    "\n",
    "# Full kernel matrix\n",
    "K_full = kernel_fn(X)\n",
    "# Compute eigendecomposition of full kernel matrix\n",
    "eigvals, eigvecs = torch.linalg.eigh(K_full)\n",
    "eigvals_trunc = eigvals[-n_components:]\n",
    "eigvecs_trunc = eigvecs[:, -n_components:]\n",
    "K_lr = eigvecs_trunc @ torch.diag(eigvals_trunc) @ eigvecs_trunc.T\n",
    "\n",
    "# Compute spectral norm of difference between approximations and K_full\n",
    "rrls_err = torch.linalg.norm(K_rrls - K_full, ord=2)\n",
    "rand_err = torch.linalg.norm(K_rand - K_full, ord=2)\n",
    "\n",
    "print(f\"RRLS error = {rrls_err}\")\n",
    "print(f\"Random error = {rand_err}\")"
   ]
  },
  {
   "cell_type": "markdown",
   "metadata": {},
   "source": [
    "### Compute exact leverage scores"
   ]
  },
  {
   "cell_type": "code",
   "execution_count": 40,
   "metadata": {},
   "outputs": [],
   "source": [
    "def leverage_scores(K, lambd):\n",
    "    L = torch.linalg.cholesky(K + lambd * torch.eye(K.shape[0], device=device))\n",
    "\n",
    "    # L^-T L^-1 K\n",
    "    L_inv_K = torch.linalg.solve_triangular(L, K, upper=False)\n",
    "    LT_inv_L_inv_K = torch.linalg.solve_triangular(L.T, L_inv_K, upper=True)\n",
    "\n",
    "    leverage_scores = torch.diagonal(LT_inv_L_inv_K)\n",
    "\n",
    "    return leverage_scores"
   ]
  },
  {
   "cell_type": "code",
   "execution_count": 41,
   "metadata": {},
   "outputs": [],
   "source": [
    "def eff_dim(K, lambd):\n",
    "    eigs_K_reg = torch.linalg.eigvalsh(K)\n",
    "    return torch.sum(eigs_K_reg / (eigs_K_reg + lambd))"
   ]
  },
  {
   "cell_type": "code",
   "execution_count": 42,
   "metadata": {},
   "outputs": [],
   "source": [
    "# K = rbf(sigma, device, X)\n",
    "# L = torch.linalg.cholesky(K + lambd * torch.eye(X.shape[0], device=device))\n",
    "\n",
    "# # L^-T L^-1 K\n",
    "# L_inv_K = torch.linalg.solve_triangular(L, K, upper=False)\n",
    "# LT_inv_L_inv_K = torch.linalg.solve_triangular(L.T, L_inv_K, upper=True)\n",
    "\n",
    "# leverage_scores = torch.diagonal(LT_inv_L_inv_K)\n",
    "\n",
    "leverage_scores_full = leverage_scores(K_full, lambd)\n",
    "leverage_scores_rrls = leverage_scores(K_rrls, lambd)\n",
    "leverage_scores_rand = leverage_scores(K_rand, lambd)"
   ]
  },
  {
   "cell_type": "code",
   "execution_count": 43,
   "metadata": {},
   "outputs": [
    {
     "data": {
      "text/plain": [
       "(array([1.263e+03, 1.600e+03, 8.490e+02, 3.990e+02, 2.490e+02, 1.830e+02,\n",
       "        1.150e+02, 8.800e+01, 4.900e+01, 2.800e+01, 2.800e+01, 9.000e+00,\n",
       "        1.300e+01, 1.500e+01, 1.000e+01, 1.600e+01, 1.600e+01, 6.000e+00,\n",
       "        6.000e+00, 1.000e+00, 1.200e+01, 6.000e+00, 4.000e+00, 7.000e+00,\n",
       "        2.000e+00, 5.000e+00, 1.000e+00, 1.000e+00, 0.000e+00, 0.000e+00,\n",
       "        2.000e+00, 0.000e+00, 0.000e+00, 0.000e+00, 3.000e+00, 0.000e+00,\n",
       "        2.000e+00, 3.000e+00, 1.000e+00, 0.000e+00, 0.000e+00, 0.000e+00,\n",
       "        2.000e+00, 0.000e+00, 1.000e+00, 0.000e+00, 0.000e+00, 0.000e+00,\n",
       "        0.000e+00, 0.000e+00, 2.000e+00, 1.000e+00, 0.000e+00, 0.000e+00,\n",
       "        0.000e+00, 0.000e+00, 0.000e+00, 0.000e+00, 0.000e+00, 0.000e+00,\n",
       "        0.000e+00, 0.000e+00, 0.000e+00, 0.000e+00, 0.000e+00, 1.000e+00,\n",
       "        0.000e+00, 0.000e+00, 0.000e+00, 0.000e+00, 0.000e+00, 0.000e+00,\n",
       "        0.000e+00, 0.000e+00, 0.000e+00, 0.000e+00, 0.000e+00, 0.000e+00,\n",
       "        0.000e+00, 0.000e+00, 0.000e+00, 0.000e+00, 0.000e+00, 0.000e+00,\n",
       "        0.000e+00, 0.000e+00, 0.000e+00, 0.000e+00, 0.000e+00, 0.000e+00,\n",
       "        0.000e+00, 0.000e+00, 0.000e+00, 0.000e+00, 0.000e+00, 0.000e+00,\n",
       "        0.000e+00, 0.000e+00, 0.000e+00, 1.000e+00]),\n",
       " array([0.00044002, 0.0013688 , 0.00229758, 0.00322636, 0.00415514,\n",
       "        0.00508393, 0.00601271, 0.00694149, 0.00787027, 0.00879905,\n",
       "        0.00972783, 0.01065661, 0.0115854 , 0.01251418, 0.01344296,\n",
       "        0.01437174, 0.01530052, 0.0162293 , 0.01715809, 0.01808687,\n",
       "        0.01901565, 0.01994443, 0.02087321, 0.02180199, 0.02273078,\n",
       "        0.02365956, 0.02458834, 0.02551712, 0.0264459 , 0.02737468,\n",
       "        0.02830346, 0.02923224, 0.03016103, 0.03108981, 0.03201859,\n",
       "        0.03294737, 0.03387615, 0.03480494, 0.03573371, 0.0366625 ,\n",
       "        0.03759128, 0.03852006, 0.03944884, 0.04037762, 0.04130641,\n",
       "        0.04223519, 0.04316397, 0.04409275, 0.04502153, 0.04595031,\n",
       "        0.04687909, 0.04780788, 0.04873666, 0.04966544, 0.05059422,\n",
       "        0.051523  , 0.05245179, 0.05338057, 0.05430935, 0.05523813,\n",
       "        0.05616691, 0.05709569, 0.05802447, 0.05895326, 0.05988204,\n",
       "        0.06081082, 0.0617396 , 0.06266838, 0.06359717, 0.06452595,\n",
       "        0.06545473, 0.06638351, 0.06731229, 0.06824107, 0.06916985,\n",
       "        0.07009863, 0.07102741, 0.07195619, 0.07288498, 0.07381376,\n",
       "        0.07474254, 0.07567132, 0.0766001 , 0.07752889, 0.07845767,\n",
       "        0.07938645, 0.08031523, 0.08124401, 0.0821728 , 0.08310158,\n",
       "        0.08403036, 0.08495913, 0.08588792, 0.0868167 , 0.08774548,\n",
       "        0.08867426, 0.08960304, 0.09053183, 0.09146061, 0.09238939,\n",
       "        0.09331817]),\n",
       " <BarContainer object of 100 artists>)"
      ]
     },
     "execution_count": 43,
     "metadata": {},
     "output_type": "execute_result"
    },
    {
     "data": {
      "image/png": "[encoded data removed]",
      "text/plain": [
       "<Figure size 640x480 with 1 Axes>"
      ]
     },
     "metadata": {},
     "output_type": "display_data"
    }
   ],
   "source": [
    "plt.hist(leverage_scores_full.cpu().numpy(), bins=100)"
   ]
  },
  {
   "cell_type": "code",
   "execution_count": 44,
   "metadata": {},
   "outputs": [
    {
     "data": {
      "text/plain": [
       "(array([1.015e+03, 1.569e+03, 9.160e+02, 4.710e+02, 2.680e+02, 2.000e+02,\n",
       "        1.380e+02, 1.020e+02, 7.300e+01, 4.100e+01, 2.700e+01, 2.400e+01,\n",
       "        1.400e+01, 1.200e+01, 8.000e+00, 1.300e+01, 1.400e+01, 1.300e+01,\n",
       "        1.200e+01, 7.000e+00, 3.000e+00, 3.000e+00, 8.000e+00, 1.000e+01,\n",
       "        5.000e+00, 3.000e+00, 9.000e+00, 0.000e+00, 1.000e+00, 2.000e+00,\n",
       "        0.000e+00, 0.000e+00, 0.000e+00, 2.000e+00, 0.000e+00, 0.000e+00,\n",
       "        0.000e+00, 3.000e+00, 0.000e+00, 1.000e+00, 1.000e+00, 2.000e+00,\n",
       "        1.000e+00, 1.000e+00, 0.000e+00, 0.000e+00, 0.000e+00, 1.000e+00,\n",
       "        1.000e+00, 0.000e+00, 1.000e+00, 0.000e+00, 0.000e+00, 1.000e+00,\n",
       "        2.000e+00, 0.000e+00, 0.000e+00, 0.000e+00, 0.000e+00, 0.000e+00,\n",
       "        0.000e+00, 0.000e+00, 0.000e+00, 0.000e+00, 0.000e+00, 0.000e+00,\n",
       "        0.000e+00, 0.000e+00, 0.000e+00, 1.000e+00, 0.000e+00, 0.000e+00,\n",
       "        0.000e+00, 0.000e+00, 0.000e+00, 0.000e+00, 0.000e+00, 0.000e+00,\n",
       "        0.000e+00, 0.000e+00, 0.000e+00, 0.000e+00, 0.000e+00, 0.000e+00,\n",
       "        0.000e+00, 0.000e+00, 0.000e+00, 0.000e+00, 0.000e+00, 0.000e+00,\n",
       "        0.000e+00, 0.000e+00, 0.000e+00, 0.000e+00, 0.000e+00, 0.000e+00,\n",
       "        0.000e+00, 0.000e+00, 0.000e+00, 1.000e+00]),\n",
       " array([0.00043804, 0.00125695, 0.00207585, 0.00289476, 0.00371367,\n",
       "        0.00453257, 0.00535148, 0.00617039, 0.00698929, 0.0078082 ,\n",
       "        0.00862711, 0.00944601, 0.01026492, 0.01108383, 0.01190273,\n",
       "        0.01272164, 0.01354055, 0.01435945, 0.01517836, 0.01599727,\n",
       "        0.01681617, 0.01763508, 0.01845399, 0.0192729 , 0.0200918 ,\n",
       "        0.02091071, 0.02172962, 0.02254852, 0.02336743, 0.02418634,\n",
       "        0.02500524, 0.02582415, 0.02664306, 0.02746196, 0.02828087,\n",
       "        0.02909978, 0.02991868, 0.03073759, 0.0315565 , 0.03237541,\n",
       "        0.03319431, 0.03401322, 0.03483212, 0.03565103, 0.03646994,\n",
       "        0.03728884, 0.03810775, 0.03892666, 0.03974557, 0.04056447,\n",
       "        0.04138338, 0.04220229, 0.04302119, 0.0438401 , 0.04465901,\n",
       "        0.04547792, 0.04629682, 0.04711573, 0.04793464, 0.04875354,\n",
       "        0.04957245, 0.05039135, 0.05121026, 0.05202917, 0.05284807,\n",
       "        0.05366698, 0.05448589, 0.0553048 , 0.0561237 , 0.05694261,\n",
       "        0.05776152, 0.05858042, 0.05939933, 0.06021824, 0.06103715,\n",
       "        0.06185605, 0.06267495, 0.06349386, 0.06431277, 0.06513168,\n",
       "        0.06595059, 0.0667695 , 0.0675884 , 0.0684073 , 0.06922621,\n",
       "        0.07004512, 0.07086403, 0.07168293, 0.07250184, 0.07332075,\n",
       "        0.07413965, 0.07495856, 0.07577746, 0.07659637, 0.07741528,\n",
       "        0.07823419, 0.0790531 , 0.079872  , 0.08069091, 0.08150981,\n",
       "        0.08232872]),\n",
       " <BarContainer object of 100 artists>)"
      ]
     },
     "execution_count": 44,
     "metadata": {},
     "output_type": "execute_result"
    },
    {
     "data": {
      "image/png": "[encoded data removed]",
      "text/plain": [
       "<Figure size 640x480 with 1 Axes>"
      ]
     },
     "metadata": {},
     "output_type": "display_data"
    }
   ],
   "source": [
    "plt.hist(leverage_scores_rrls.cpu().numpy(), bins=100)"
   ]
  },
  {
   "cell_type": "code",
   "execution_count": 45,
   "metadata": {},
   "outputs": [
    {
     "data": {
      "text/plain": [
       "(array([1.115e+03, 1.580e+03, 9.060e+02, 4.510e+02, 2.450e+02, 2.060e+02,\n",
       "        1.190e+02, 1.010e+02, 5.200e+01, 3.300e+01, 3.400e+01, 1.500e+01,\n",
       "        1.200e+01, 1.600e+01, 1.000e+01, 1.500e+01, 1.600e+01, 8.000e+00,\n",
       "        4.000e+00, 6.000e+00, 1.100e+01, 4.000e+00, 6.000e+00, 2.000e+00,\n",
       "        6.000e+00, 4.000e+00, 1.000e+00, 1.000e+00, 2.000e+00, 0.000e+00,\n",
       "        4.000e+00, 1.000e+00, 0.000e+00, 0.000e+00, 0.000e+00, 3.000e+00,\n",
       "        3.000e+00, 0.000e+00, 0.000e+00, 2.000e+00, 1.000e+00, 0.000e+00,\n",
       "        1.000e+00, 1.000e+00, 1.000e+00, 0.000e+00, 0.000e+00, 0.000e+00,\n",
       "        0.000e+00, 0.000e+00, 0.000e+00, 0.000e+00, 0.000e+00, 0.000e+00,\n",
       "        0.000e+00, 0.000e+00, 0.000e+00, 0.000e+00, 0.000e+00, 0.000e+00,\n",
       "        0.000e+00, 0.000e+00, 0.000e+00, 0.000e+00, 0.000e+00, 0.000e+00,\n",
       "        0.000e+00, 0.000e+00, 1.000e+00, 0.000e+00, 0.000e+00, 0.000e+00,\n",
       "        0.000e+00, 0.000e+00, 0.000e+00, 0.000e+00, 0.000e+00, 0.000e+00,\n",
       "        0.000e+00, 0.000e+00, 0.000e+00, 0.000e+00, 0.000e+00, 0.000e+00,\n",
       "        0.000e+00, 0.000e+00, 0.000e+00, 0.000e+00, 0.000e+00, 0.000e+00,\n",
       "        0.000e+00, 0.000e+00, 0.000e+00, 0.000e+00, 0.000e+00, 0.000e+00,\n",
       "        0.000e+00, 0.000e+00, 0.000e+00, 1.000e+00]),\n",
       " array([0.00043689, 0.00129671, 0.00215653, 0.00301636, 0.00387618,\n",
       "        0.004736  , 0.00559582, 0.00645565, 0.00731547, 0.00817529,\n",
       "        0.00903512, 0.00989494, 0.01075476, 0.01161459, 0.01247441,\n",
       "        0.01333423, 0.01419405, 0.01505388, 0.0159137 , 0.01677352,\n",
       "        0.01763335, 0.01849317, 0.01935299, 0.02021282, 0.02107264,\n",
       "        0.02193246, 0.02279229, 0.02365211, 0.02451193, 0.02537175,\n",
       "        0.02623158, 0.0270914 , 0.02795122, 0.02881104, 0.02967087,\n",
       "        0.03053069, 0.03139051, 0.03225034, 0.03311016, 0.03396998,\n",
       "        0.03482981, 0.03568963, 0.03654945, 0.03740928, 0.0382691 ,\n",
       "        0.03912892, 0.03998875, 0.04084857, 0.04170839, 0.04256821,\n",
       "        0.04342804, 0.04428786, 0.04514768, 0.04600751, 0.04686733,\n",
       "        0.04772715, 0.04858698, 0.0494468 , 0.05030662, 0.05116645,\n",
       "        0.05202627, 0.05288609, 0.05374591, 0.05460574, 0.05546556,\n",
       "        0.05632538, 0.05718521, 0.05804503, 0.05890485, 0.05976468,\n",
       "        0.0606245 , 0.06148432, 0.06234415, 0.06320397, 0.06406379,\n",
       "        0.06492361, 0.06578343, 0.06664326, 0.06750308, 0.06836291,\n",
       "        0.06922273, 0.07008255, 0.07094237, 0.0718022 , 0.07266202,\n",
       "        0.07352185, 0.07438166, 0.07524149, 0.07610131, 0.07696114,\n",
       "        0.07782096, 0.07868078, 0.0795406 , 0.08040043, 0.08126025,\n",
       "        0.08212008, 0.0829799 , 0.08383972, 0.08469954, 0.08555937,\n",
       "        0.08641919]),\n",
       " <BarContainer object of 100 artists>)"
      ]
     },
     "execution_count": 45,
     "metadata": {},
     "output_type": "execute_result"
    },
    {
     "data": {
      "image/png": "[encoded data removed]",
      "text/plain": [
       "<Figure size 640x480 with 1 Axes>"
      ]
     },
     "metadata": {},
     "output_type": "display_data"
    }
   ],
   "source": [
    "plt.hist(leverage_scores_rand.cpu().numpy(), bins=100)"
   ]
  },
  {
   "cell_type": "code",
   "execution_count": 46,
   "metadata": {},
   "outputs": [
    {
     "name": "stdout",
     "output_type": "stream",
     "text": [
      "Effective dimension of full kernel matrix = 15.328604698181152\n",
      "Effective dimension of RRLS approximation = 15.117136001586914\n",
      "Effective dimension of random approximation = 14.944564819335938\n"
     ]
    }
   ],
   "source": [
    "eff_dim_full = eff_dim(K_full, lambd)\n",
    "eff_dim_rrls = eff_dim(K_rrls, lambd)\n",
    "eff_dim_rand = eff_dim(K_rand, lambd)\n",
    "\n",
    "print(f\"Effective dimension of full kernel matrix = {eff_dim_full}\")\n",
    "print(f\"Effective dimension of RRLS approximation = {eff_dim_rrls}\")\n",
    "print(f\"Effective dimension of random approximation = {eff_dim_rand}\")"
   ]
  }
 ],
 "metadata": {
  "kernelspec": {
   "display_name": "fast_krr_env",
   "language": "python",
   "name": "fast_krr_env"
  },
  "language_info": {
   "codemirror_mode": {
    "name": "ipython",
    "version": 3
   },
   "file_extension": ".py",
   "mimetype": "text/x-python",
   "name": "python",
   "nbconvert_exporter": "python",
   "pygments_lexer": "ipython3",
   "version": "3.10.12"
  }
 },
 "nbformat": 4,
 "nbformat_minor": 2
}
