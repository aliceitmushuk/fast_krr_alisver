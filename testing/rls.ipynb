{
 "cells": [
  {
   "cell_type": "code",
   "execution_count": 1,
   "metadata": {},
   "outputs": [],
   "source": [
    "import math\n",
    "import torch\n",
    "from pykeops.torch import LazyTensor\n",
    "from sklearn.datasets import load_svmlight_file\n",
    "from sklearn.preprocessing import StandardScaler\n",
    "import matplotlib.pyplot as plt\n",
    "\n",
    "# from ..src.data_utils import load_data"
   ]
  },
  {
   "cell_type": "code",
   "execution_count": 2,
   "metadata": {},
   "outputs": [],
   "source": [
    "import sys\n",
    "import os\n",
    "\n",
    "sys.path.append(os.path.abspath(\"..\"))\n",
    "from src.data_utils import load_data"
   ]
  },
  {
   "cell_type": "code",
   "execution_count": 3,
   "metadata": {},
   "outputs": [],
   "source": [
    "def rbf(sigma, device, X1, X2=None):\n",
    "    x1_lazy = LazyTensor(X1[:, None, :])\n",
    "    if X2 is None:\n",
    "        x2_lazy = LazyTensor(X1[None, :, :])\n",
    "    else:\n",
    "        x2_lazy = LazyTensor(X2[None, :, :])\n",
    "\n",
    "    D = ((x1_lazy - x2_lazy) ** 2).sum(dim=2)\n",
    "    K = (-D / (2 * sigma ** 2)).exp()\n",
    "\n",
    "    identity_shape = X1.shape[0] if X2 is None else X2.shape[0]\n",
    "    return K @ torch.eye(identity_shape, device=device)\n",
    "\n",
    "def l1_laplace(sigma, device, X1, X2=None):\n",
    "    x1_lazy = LazyTensor(X1[:, None, :])\n",
    "    if X2 is None:\n",
    "        x2_lazy = LazyTensor(X1[None, :, :])\n",
    "    else:\n",
    "        x2_lazy = LazyTensor(X2[None, :, :])\n",
    "\n",
    "    D = ((x1_lazy - x2_lazy) ** 2).sum(dim=2)\n",
    "    K = (-D / sigma).exp()\n",
    "\n",
    "    identity_shape = X1.shape[0] if X2 is None else X2.shape[0]\n",
    "    return K @ torch.eye(identity_shape, device=device)"
   ]
  },
  {
   "cell_type": "code",
   "execution_count": 4,
   "metadata": {},
   "outputs": [
    {
     "data": {
      "text/plain": [
       "<torch._C.Generator at 0x7f9119b57310>"
      ]
     },
     "execution_count": 4,
     "metadata": {},
     "output_type": "execute_result"
    }
   ],
   "source": [
    "torch.manual_seed(0)"
   ]
  },
  {
   "cell_type": "code",
   "execution_count": 5,
   "metadata": {},
   "outputs": [],
   "source": [
    "device = torch.device(\"cuda:1\" if torch.cuda.is_available() else \"cpu\")"
   ]
  },
  {
   "cell_type": "code",
   "execution_count": 6,
   "metadata": {},
   "outputs": [],
   "source": [
    "sigma = 5120.\n",
    "# delta = 0.01\n",
    "lambd = 1e-3\n",
    "n_components = 4000\n",
    "\n",
    "# Load data and standardize\n",
    "# X, y = load_svmlight_file(\"../data/cod-rna\")\n",
    "X, y, _, _ = load_data(\"homo\", seed=0, device=device)\n",
    "# Get 10000 random samples\n",
    "X = X[torch.randperm(X.shape[0])[:10000]]\n",
    "# X = X.toarray()\n",
    "# # X = X[:5000, :] # Subsample\n",
    "# scaler = StandardScaler()\n",
    "# X = scaler.fit_transform(X)\n",
    "# X = torch.tensor(X, device=device, dtype=torch.float32)\n",
    "\n",
    "def kernel_fn_rbf(Y1, Y2=None):\n",
    "    return rbf(sigma, device, Y1, Y2)\n",
    "\n",
    "\n",
    "def kernel_fn_l1_laplace(Y1, Y2=None):\n",
    "    return l1_laplace(sigma, device, Y1, Y2)"
   ]
  },
  {
   "cell_type": "markdown",
   "metadata": {},
   "source": [
    "### Alg. 2 from \"Recursive Sampling for the Nyström Method\" by Musco & Musco (2017)"
   ]
  },
  {
   "cell_type": "code",
   "execution_count": 7,
   "metadata": {},
   "outputs": [],
   "source": [
    "# def rrls_nystrom2(X, kernel_fn, lambd, delta, device):\n",
    "#     m, _ = X.shape\n",
    "#     print(f\"m ub = {192 * torch.log(1/delta)}\")\n",
    "#     if m <= 192 * torch.log(1 / delta):\n",
    "#         return torch.eye(m, device=device)\n",
    "    \n",
    "#     # Sample rows of X independently, each with probability 1/2\n",
    "#     S_bar = torch.bernoulli(0.5 * torch.ones(m, device=device)).bool()\n",
    "#     S_bar_mat = torch.zeros(m, torch.sum(S_bar), device=device)\n",
    "#     S_bar_mat[S_bar, torch.arange(torch.sum(S_bar))] = 1\n",
    "#     S_til = rrls_nystrom2(X[S_bar], kernel_fn, lambd, delta / 3, device)\n",
    "#     print(f\"S_bar_mat.shape = {S_bar_mat.shape}\")\n",
    "#     print(f\"S_til.shape = {S_til.shape}\")\n",
    "#     S_hat = S_bar_mat @ S_til # TODO(pratik): Try making this more efficient in the future\n",
    "\n",
    "#     # Compute approximate leverage scores\n",
    "#     K = kernel_fn(X)\n",
    "#     S_hatT_K = S_hat.T @ K\n",
    "#     C = S_hatT_K @ S_hat # TODO(pratik): optimize this -- think of it as taking the block kernel followed by column/row scaling\n",
    "#     C.diagonal().add_(lambd)\n",
    "#     L = torch.linalg.cholesky(C)\n",
    "#     nys_sqrt = torch.linalg.solve_triangular(L, S_hatT_K, upper=False)\n",
    "\n",
    "#     l_tilde = 3/(2 * lambd) * (torch.diagonal(K) - torch.sum(nys_sqrt ** 2, dim=0))\n",
    "#     print(f\"min of unscaled leverage scores = {torch.min(torch.diagonal(K) - torch.sum(nys_sqrt ** 2, dim=0))}\")\n",
    "#     print(f\"max of unscaled leverage scores = {torch.max(torch.diagonal(K) - torch.sum(nys_sqrt ** 2, dim=0))}\")\n",
    "#     adj_factor = torch.log(torch.sum(l_tilde) / delta)\n",
    "#     print(\n",
    "#         f\"min of adjusted leverage scores = {torch.min(adj_factor * l_tilde)}\")\n",
    "#     p = torch.minimum(torch.ones(m, device=device), adj_factor * l_tilde)\n",
    "#     # print(f\"min of adjusted leverage scores = {torch.min(16 * adj_factor * l_tilde)}\")\n",
    "#     # p = torch.minimum(torch.ones(m, device=device), 16 * adj_factor * l_tilde)\n",
    "\n",
    "#     # Form the new sampling matrix\n",
    "#     sampling_vector = torch.bernoulli(p)\n",
    "#     # Find indices of sampling_vector that equal 1\n",
    "#     sampling_indices = torch.nonzero(sampling_vector == 1).squeeze()\n",
    "#     num_columns = sampling_indices.shape[0]\n",
    "#     S = torch.zeros(m, num_columns, device=device)\n",
    "#     S[sampling_indices, torch.arange(num_columns)] = 1 / torch.sqrt(p[sampling_indices])\n",
    "#     return S"
   ]
  },
  {
   "cell_type": "markdown",
   "metadata": {},
   "source": [
    "### Alg. 3 from \"Recursive Sampling for the Nyström Method\" by Musco & Musco (2017)"
   ]
  },
  {
   "cell_type": "code",
   "execution_count": 8,
   "metadata": {},
   "outputs": [],
   "source": [
    "def rrls_nystrom3(X, n_components, kernel_fn, device, accelerated=False, lambd_0=0, return_leverage_scores=False):\n",
    "    # TODO(pratik): Add support for accelerated version\n",
    "\n",
    "    n_oversample = torch.log(n_components).item()\n",
    "    k = torch.ceil(n_components / (4 * n_oversample)).int().item()\n",
    "    n_levels = torch.ceil(torch.log2(X.shape[0] / n_components)).int().item()\n",
    "    perm = torch.randperm(X.shape[0], device=device)\n",
    "\n",
    "    # Set up sizes for recursive levels\n",
    "    size_list = [X.shape[0]]\n",
    "    for _ in range(n_levels):\n",
    "        size_list.append(math.ceil(size_list[-1] / 2))\n",
    "\n",
    "    # Indices of points selected at previous level of recursion\n",
    "    # At the base level it's just a uniform sample of ~ n_components points\n",
    "    sample = torch.arange(size_list[-1], device=device)\n",
    "    indices = perm[sample]\n",
    "    weights = torch.ones(indices.shape[0], device=device)\n",
    "\n",
    "    # Compute whole diagonal of kernel matrix\n",
    "    K_diag = kernel_fn(X).diagonal()\n",
    "\n",
    "    # Main recursion, unrolled for efficiency\n",
    "    for l in reversed(range(n_levels)):\n",
    "        # Indices of current uniform sample\n",
    "        current_indices = perm[:size_list[l]]\n",
    "\n",
    "        # Build sampled kernel matrix\n",
    "        KS = kernel_fn(X[current_indices, :], X[indices, :])\n",
    "        SKS = KS[sample, :]\n",
    "\n",
    "        # Optimal lambda for taking O(klog(k)) samples\n",
    "        if k >= SKS.shape[0]:\n",
    "            # For the rare chance we take less than k samples in a round\n",
    "            # Don't set to exactly 0 to avoid stability issues\n",
    "            lambd = 1e-5\n",
    "        else:\n",
    "            # Eigenvalues equal roughly the number of points per cluster, maybe this should scale with n?\n",
    "            # Can be interpreted as the zoom level\n",
    "            # TODO(pratik): use lobpcg to compute the top k eigenvalues\n",
    "            lambd = (torch.sum(SKS.diagonal() * (weights ** 2)) \n",
    "                     - torch.sum(torch.linalg.eigvalsh(SKS * weights[:, None] * weights[None, :])[:k]))/k\n",
    "        lambd = max(lambd_0 * SKS.shape[0], lambd)\n",
    "\n",
    "        # Compute and sample by lambd ridge leverage scores\n",
    "        SKS.diagonal().add_(lambd * (weights ** (-2)))\n",
    "        R = torch.linalg.inv(SKS) # TODO(pratik): use cholesky here\n",
    "        R = KS @ R\n",
    "        if l > 0:\n",
    "            # max(0, .) is to avoid numerical issues, unnecessary in theory\n",
    "            leverage_score = torch.minimum(torch.tensor([1.], device=device), n_oversample * (1/ lambd) * torch.relu(\n",
    "                                (K_diag[current_indices] - torch.sum(R * KS, dim=1))))\n",
    "            # On intermediate levels, we independently sample each column\n",
    "            # by its leverage score. The sample size is n_components in expectation\n",
    "            sample = torch.bernoulli(leverage_score).bool()\n",
    "            sample = torch.arange(current_indices.shape[0], device=device)[sample]\n",
    "            # With very low probabiltity, we could accidentally sample no\n",
    "            # Columns. In this case, just take a fixed size uniform sample\n",
    "            if torch.sum(sample) == 0:\n",
    "                leverage_score = torch.ones(current_indices.shape[0], device=device) * n_components / current_indices.shape[0]\n",
    "                sample = torch.randperm(current_indices.shape[0])[:n_components]\n",
    "            weights = 1 / torch.sqrt(leverage_score[sample])\n",
    "        else:\n",
    "            leverage_score = torch.minimum(torch.tensor([1.], device=device), (1 / lambd) * torch.relu(\n",
    "                                (K_diag[current_indices] - torch.sum(R * KS, dim=1))))\n",
    "            p = leverage_score / torch.sum(leverage_score)\n",
    "            sample = torch.multinomial(p, int(n_components.item()), replacement=False)\n",
    "        indices = perm[sample]\n",
    "\n",
    "    if return_leverage_scores:\n",
    "        return indices, leverage_score[torch.argsort(perm)]\n",
    "    else:\n",
    "        return indices"
   ]
  },
  {
   "cell_type": "markdown",
   "metadata": {},
   "source": [
    "### Try out RRLS methods"
   ]
  },
  {
   "cell_type": "code",
   "execution_count": 9,
   "metadata": {},
   "outputs": [],
   "source": [
    "# S = rrls_nystrom2(X, kernel_fn, lambd, torch.tensor([delta], device=device), device)"
   ]
  },
  {
   "cell_type": "code",
   "execution_count": 10,
   "metadata": {},
   "outputs": [],
   "source": [
    "# S"
   ]
  },
  {
   "cell_type": "code",
   "execution_count": 11,
   "metadata": {},
   "outputs": [],
   "source": [
    "# S.shape"
   ]
  },
  {
   "cell_type": "code",
   "execution_count": 12,
   "metadata": {},
   "outputs": [
    {
     "name": "stdout",
     "output_type": "stream",
     "text": [
      "[KeOps] Generating code for Sum_Reduction reduction (with parameters 0) of formula Exp(-Sum((a-b)**2)/c)*d with a=Var(0,435,0), b=Var(1,435,1), c=Var(2,1,2), d=Var(3,10000,1) ... OK\n",
      "[KeOps] Generating code for Sum_Reduction reduction (with parameters 0) of formula Exp(-Sum((a-b)**2)/c)*d with a=Var(0,435,0), b=Var(1,435,1), c=Var(2,1,2), d=Var(3,2500,1) ... OK\n",
      "[KeOps] Generating code for Sum_Reduction reduction (with parameters 0) of formula Exp(-Sum((a-b)**2)/c)*d with a=Var(0,435,0), b=Var(1,435,1), c=Var(2,1,2), d=Var(3,180,1) ... OK\n"
     ]
    }
   ],
   "source": [
    "indices_rrls, leverage_scores_rrls = rrls_nystrom3(X, torch.tensor([n_components]), kernel_fn_l1_laplace, device, return_leverage_scores=True)"
   ]
  },
  {
   "cell_type": "code",
   "execution_count": 13,
   "metadata": {},
   "outputs": [],
   "source": [
    "# indices_rrls"
   ]
  },
  {
   "cell_type": "code",
   "execution_count": 14,
   "metadata": {},
   "outputs": [],
   "source": [
    "# leverage_scores_rrls"
   ]
  },
  {
   "cell_type": "code",
   "execution_count": 15,
   "metadata": {},
   "outputs": [],
   "source": [
    "# plt.hist(leverage_scores_rrls.cpu().numpy(), bins=100)"
   ]
  },
  {
   "cell_type": "code",
   "execution_count": 16,
   "metadata": {},
   "outputs": [],
   "source": [
    "def nystrom(X, indices, kernel_fn, device):\n",
    "    C = kernel_fn(X[indices], X[indices])\n",
    "    shift = 1e-5\n",
    "    C.diagonal().add_(shift) # For stability\n",
    "    KS = kernel_fn(X, X[indices])\n",
    "\n",
    "    L = torch.linalg.cholesky(C)\n",
    "    nys_sqrt = torch.linalg.solve_triangular(L, KS.T, upper=False)\n",
    "    _, S, VT = torch.linalg.svd(nys_sqrt, full_matrices=False)\n",
    "    S = torch.max(torch.tensor([0.], device=device), S ** 2 - shift)\n",
    "\n",
    "    return VT.T @ torch.diag(S) @ VT"
   ]
  },
  {
   "cell_type": "code",
   "execution_count": 17,
   "metadata": {},
   "outputs": [
    {
     "name": "stdout",
     "output_type": "stream",
     "text": [
      "[KeOps] Generating code for Sum_Reduction reduction (with parameters 0) of formula Exp(-Sum((a-b)**2)/c)*d with a=Var(0,435,0), b=Var(1,435,1), c=Var(2,1,2), d=Var(3,4000,1) ... OK\n",
      "RRLS error = 5.822959899902344\n",
      "Random error = 4.266215801239014\n"
     ]
    }
   ],
   "source": [
    "K_rrls = nystrom(X, indices_rrls, kernel_fn_l1_laplace, device)\n",
    "\n",
    "# Sample indices uniformly at random\n",
    "indices_rand = torch.randperm(X.shape[0])[:n_components]\n",
    "K_rand = nystrom(X, indices_rand, kernel_fn_l1_laplace, device)\n",
    "\n",
    "# Full kernel matrix\n",
    "K_full = kernel_fn_l1_laplace(X)\n",
    "# Compute eigendecomposition of full kernel matrix\n",
    "eigvals, eigvecs = torch.linalg.eigh(K_full)\n",
    "eigvals_trunc = eigvals[-n_components:]\n",
    "eigvecs_trunc = eigvecs[:, -n_components:]\n",
    "K_lr = eigvecs_trunc @ torch.diag(eigvals_trunc) @ eigvecs_trunc.T\n",
    "\n",
    "# Compute spectral norm of difference between approximations and K_full\n",
    "rrls_err = torch.linalg.norm(K_rrls - K_full, ord=2)\n",
    "rand_err = torch.linalg.norm(K_rand - K_full, ord=2)\n",
    "\n",
    "print(f\"RRLS error = {rrls_err}\")\n",
    "print(f\"Random error = {rand_err}\")"
   ]
  },
  {
   "cell_type": "markdown",
   "metadata": {},
   "source": [
    "### Compute exact leverage scores"
   ]
  },
  {
   "cell_type": "code",
   "execution_count": 18,
   "metadata": {},
   "outputs": [],
   "source": [
    "def leverage_scores(K, lambd):\n",
    "    L = torch.linalg.cholesky(K + lambd * torch.eye(K.shape[0], device=device))\n",
    "\n",
    "    # L^-T L^-1 K\n",
    "    L_inv_K = torch.linalg.solve_triangular(L, K, upper=False)\n",
    "    LT_inv_L_inv_K = torch.linalg.solve_triangular(L.T, L_inv_K, upper=True)\n",
    "\n",
    "    leverage_scores = torch.diagonal(LT_inv_L_inv_K)\n",
    "\n",
    "    return leverage_scores"
   ]
  },
  {
   "cell_type": "code",
   "execution_count": 19,
   "metadata": {},
   "outputs": [],
   "source": [
    "def eff_dim(K, lambd):\n",
    "    eigs_K = torch.linalg.eigvalsh(K)\n",
    "    return torch.sum(eigs_K / (eigs_K + lambd))"
   ]
  },
  {
   "cell_type": "code",
   "execution_count": 20,
   "metadata": {},
   "outputs": [],
   "source": [
    "# K = rbf(sigma, device, X)\n",
    "# L = torch.linalg.cholesky(K + lambd * torch.eye(X.shape[0], device=device))\n",
    "\n",
    "# # L^-T L^-1 K\n",
    "# L_inv_K = torch.linalg.solve_triangular(L, K, upper=False)\n",
    "# LT_inv_L_inv_K = torch.linalg.solve_triangular(L.T, L_inv_K, upper=True)\n",
    "\n",
    "# leverage_scores = torch.diagonal(LT_inv_L_inv_K)\n",
    "\n",
    "leverage_scores_full = leverage_scores(K_full, lambd)\n",
    "leverage_scores_rrls = leverage_scores(K_rrls, lambd)\n",
    "leverage_scores_rand = leverage_scores(K_rand, lambd)"
   ]
  },
  {
   "cell_type": "code",
   "execution_count": 21,
   "metadata": {},
   "outputs": [
    {
     "data": {
      "text/plain": [
       "(array([  1.,   0.,   4.,   8.,  12.,  26.,  23.,  50.,  33.,  61.,  85.,\n",
       "         91., 113., 135., 162., 176., 186., 172., 206., 191., 239., 234.,\n",
       "        229., 276., 225., 254., 259., 238., 223., 284., 242., 232., 232.,\n",
       "        247., 211., 226., 221., 178., 188., 197., 166., 166., 184., 155.,\n",
       "        138., 138., 124., 128., 134., 114., 102., 111., 106.,  87.,  81.,\n",
       "         73.,  75.,  69.,  74.,  57.,  39.,  53.,  39.,  33.,  49.,  42.,\n",
       "         40.,  33.,  44.,  33.,  36.,  40.,  48.,  43.,  42.,  40.,  45.,\n",
       "         51.,  47.,  41.,  42.,  44.,  35.,  28.,  29.,  20.,  20.,  21.,\n",
       "         14.,   5.,   1.,   3.,   3.,   0.,   7.,  11.,  33.,  92.,  67.,\n",
       "         35.]),\n",
       " array([0.12736483, 0.13608119, 0.14479755, 0.15351391, 0.16223028,\n",
       "        0.17094664, 0.179663  , 0.18837936, 0.19709572, 0.20581208,\n",
       "        0.21452844, 0.22324482, 0.23196118, 0.24067754, 0.2493939 ,\n",
       "        0.25811026, 0.26682663, 0.27554297, 0.28425935, 0.29297569,\n",
       "        0.30169207, 0.31040844, 0.31912479, 0.32784116, 0.33655751,\n",
       "        0.34527388, 0.35399023, 0.3627066 , 0.37142298, 0.38013932,\n",
       "        0.3888557 , 0.39757204, 0.40628842, 0.41500476, 0.42372113,\n",
       "        0.43243751, 0.44115385, 0.44987023, 0.45858657, 0.46730295,\n",
       "        0.47601932, 0.48473567, 0.49345204, 0.50216842, 0.51088476,\n",
       "        0.51960111, 0.52831745, 0.53703386, 0.5457502 , 0.55446655,\n",
       "        0.56318295, 0.57189929, 0.58061564, 0.58933198, 0.59804839,\n",
       "        0.60676473, 0.61548108, 0.62419748, 0.63291383, 0.64163017,\n",
       "        0.65034652, 0.65906292, 0.66777927, 0.67649561, 0.68521202,\n",
       "        0.69392836, 0.70264471, 0.71136111, 0.72007746, 0.7287938 ,\n",
       "        0.73751014, 0.74622655, 0.75494289, 0.76365924, 0.77237564,\n",
       "        0.78109199, 0.78980833, 0.79852468, 0.80724108, 0.81595743,\n",
       "        0.82467377, 0.83339018, 0.84210652, 0.85082287, 0.85953921,\n",
       "        0.86825562, 0.87697196, 0.8856883 , 0.89440471, 0.90312105,\n",
       "        0.9118374 , 0.92055374, 0.92927015, 0.93798649, 0.94670284,\n",
       "        0.95541924, 0.96413559, 0.97285193, 0.98156828, 0.99028468,\n",
       "        0.99900103]),\n",
       " <BarContainer object of 100 artists>)"
      ]
     },
     "execution_count": 21,
     "metadata": {},
     "output_type": "execute_result"
    },
    {
     "data": {
      "image/png": "[encoded data removed]",
      "text/plain": [
       "<Figure size 640x480 with 1 Axes>"
      ]
     },
     "metadata": {},
     "output_type": "display_data"
    }
   ],
   "source": [
    "plt.hist(leverage_scores_full.cpu().numpy(), bins=100)"
   ]
  },
  {
   "cell_type": "code",
   "execution_count": 22,
   "metadata": {},
   "outputs": [
    {
     "data": {
      "text/plain": [
       "(array([ 15.,  32.,  97., 182., 270., 338., 382., 464., 497., 491., 464.,\n",
       "        423., 389., 368., 318., 282., 257., 226., 203., 192., 158., 180.,\n",
       "        155., 188., 138., 137., 158., 129., 133., 127., 120., 115., 106.,\n",
       "         98.,  92., 100.,  89.,  81.,  97.,  86.,  77.,  62.,  66.,  58.,\n",
       "         50.,  52.,  59.,  47.,  42.,  54.,  46.,  45.,  29.,  37.,  35.,\n",
       "         25.,  28.,  26.,  28.,  25.,  26.,  26.,  28.,  29.,  28.,  25.,\n",
       "         29.,  29.,  20.,  26.,  26.,  22.,  30.,  20.,  24.,  17.,  13.,\n",
       "         11.,  20.,  14.,   5.,  12.,   9.,   5.,   3.,   2.,   2.,   2.,\n",
       "          5.,   4.,   4.,   7.,   9.,  13.,  25.,  35.,  46.,  33.,  20.,\n",
       "         28.]),\n",
       " array([0.05205643, 0.06152587, 0.07099532, 0.08046477, 0.08993421,\n",
       "        0.09940366, 0.10887311, 0.11834255, 0.127812  , 0.13728145,\n",
       "        0.14675088, 0.15622033, 0.16568978, 0.17515923, 0.18462867,\n",
       "        0.19409811, 0.20356756, 0.21303701, 0.22250645, 0.2319759 ,\n",
       "        0.24144535, 0.25091478, 0.26038423, 0.26985368, 0.27932313,\n",
       "        0.28879258, 0.29826203, 0.30773148, 0.31720093, 0.32667035,\n",
       "        0.3361398 , 0.34560925, 0.3550787 , 0.36454815, 0.3740176 ,\n",
       "        0.38348705, 0.3929565 , 0.40242592, 0.41189536, 0.42136481,\n",
       "        0.43083426, 0.44030371, 0.44977316, 0.45924261, 0.46871206,\n",
       "        0.47818151, 0.48765093, 0.49712038, 0.50658983, 0.51605928,\n",
       "        0.52552873, 0.53499818, 0.54446763, 0.55393708, 0.56340653,\n",
       "        0.57287598, 0.58234543, 0.59181488, 0.60128427, 0.61075372,\n",
       "        0.62022316, 0.62969261, 0.63916206, 0.64863151, 0.65810096,\n",
       "        0.66757041, 0.67703986, 0.68650931, 0.69597876, 0.70544821,\n",
       "        0.71491766, 0.72438711, 0.73385656, 0.74332601, 0.75279546,\n",
       "        0.76226485, 0.7717343 , 0.78120375, 0.7906732 , 0.80014265,\n",
       "        0.8096121 , 0.81908154, 0.82855099, 0.83802044, 0.84748989,\n",
       "        0.85695934, 0.86642879, 0.87589824, 0.88536769, 0.89483714,\n",
       "        0.90430659, 0.91377604, 0.92324543, 0.93271488, 0.94218433,\n",
       "        0.95165378, 0.96112323, 0.97059268, 0.98006213, 0.98953158,\n",
       "        0.99900103]),\n",
       " <BarContainer object of 100 artists>)"
      ]
     },
     "execution_count": 22,
     "metadata": {},
     "output_type": "execute_result"
    },
    {
     "data": {
      "image/png": "[encoded data removed]",
      "text/plain": [
       "<Figure size 640x480 with 1 Axes>"
      ]
     },
     "metadata": {},
     "output_type": "display_data"
    }
   ],
   "source": [
    "plt.hist(leverage_scores_rrls.cpu().numpy(), bins=100)"
   ]
  },
  {
   "cell_type": "code",
   "execution_count": 23,
   "metadata": {},
   "outputs": [
    {
     "data": {
      "text/plain": [
       "(array([  1.,   0.,   2.,   1.,   3.,   2.,   0.,  16.,  37.,  95., 143.,\n",
       "        245., 304., 377., 404., 457., 495., 461., 461., 369., 381., 353.,\n",
       "        324., 292., 287., 265., 224., 244., 228., 202., 204., 191., 188.,\n",
       "        156., 159., 158., 128., 103., 134., 128., 124., 100.,  98., 105.,\n",
       "         88.,  75.,  90.,  73.,  52.,  55.,  80.,  65.,  59.,  66.,  57.,\n",
       "         56.,  40.,  39.,  34.,  55.,  33.,  25.,  29.,  31.,  31.,  22.,\n",
       "         19.,  21.,  20.,  14.,  13.,  18.,  11.,  10.,   9.,  10.,  12.,\n",
       "          7.,   6.,   3.,   8.,   6.,   1.,   0.,   1.,   1.,   1.,   1.,\n",
       "          0.,   0.,   0.,   0.,   1.,   1.,   0.,   0.,   0.,   1.,   0.,\n",
       "          1.]),\n",
       " array([1.85872558e-13, 9.45305265e-03, 1.89061053e-02, 2.83591561e-02,\n",
       "        3.78122106e-02, 4.72652614e-02, 5.67183122e-02, 6.61713630e-02,\n",
       "        7.56244212e-02, 8.50774720e-02, 9.45305228e-02, 1.03983574e-01,\n",
       "        1.13436624e-01, 1.22889683e-01, 1.32342726e-01, 1.41795784e-01,\n",
       "        1.51248842e-01, 1.60701886e-01, 1.70154944e-01, 1.79607987e-01,\n",
       "        1.89061046e-01, 1.98514104e-01, 2.07967147e-01, 2.17420205e-01,\n",
       "        2.26873249e-01, 2.36326307e-01, 2.45779365e-01, 2.55232424e-01,\n",
       "        2.64685452e-01, 2.74138510e-01, 2.83591568e-01, 2.93044627e-01,\n",
       "        3.02497685e-01, 3.11950713e-01, 3.21403772e-01, 3.30856830e-01,\n",
       "        3.40309888e-01, 3.49762946e-01, 3.59215975e-01, 3.68669033e-01,\n",
       "        3.78122091e-01, 3.87575150e-01, 3.97028208e-01, 4.06481236e-01,\n",
       "        4.15934294e-01, 4.25387353e-01, 4.34840411e-01, 4.44293469e-01,\n",
       "        4.53746498e-01, 4.63199556e-01, 4.72652614e-01, 4.82105672e-01,\n",
       "        4.91558731e-01, 5.01011789e-01, 5.10464847e-01, 5.19917905e-01,\n",
       "        5.29370904e-01, 5.38823962e-01, 5.48277020e-01, 5.57730079e-01,\n",
       "        5.67183137e-01, 5.76636195e-01, 5.86089253e-01, 5.95542312e-01,\n",
       "        6.04995370e-01, 6.14448428e-01, 6.23901427e-01, 6.33354485e-01,\n",
       "        6.42807543e-01, 6.52260602e-01, 6.61713660e-01, 6.71166718e-01,\n",
       "        6.80619776e-01, 6.90072834e-01, 6.99525893e-01, 7.08978951e-01,\n",
       "        7.18431950e-01, 7.27885008e-01, 7.37338066e-01, 7.46791124e-01,\n",
       "        7.56244183e-01, 7.65697241e-01, 7.75150299e-01, 7.84603357e-01,\n",
       "        7.94056416e-01, 8.03509474e-01, 8.12962472e-01, 8.22415531e-01,\n",
       "        8.31868589e-01, 8.41321647e-01, 8.50774705e-01, 8.60227764e-01,\n",
       "        8.69680822e-01, 8.79133880e-01, 8.88586938e-01, 8.98039997e-01,\n",
       "        9.07492995e-01, 9.16946054e-01, 9.26399112e-01, 9.35852170e-01,\n",
       "        9.45305228e-01]),\n",
       " <BarContainer object of 100 artists>)"
      ]
     },
     "execution_count": 23,
     "metadata": {},
     "output_type": "execute_result"
    },
    {
     "data": {
      "image/png": "[encoded data removed]",
      "text/plain": [
       "<Figure size 640x480 with 1 Axes>"
      ]
     },
     "metadata": {},
     "output_type": "display_data"
    }
   ],
   "source": [
    "plt.hist(leverage_scores_rand.cpu().numpy(), bins=100)"
   ]
  },
  {
   "cell_type": "code",
   "execution_count": 24,
   "metadata": {},
   "outputs": [
    {
     "name": "stdout",
     "output_type": "stream",
     "text": [
      "Effective dimension of full kernel matrix = 4261.5849609375\n",
      "Effective dimension of RRLS approximation = 2451.679443359375\n",
      "Effective dimension of random approximation = 2296.46728515625\n"
     ]
    }
   ],
   "source": [
    "eff_dim_full = eff_dim(K_full, lambd)\n",
    "eff_dim_rrls = eff_dim(K_rrls, lambd)\n",
    "eff_dim_rand = eff_dim(K_rand, lambd)\n",
    "\n",
    "print(f\"Effective dimension of full kernel matrix = {eff_dim_full}\")\n",
    "print(f\"Effective dimension of RRLS approximation = {eff_dim_rrls}\")\n",
    "print(f\"Effective dimension of random approximation = {eff_dim_rand}\")"
   ]
  },
  {
   "cell_type": "code",
   "execution_count": 25,
   "metadata": {},
   "outputs": [
    {
     "name": "stdout",
     "output_type": "stream",
     "text": [
      "Sum of leverage scores for full kernel matrix =  tensor(4566.6992, device='cuda:1')\n"
     ]
    }
   ],
   "source": [
    "print(\"Sum of leverage scores for full kernel matrix = \", torch.sum(leverage_scores_full))"
   ]
  },
  {
   "cell_type": "code",
   "execution_count": 26,
   "metadata": {},
   "outputs": [
    {
     "data": {
      "text/plain": [
       "[<matplotlib.lines.Line2D at 0x7f8fd9a4c4f0>]"
      ]
     },
     "execution_count": 26,
     "metadata": {},
     "output_type": "execute_result"
    },
    {
     "data": {
      "image/png": "[encoded data removed]",
      "text/plain": [
       "<Figure size 640x480 with 1 Axes>"
      ]
     },
     "metadata": {},
     "output_type": "display_data"
    }
   ],
   "source": [
    "plt.semilogy(torch.linalg.eigvalsh(K_full).cpu().numpy())"
   ]
  }
 ],
 "metadata": {
  "kernelspec": {
   "display_name": "fast_krr_env",
   "language": "python",
   "name": "python3"
  },
  "language_info": {
   "codemirror_mode": {
    "name": "ipython",
    "version": 3
   },
   "file_extension": ".py",
   "mimetype": "text/x-python",
   "name": "python",
   "nbconvert_exporter": "python",
   "pygments_lexer": "ipython3",
   "version": "3.10.12"
  }
 },
 "nbformat": 4,
 "nbformat_minor": 2
}
