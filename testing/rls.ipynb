{
 "cells": [
  {
   "cell_type": "code",
   "execution_count": 1,
   "metadata": {},
   "outputs": [],
   "source": [
    "%load_ext autoreload\n",
    "%autoreload 2"
   ]
  },
  {
   "cell_type": "code",
   "execution_count": 2,
   "metadata": {},
   "outputs": [],
   "source": [
    "import math\n",
    "import torch\n",
    "from pykeops.torch import LazyTensor\n",
    "from sklearn.datasets import load_svmlight_file\n",
    "from sklearn.preprocessing import StandardScaler\n",
    "import matplotlib.pyplot as plt\n",
    "\n",
    "# from ..src.data_utils import load_data"
   ]
  },
  {
   "cell_type": "code",
   "execution_count": 3,
   "metadata": {},
   "outputs": [],
   "source": [
    "import sys\n",
    "import os\n",
    "\n",
    "sys.path.append(os.path.abspath(\"..\"))\n",
    "from src.data_utils import load_data"
   ]
  },
  {
   "cell_type": "code",
   "execution_count": 4,
   "metadata": {},
   "outputs": [],
   "source": [
    "def rbf(sigma, device, X1, X2=None):\n",
    "    x1_lazy = LazyTensor(X1[:, None, :])\n",
    "    if X2 is None:\n",
    "        x2_lazy = LazyTensor(X1[None, :, :])\n",
    "    else:\n",
    "        x2_lazy = LazyTensor(X2[None, :, :])\n",
    "\n",
    "    D = ((x1_lazy - x2_lazy) ** 2).sum(dim=2)\n",
    "    K = (-D / (2 * sigma ** 2)).exp()\n",
    "\n",
    "    identity_shape = X1.shape[0] if X2 is None else X2.shape[0]\n",
    "    return K @ torch.eye(identity_shape, device=device)\n",
    "\n",
    "def l1_laplace(sigma, device, X1, X2=None):\n",
    "    x1_lazy = LazyTensor(X1[:, None, :])\n",
    "    if X2 is None:\n",
    "        x2_lazy = LazyTensor(X1[None, :, :])\n",
    "    else:\n",
    "        x2_lazy = LazyTensor(X2[None, :, :])\n",
    "\n",
    "    D = (x1_lazy - x2_lazy).abs().sum(dim=2)\n",
    "    K = (-D / sigma).exp()\n",
    "\n",
    "    identity_shape = X1.shape[0] if X2 is None else X2.shape[0]\n",
    "    return K @ torch.eye(identity_shape, device=device)"
   ]
  },
  {
   "cell_type": "code",
   "execution_count": 5,
   "metadata": {},
   "outputs": [
    {
     "data": {
      "text/plain": [
       "<torch._C.Generator at 0x7f8fec0162b0>"
      ]
     },
     "execution_count": 5,
     "metadata": {},
     "output_type": "execute_result"
    }
   ],
   "source": [
    "torch.manual_seed(0)"
   ]
  },
  {
   "cell_type": "code",
   "execution_count": 6,
   "metadata": {},
   "outputs": [],
   "source": [
    "device = torch.device(\"cuda:1\" if torch.cuda.is_available() else \"cpu\")"
   ]
  },
  {
   "cell_type": "code",
   "execution_count": 7,
   "metadata": {},
   "outputs": [],
   "source": [
    "sigma = 5120.\n",
    "# delta = 0.01\n",
    "lambd = 1e-3\n",
    "n_components = 4000\n",
    "\n",
    "# Load data and standardize\n",
    "# X, y = load_svmlight_file(\"../data/cod-rna\")\n",
    "X, _, _, _ = load_data(\"homo\", seed=0, device=device)\n",
    "# Get 10000 random samples\n",
    "indices = torch.randperm(X.shape[0])[:10000]\n",
    "X = X[indices]\n",
    "# X = X.toarray()\n",
    "# # X = X[:5000, :] # Subsample\n",
    "# scaler = StandardScaler()\n",
    "# X = scaler.fit_transform(X)\n",
    "# X = torch.tensor(X, device=device, dtype=torch.float32)\n",
    "\n",
    "def kernel_fn_rbf(Y1, Y2=None):\n",
    "    return rbf(sigma, device, Y1, Y2)\n",
    "\n",
    "\n",
    "def kernel_fn_l1_laplace(Y1, Y2=None):\n",
    "    return l1_laplace(sigma, device, Y1, Y2)"
   ]
  },
  {
   "cell_type": "code",
   "execution_count": 8,
   "metadata": {},
   "outputs": [
    {
     "name": "stdout",
     "output_type": "stream",
     "text": [
      "tensor([36044, 73702, 76369,  ..., 40528, 84553, 24565])\n"
     ]
    }
   ],
   "source": [
    "print(indices)"
   ]
  },
  {
   "cell_type": "markdown",
   "metadata": {},
   "source": [
    "### Alg. 2 from \"Recursive Sampling for the Nyström Method\" by Musco & Musco (2017)"
   ]
  },
  {
   "cell_type": "code",
   "execution_count": 9,
   "metadata": {},
   "outputs": [],
   "source": [
    "# def rrls_nystrom2(X, kernel_fn, lambd, delta, device):\n",
    "#     m, _ = X.shape\n",
    "#     print(f\"m ub = {192 * torch.log(1/delta)}\")\n",
    "#     if m <= 192 * torch.log(1 / delta):\n",
    "#         return torch.eye(m, device=device)\n",
    "    \n",
    "#     # Sample rows of X independently, each with probability 1/2\n",
    "#     S_bar = torch.bernoulli(0.5 * torch.ones(m, device=device)).bool()\n",
    "#     S_bar_mat = torch.zeros(m, torch.sum(S_bar), device=device)\n",
    "#     S_bar_mat[S_bar, torch.arange(torch.sum(S_bar))] = 1\n",
    "#     S_til = rrls_nystrom2(X[S_bar], kernel_fn, lambd, delta / 3, device)\n",
    "#     print(f\"S_bar_mat.shape = {S_bar_mat.shape}\")\n",
    "#     print(f\"S_til.shape = {S_til.shape}\")\n",
    "#     S_hat = S_bar_mat @ S_til # TODO(pratik): Try making this more efficient in the future\n",
    "\n",
    "#     # Compute approximate leverage scores\n",
    "#     K = kernel_fn(X)\n",
    "#     S_hatT_K = S_hat.T @ K\n",
    "#     C = S_hatT_K @ S_hat # TODO(pratik): optimize this -- think of it as taking the block kernel followed by column/row scaling\n",
    "#     C.diagonal().add_(lambd)\n",
    "#     L = torch.linalg.cholesky(C)\n",
    "#     nys_sqrt = torch.linalg.solve_triangular(L, S_hatT_K, upper=False)\n",
    "\n",
    "#     l_tilde = 3/(2 * lambd) * (torch.diagonal(K) - torch.sum(nys_sqrt ** 2, dim=0))\n",
    "#     print(f\"min of unscaled leverage scores = {torch.min(torch.diagonal(K) - torch.sum(nys_sqrt ** 2, dim=0))}\")\n",
    "#     print(f\"max of unscaled leverage scores = {torch.max(torch.diagonal(K) - torch.sum(nys_sqrt ** 2, dim=0))}\")\n",
    "#     adj_factor = torch.log(torch.sum(l_tilde) / delta)\n",
    "#     print(\n",
    "#         f\"min of adjusted leverage scores = {torch.min(adj_factor * l_tilde)}\")\n",
    "#     p = torch.minimum(torch.ones(m, device=device), adj_factor * l_tilde)\n",
    "#     # print(f\"min of adjusted leverage scores = {torch.min(16 * adj_factor * l_tilde)}\")\n",
    "#     # p = torch.minimum(torch.ones(m, device=device), 16 * adj_factor * l_tilde)\n",
    "\n",
    "#     # Form the new sampling matrix\n",
    "#     sampling_vector = torch.bernoulli(p)\n",
    "#     # Find indices of sampling_vector that equal 1\n",
    "#     sampling_indices = torch.nonzero(sampling_vector == 1).squeeze()\n",
    "#     num_columns = sampling_indices.shape[0]\n",
    "#     S = torch.zeros(m, num_columns, device=device)\n",
    "#     S[sampling_indices, torch.arange(num_columns)] = 1 / torch.sqrt(p[sampling_indices])\n",
    "#     return S"
   ]
  },
  {
   "cell_type": "markdown",
   "metadata": {},
   "source": [
    "### Alg. 3 from \"Recursive Sampling for the Nyström Method\" by Musco & Musco (2017)"
   ]
  },
  {
   "cell_type": "code",
   "execution_count": 10,
   "metadata": {},
   "outputs": [],
   "source": [
    "def rrls_nystrom3(X, n_components, kernel_fn, device, accelerated=False, lambd_0=0, return_leverage_scores=False):\n",
    "    # TODO(pratik): Add support for accelerated version\n",
    "\n",
    "    n_oversample = torch.log(n_components).item()\n",
    "    k = torch.ceil(n_components / (4 * n_oversample)).int().item()\n",
    "    n_levels = torch.ceil(torch.log2(X.shape[0] / n_components)).int().item()\n",
    "    perm = torch.randperm(X.shape[0], device=device)\n",
    "\n",
    "    # Set up sizes for recursive levels\n",
    "    size_list = [X.shape[0]]\n",
    "    for _ in range(n_levels):\n",
    "        size_list.append(math.ceil(size_list[-1] / 2))\n",
    "\n",
    "    # Indices of points selected at previous level of recursion\n",
    "    # At the base level it's just a uniform sample of ~ n_components points\n",
    "    sample = torch.arange(size_list[-1], device=device)\n",
    "    indices = perm[sample]\n",
    "    weights = torch.ones(indices.shape[0], device=device)\n",
    "\n",
    "    # Compute whole diagonal of kernel matrix\n",
    "    K_diag = kernel_fn(X).diagonal()\n",
    "\n",
    "    # Main recursion, unrolled for efficiency\n",
    "    for l in reversed(range(n_levels)):\n",
    "        # Indices of current uniform sample\n",
    "        current_indices = perm[:size_list[l]]\n",
    "\n",
    "        # Build sampled kernel matrix\n",
    "        KS = kernel_fn(X[current_indices, :], X[indices, :])\n",
    "        SKS = KS[sample, :]\n",
    "\n",
    "        # Optimal lambda for taking O(klog(k)) samples\n",
    "        if k >= SKS.shape[0]:\n",
    "            # For the rare chance we take less than k samples in a round\n",
    "            # Don't set to exactly 0 to avoid stability issues\n",
    "            lambd = 1e-5\n",
    "        else:\n",
    "            # Eigenvalues equal roughly the number of points per cluster, maybe this should scale with n?\n",
    "            # Can be interpreted as the zoom level\n",
    "            # TODO(pratik): use lobpcg to compute the top k eigenvalues\n",
    "            lambd = (torch.sum(SKS.diagonal() * (weights ** 2)) \n",
    "                     - torch.sum(torch.linalg.eigvalsh(SKS * weights[:, None] * weights[None, :])[:k]))/k\n",
    "        lambd = max(lambd_0 * SKS.shape[0], lambd)\n",
    "\n",
    "        # Compute and sample by lambd ridge leverage scores\n",
    "        SKS.diagonal().add_(lambd * (weights ** (-2)))\n",
    "        R = torch.linalg.inv(SKS) # TODO(pratik): use cholesky here\n",
    "        R = KS @ R\n",
    "        if l > 0:\n",
    "            # max(0, .) is to avoid numerical issues, unnecessary in theory\n",
    "            leverage_score = torch.minimum(torch.tensor([1.], device=device), n_oversample * (1/ lambd) * torch.relu(\n",
    "                                (K_diag[current_indices] - torch.sum(R * KS, dim=1))))\n",
    "            # On intermediate levels, we independently sample each column\n",
    "            # by its leverage score. The sample size is n_components in expectation\n",
    "            sample = torch.bernoulli(leverage_score).bool()\n",
    "            sample = torch.arange(current_indices.shape[0], device=device)[sample]\n",
    "            # With very low probabiltity, we could accidentally sample no\n",
    "            # Columns. In this case, just take a fixed size uniform sample\n",
    "            if torch.sum(sample) == 0:\n",
    "                leverage_score = torch.ones(current_indices.shape[0], device=device) * n_components / current_indices.shape[0]\n",
    "                sample = torch.randperm(current_indices.shape[0])[:n_components]\n",
    "            weights = 1 / torch.sqrt(leverage_score[sample])\n",
    "        else:\n",
    "            leverage_score = torch.minimum(torch.tensor([1.], device=device), (1 / lambd) * torch.relu(\n",
    "                                (K_diag[current_indices] - torch.sum(R * KS, dim=1))))\n",
    "            p = leverage_score / torch.sum(leverage_score)\n",
    "            sample = torch.multinomial(p, int(n_components.item()), replacement=False)\n",
    "        indices = perm[sample]\n",
    "\n",
    "    if return_leverage_scores:\n",
    "        return indices, leverage_score[torch.argsort(perm)]\n",
    "    else:\n",
    "        return indices"
   ]
  },
  {
   "cell_type": "markdown",
   "metadata": {},
   "source": [
    "### Try out RRLS methods"
   ]
  },
  {
   "cell_type": "code",
   "execution_count": 11,
   "metadata": {},
   "outputs": [],
   "source": [
    "# S = rrls_nystrom2(X, kernel_fn, lambd, torch.tensor([delta], device=device), device)"
   ]
  },
  {
   "cell_type": "code",
   "execution_count": 12,
   "metadata": {},
   "outputs": [],
   "source": [
    "# S"
   ]
  },
  {
   "cell_type": "code",
   "execution_count": 13,
   "metadata": {},
   "outputs": [],
   "source": [
    "# S.shape"
   ]
  },
  {
   "cell_type": "code",
   "execution_count": 14,
   "metadata": {},
   "outputs": [
    {
     "name": "stdout",
     "output_type": "stream",
     "text": [
      "[KeOps] Generating code for Sum_Reduction reduction (with parameters 0) of formula Exp(-Sum(Abs(a-b))/c)*d with a=Var(0,435,0), b=Var(1,435,1), c=Var(2,1,2), d=Var(3,2500,1) ... OK\n",
      "[KeOps] Generating code for Sum_Reduction reduction (with parameters 0) of formula Exp(-Sum(Abs(a-b))/c)*d with a=Var(0,435,0), b=Var(1,435,1), c=Var(2,1,2), d=Var(3,103,1) ... OK\n"
     ]
    }
   ],
   "source": [
    "indices_rrls, leverage_scores_rrls = rrls_nystrom3(X, torch.tensor([n_components]), kernel_fn_l1_laplace, device, return_leverage_scores=True)"
   ]
  },
  {
   "cell_type": "code",
   "execution_count": 15,
   "metadata": {},
   "outputs": [],
   "source": [
    "# indices_rrls"
   ]
  },
  {
   "cell_type": "code",
   "execution_count": 16,
   "metadata": {},
   "outputs": [],
   "source": [
    "# leverage_scores_rrls"
   ]
  },
  {
   "cell_type": "code",
   "execution_count": 17,
   "metadata": {},
   "outputs": [],
   "source": [
    "# plt.hist(leverage_scores_rrls.cpu().numpy(), bins=100)"
   ]
  },
  {
   "cell_type": "code",
   "execution_count": 18,
   "metadata": {},
   "outputs": [],
   "source": [
    "def nystrom(X, indices, kernel_fn, device):\n",
    "    C = kernel_fn(X[indices], X[indices])\n",
    "    shift = 1e-5\n",
    "    C.diagonal().add_(shift) # For stability\n",
    "    KS = kernel_fn(X, X[indices])\n",
    "\n",
    "    L = torch.linalg.cholesky(C)\n",
    "    nys_sqrt = torch.linalg.solve_triangular(L, KS.T, upper=False)\n",
    "    _, S, VT = torch.linalg.svd(nys_sqrt, full_matrices=False)\n",
    "    S = torch.max(torch.tensor([0.], device=device), S ** 2 - shift)\n",
    "\n",
    "    return VT.T @ torch.diag(S) @ VT"
   ]
  },
  {
   "cell_type": "code",
   "execution_count": 19,
   "metadata": {},
   "outputs": [
    {
     "name": "stdout",
     "output_type": "stream",
     "text": [
      "[KeOps] Generating code for Sum_Reduction reduction (with parameters 0) of formula Exp(-Sum(Abs(a-b))/c)*d with a=Var(0,435,0), b=Var(1,435,1), c=Var(2,1,2), d=Var(3,4000,1) ... "
     ]
    },
    {
     "name": "stdout",
     "output_type": "stream",
     "text": [
      "OK\n",
      "RRLS error = 6.920652866363525\n",
      "Random error = 5.972195148468018\n"
     ]
    }
   ],
   "source": [
    "K_rrls = nystrom(X, indices_rrls, kernel_fn_l1_laplace, device)\n",
    "\n",
    "# Sample indices uniformly at random\n",
    "indices_rand = torch.randperm(X.shape[0])[:n_components]\n",
    "K_rand = nystrom(X, indices_rand, kernel_fn_l1_laplace, device)\n",
    "\n",
    "# Full kernel matrix\n",
    "K_full = kernel_fn_l1_laplace(X)\n",
    "# Compute eigendecomposition of full kernel matrix\n",
    "eigvals, eigvecs = torch.linalg.eigh(K_full)\n",
    "eigvals_trunc = eigvals[-n_components:]\n",
    "eigvecs_trunc = eigvecs[:, -n_components:]\n",
    "K_lr = eigvecs_trunc @ torch.diag(eigvals_trunc) @ eigvecs_trunc.T\n",
    "\n",
    "# Compute spectral norm of difference between approximations and K_full\n",
    "rrls_err = torch.linalg.norm(K_rrls - K_full, ord=2)\n",
    "rand_err = torch.linalg.norm(K_rand - K_full, ord=2)\n",
    "\n",
    "print(f\"RRLS error = {rrls_err}\")\n",
    "print(f\"Random error = {rand_err}\")"
   ]
  },
  {
   "cell_type": "code",
   "execution_count": 20,
   "metadata": {},
   "outputs": [
    {
     "name": "stdout",
     "output_type": "stream",
     "text": [
      "K_full[0, :] = tensor([1.0000, 0.9610, 0.9717,  ..., 0.9661, 0.9676, 0.9577], device='cuda:1')\n"
     ]
    }
   ],
   "source": [
    "print(f\"K_full[0, :] = {K_full[0, :]}\")"
   ]
  },
  {
   "cell_type": "markdown",
   "metadata": {},
   "source": [
    "### Compute exact leverage scores"
   ]
  },
  {
   "cell_type": "code",
   "execution_count": 21,
   "metadata": {},
   "outputs": [],
   "source": [
    "def leverage_scores(K, lambd):\n",
    "    L = torch.linalg.cholesky(K + lambd * torch.eye(K.shape[0], device=device))\n",
    "\n",
    "    # L^-T L^-1 K\n",
    "    L_inv_K = torch.linalg.solve_triangular(L, K, upper=False)\n",
    "    LT_inv_L_inv_K = torch.linalg.solve_triangular(L.T, L_inv_K, upper=True)\n",
    "\n",
    "    leverage_scores = torch.diagonal(LT_inv_L_inv_K)\n",
    "\n",
    "    return leverage_scores"
   ]
  },
  {
   "cell_type": "code",
   "execution_count": 22,
   "metadata": {},
   "outputs": [],
   "source": [
    "def eff_dim(K, lambd):\n",
    "    eigs_K = torch.linalg.eigvalsh(K)\n",
    "    return torch.sum(eigs_K / (eigs_K + lambd))"
   ]
  },
  {
   "cell_type": "code",
   "execution_count": 23,
   "metadata": {},
   "outputs": [],
   "source": [
    "# K = rbf(sigma, device, X)\n",
    "# L = torch.linalg.cholesky(K + lambd * torch.eye(X.shape[0], device=device))\n",
    "\n",
    "# # L^-T L^-1 K\n",
    "# L_inv_K = torch.linalg.solve_triangular(L, K, upper=False)\n",
    "# LT_inv_L_inv_K = torch.linalg.solve_triangular(L.T, L_inv_K, upper=True)\n",
    "\n",
    "# leverage_scores = torch.diagonal(LT_inv_L_inv_K)\n",
    "\n",
    "leverage_scores_full = leverage_scores(K_full, lambd)\n",
    "leverage_scores_rrls = leverage_scores(K_rrls, lambd)\n",
    "leverage_scores_rand = leverage_scores(K_rand, lambd)"
   ]
  },
  {
   "cell_type": "code",
   "execution_count": 24,
   "metadata": {},
   "outputs": [
    {
     "data": {
      "text/plain": [
       "(array([  2.,   0.,   0.,   0.,   0.,   0.,   0.,   1.,   2.,   0.,   3.,\n",
       "          2.,   3.,   8.,  12.,  15.,  27.,  24.,  44.,  66.,  67.,  79.,\n",
       "         93., 101., 132., 123., 151., 192., 177., 238., 249., 272., 258.,\n",
       "        310., 305., 270., 301., 284., 330., 310., 293., 283., 280., 261.,\n",
       "        238., 227., 236., 162., 199., 193., 193., 165., 158., 147., 148.,\n",
       "        135., 156., 146., 168., 135., 114., 104.,  81.,  67.,  52.,  46.,\n",
       "         51.,  70.,  66.,  53.,  45.,  47.,  42.,  50.,  80.,  80.,  65.,\n",
       "         70.,  62.,  49.,  31.,  21.,  17.,   8.,   6.,   3.,   9.,   9.,\n",
       "         11.,  27.,  26.,  47.,  44.,  33.,  10.,   3.,   1.,   2.,  21.,\n",
       "          3.]),\n",
       " array([0.33990625, 0.34649259, 0.35307896, 0.3596653 , 0.36625165,\n",
       "        0.37283802, 0.37942436, 0.38601071, 0.39259708, 0.39918342,\n",
       "        0.40576977, 0.41235614, 0.41894248, 0.42552882, 0.4321152 ,\n",
       "        0.43870154, 0.44528788, 0.45187426, 0.4584606 , 0.46504694,\n",
       "        0.47163332, 0.47821966, 0.484806  , 0.49139237, 0.49797872,\n",
       "        0.50456506, 0.51115143, 0.51773775, 0.52432412, 0.53091049,\n",
       "        0.53749681, 0.54408318, 0.55066955, 0.55725586, 0.56384224,\n",
       "        0.57042861, 0.57701492, 0.5836013 , 0.59018767, 0.59677398,\n",
       "        0.60336035, 0.60994673, 0.61653304, 0.62311941, 0.62970579,\n",
       "        0.6362921 , 0.64287847, 0.64946485, 0.65605116, 0.66263753,\n",
       "        0.6692239 , 0.67581022, 0.68239659, 0.68898296, 0.69556928,\n",
       "        0.70215565, 0.70874202, 0.71532834, 0.72191471, 0.72850108,\n",
       "        0.73508739, 0.74167377, 0.74826014, 0.75484645, 0.76143283,\n",
       "        0.7680192 , 0.77460551, 0.78119189, 0.78777826, 0.79436457,\n",
       "        0.80095094, 0.80753732, 0.81412363, 0.82071   , 0.82729638,\n",
       "        0.83388269, 0.84046906, 0.84705544, 0.85364175, 0.86022812,\n",
       "        0.86681449, 0.87340081, 0.87998718, 0.88657355, 0.89315987,\n",
       "        0.89974624, 0.90633261, 0.91291893, 0.9195053 , 0.92609167,\n",
       "        0.93267798, 0.93926436, 0.94585073, 0.95243704, 0.95902342,\n",
       "        0.96560979, 0.9721961 , 0.97878247, 0.98536885, 0.99195516,\n",
       "        0.99854153]),\n",
       " <BarContainer object of 100 artists>)"
      ]
     },
     "execution_count": 24,
     "metadata": {},
     "output_type": "execute_result"
    },
    {
     "data": {
      "image/png": "[encoded data removed]",
      "text/plain": [
       "<Figure size 640x480 with 1 Axes>"
      ]
     },
     "metadata": {},
     "output_type": "display_data"
    }
   ],
   "source": [
    "plt.hist(leverage_scores_full.cpu().numpy(), bins=100)"
   ]
  },
  {
   "cell_type": "code",
   "execution_count": null,
   "metadata": {},
   "outputs": [
    {
     "data": {
      "text/plain": [
       "(array([  2.,   0.,   0.,   0.,   0.,   0.,   0.,   1.,   2.,   0.,   3.,\n",
       "          2.,   3.,   8.,  12.,  15.,  27.,  24.,  44.,  66.,  67.,  79.,\n",
       "         93., 101., 132., 123., 151., 192., 177., 238., 249., 272., 258.,\n",
       "        310., 305., 270., 301., 284., 330., 310., 293., 283., 280., 261.,\n",
       "        238., 227., 236., 162., 199., 193., 193., 165., 158., 147., 148.,\n",
       "        135., 156., 146., 168., 135., 114., 104.,  81.,  67.,  52.,  46.,\n",
       "         51.,  70.,  66.,  53.,  45.,  47.,  42.,  50.,  80.,  80.,  65.,\n",
       "         70.,  62.,  49.,  31.,  21.,  17.,   8.,   6.,   3.,   9.,   9.,\n",
       "         11.,  27.,  26.,  47.,  44.,  33.,  10.,   3.,   1.,   2.,  21.,\n",
       "          3.]),\n",
       " array([5.33881175e-05, 5.44226168e-05, 5.54571161e-05, 5.64916190e-05,\n",
       "        5.75261183e-05, 5.85606176e-05, 5.95951169e-05, 6.06296162e-05,\n",
       "        6.16641191e-05, 6.26986148e-05, 6.37331177e-05, 6.47676134e-05,\n",
       "        6.58021163e-05, 6.68366192e-05, 6.78711149e-05, 6.89056178e-05,\n",
       "        6.99401135e-05, 7.09746164e-05, 7.20091193e-05, 7.30436150e-05,\n",
       "        7.40781179e-05, 7.51126136e-05, 7.61471165e-05, 7.71816194e-05,\n",
       "        7.82161151e-05, 7.92506180e-05, 8.02851137e-05, 8.13196166e-05,\n",
       "        8.23541195e-05, 8.33886152e-05, 8.44231181e-05, 8.54576137e-05,\n",
       "        8.64921167e-05, 8.75266123e-05, 8.85611153e-05, 8.95956182e-05,\n",
       "        9.06301138e-05, 9.16646168e-05, 9.26991124e-05, 9.37336154e-05,\n",
       "        9.47681183e-05, 9.58026139e-05, 9.68371169e-05, 9.78716125e-05,\n",
       "        9.89061155e-05, 9.99406184e-05, 1.00975114e-04, 1.02009617e-04,\n",
       "        1.03044113e-04, 1.04078616e-04, 1.05113111e-04, 1.06147614e-04,\n",
       "        1.07182117e-04, 1.08216613e-04, 1.09251116e-04, 1.10285611e-04,\n",
       "        1.11320114e-04, 1.12354617e-04, 1.13389113e-04, 1.14423616e-04,\n",
       "        1.15458111e-04, 1.16492614e-04, 1.17527117e-04, 1.18561613e-04,\n",
       "        1.19596116e-04, 1.20630611e-04, 1.21665114e-04, 1.22699610e-04,\n",
       "        1.23734120e-04, 1.24768616e-04, 1.25803112e-04, 1.26837607e-04,\n",
       "        1.27872117e-04, 1.28906613e-04, 1.29941109e-04, 1.30975619e-04,\n",
       "        1.32010115e-04, 1.33044610e-04, 1.34079120e-04, 1.35113616e-04,\n",
       "        1.36148112e-04, 1.37182607e-04, 1.38217118e-04, 1.39251613e-04,\n",
       "        1.40286109e-04, 1.41320619e-04, 1.42355115e-04, 1.43389610e-04,\n",
       "        1.44424106e-04, 1.45458616e-04, 1.46493112e-04, 1.47527608e-04,\n",
       "        1.48562118e-04, 1.49596613e-04, 1.50631109e-04, 1.51665619e-04,\n",
       "        1.52700115e-04, 1.53734611e-04, 1.54769106e-04, 1.55803617e-04,\n",
       "        1.56838112e-04]),\n",
       " <BarContainer object of 100 artists>)"
      ]
     },
     "execution_count": 31,
     "metadata": {},
     "output_type": "execute_result"
    },
    {
     "data": {
      "image/png": "[encoded data removed]",
      "text/plain": [
       "<Figure size 640x480 with 1 Axes>"
      ]
     },
     "metadata": {},
     "output_type": "display_data"
    },
    {
     "ename": "",
     "evalue": "",
     "output_type": "error",
     "traceback": [
      "\u001b[1;31mThe Kernel crashed while executing code in the current cell or a previous cell. \n",
      "\u001b[1;31mPlease review the code in the cell(s) to identify a possible cause of the failure. \n",
      "\u001b[1;31mClick <a href='https://aka.ms/vscodeJupyterKernelCrash'>here</a> for more info. \n",
      "\u001b[1;31mView Jupyter <a href='command:jupyter.viewOutput'>log</a> for further details."
     ]
    }
   ],
   "source": [
    "plt.hist(leverage_scores_full.cpu().numpy() / torch.sum(leverage_scores_full).cpu().numpy(), bins=100)"
   ]
  },
  {
   "cell_type": "code",
   "execution_count": 25,
   "metadata": {},
   "outputs": [
    {
     "data": {
      "text/plain": [
       "(array([  7.,  49., 122., 240., 376., 493., 608., 562., 540., 438., 370.,\n",
       "        326., 280., 265., 177., 191., 124.,  94.,  71.,  82.,  91.,  78.,\n",
       "         73.,  53.,  52.,  41.,  53.,  65.,  69.,  91.,  96., 101., 129.,\n",
       "        149., 156., 170., 180., 176., 169., 169., 174., 139., 156., 150.,\n",
       "        149., 129., 126., 110., 101., 103.,  84., 101.,  79.,  82.,  65.,\n",
       "         48.,  56.,  42.,  51.,  40.,  41.,  32.,  37.,  48.,  30.,  30.,\n",
       "         30.,  37.,  20.,  19.,  14.,  16.,   9.,   5.,   3.,   7.,   5.,\n",
       "         10.,   7.,   7.,   7.,   3.,   3.,   6.,   0.,   1.,   2.,   2.,\n",
       "          0.,   1.,   2.,   2.,   0.,   0.,   1.,   1.,   0.,   0.,   0.,\n",
       "          1.]),\n",
       " array([0.10923503, 0.11764408, 0.12605312, 0.13446218, 0.14287123,\n",
       "        0.15128028, 0.15968934, 0.16809839, 0.17650744, 0.1849165 ,\n",
       "        0.19332555, 0.2017346 , 0.21014366, 0.21855271, 0.22696176,\n",
       "        0.23537081, 0.24377985, 0.25218892, 0.26059797, 0.26900703,\n",
       "        0.27741608, 0.28582513, 0.29423419, 0.30264324, 0.31105226,\n",
       "        0.31946132, 0.32787037, 0.33627942, 0.34468848, 0.35309753,\n",
       "        0.36150658, 0.36991563, 0.37832469, 0.38673374, 0.39514279,\n",
       "        0.40355185, 0.4119609 , 0.42036995, 0.42877901, 0.43718806,\n",
       "        0.44559711, 0.45400617, 0.46241522, 0.47082427, 0.47923332,\n",
       "        0.48764238, 0.49605143, 0.50446045, 0.51286954, 0.52127856,\n",
       "        0.52968764, 0.53809667, 0.54650575, 0.55491477, 0.56332386,\n",
       "        0.57173288, 0.58014196, 0.58855098, 0.59696007, 0.60536909,\n",
       "        0.61377817, 0.6221872 , 0.63059628, 0.6390053 , 0.64741439,\n",
       "        0.65582341, 0.66423249, 0.67264152, 0.6810506 , 0.68945962,\n",
       "        0.69786865, 0.70627773, 0.71468675, 0.72309583, 0.73150486,\n",
       "        0.73991394, 0.74832296, 0.75673205, 0.76514107, 0.77355015,\n",
       "        0.78195918, 0.79036826, 0.79877728, 0.80718637, 0.81559539,\n",
       "        0.82400447, 0.83241349, 0.84082258, 0.8492316 , 0.85764068,\n",
       "        0.86604971, 0.87445879, 0.88286781, 0.8912769 , 0.89968592,\n",
       "        0.908095  , 0.91650403, 0.92491311, 0.93332213, 0.94173121,\n",
       "        0.95014024]),\n",
       " <BarContainer object of 100 artists>)"
      ]
     },
     "execution_count": 25,
     "metadata": {},
     "output_type": "execute_result"
    },
    {
     "data": {
      "image/png": "[encoded data removed]",
      "text/plain": [
       "<Figure size 640x480 with 1 Axes>"
      ]
     },
     "metadata": {},
     "output_type": "display_data"
    }
   ],
   "source": [
    "plt.hist(leverage_scores_rrls.cpu().numpy(), bins=100)"
   ]
  },
  {
   "cell_type": "code",
   "execution_count": 26,
   "metadata": {},
   "outputs": [
    {
     "data": {
      "text/plain": [
       "(array([  5.,  34., 107., 206., 356., 488., 523., 513., 532., 447., 396.,\n",
       "        347., 301., 279., 192., 186., 142., 126.,  93.,  90.,  87.,  74.,\n",
       "         73.,  56.,  58.,  52.,  47.,  44.,  60.,  75.,  64., 100.,  90.,\n",
       "        108., 127., 157., 155., 166., 164., 182., 167., 185., 163., 173.,\n",
       "        161., 144., 130., 113., 118., 122.,  89.,  86.,  90.,  96.,  69.,\n",
       "         62.,  81.,  54.,  52.,  47.,  39.,  25.,  50.,  37.,  22.,  23.,\n",
       "         43.,  32.,  34.,  36.,  22.,  12.,  20.,   6.,   5.,   6.,   8.,\n",
       "         11.,   8.,   5.,   6.,   7.,   6.,   4.,   9.,   4.,   4.,   2.,\n",
       "          4.,   0.,   0.,   1.,   1.,   1.,   0.,   0.,   1.,   0.,   0.,\n",
       "          2.]),\n",
       " array([0.10915186, 0.1172463 , 0.12534074, 0.13343517, 0.14152962,\n",
       "        0.14962406, 0.15771851, 0.16581295, 0.1739074 , 0.18200183,\n",
       "        0.19009627, 0.19819072, 0.20628516, 0.21437961, 0.22247405,\n",
       "        0.23056848, 0.23866293, 0.24675737, 0.25485182, 0.26294625,\n",
       "        0.27104071, 0.27913514, 0.2872296 , 0.29532403, 0.30341846,\n",
       "        0.31151292, 0.31960735, 0.32770181, 0.33579624, 0.3438907 ,\n",
       "        0.35198513, 0.36007956, 0.36817402, 0.37626845, 0.38436291,\n",
       "        0.39245734, 0.40055177, 0.40864623, 0.41674066, 0.42483512,\n",
       "        0.43292955, 0.44102401, 0.44911844, 0.45721287, 0.46530733,\n",
       "        0.47340176, 0.48149621, 0.48959064, 0.49768507, 0.5057795 ,\n",
       "        0.51387399, 0.52196842, 0.53006285, 0.53815728, 0.54625171,\n",
       "        0.5543462 , 0.56244063, 0.57053506, 0.57862949, 0.58672392,\n",
       "        0.59481841, 0.60291284, 0.61100727, 0.6191017 , 0.62719619,\n",
       "        0.63529062, 0.64338505, 0.65147948, 0.65957391, 0.6676684 ,\n",
       "        0.67576283, 0.68385726, 0.69195169, 0.70004612, 0.70814061,\n",
       "        0.71623504, 0.72432947, 0.7324239 , 0.74051833, 0.74861282,\n",
       "        0.75670725, 0.76480168, 0.77289611, 0.78099054, 0.78908503,\n",
       "        0.79717946, 0.80527389, 0.81336832, 0.82146281, 0.82955724,\n",
       "        0.83765167, 0.8457461 , 0.85384053, 0.86193502, 0.87002945,\n",
       "        0.87812388, 0.88621831, 0.89431274, 0.90240723, 0.91050166,\n",
       "        0.91859609]),\n",
       " <BarContainer object of 100 artists>)"
      ]
     },
     "execution_count": 26,
     "metadata": {},
     "output_type": "execute_result"
    },
    {
     "data": {
      "image/png": "[encoded data removed]",
      "text/plain": [
       "<Figure size 640x480 with 1 Axes>"
      ]
     },
     "metadata": {},
     "output_type": "display_data"
    }
   ],
   "source": [
    "plt.hist(leverage_scores_rand.cpu().numpy(), bins=100)"
   ]
  },
  {
   "cell_type": "code",
   "execution_count": 27,
   "metadata": {},
   "outputs": [
    {
     "name": "stdout",
     "output_type": "stream",
     "text": [
      "Effective dimension of full kernel matrix = 6148.53466796875\n",
      "Effective dimension of RRLS approximation = 2878.0224609375\n",
      "Effective dimension of random approximation = 2876.771240234375\n"
     ]
    }
   ],
   "source": [
    "eff_dim_full = eff_dim(K_full, lambd)\n",
    "eff_dim_rrls = eff_dim(K_rrls, lambd)\n",
    "eff_dim_rand = eff_dim(K_rand, lambd)\n",
    "\n",
    "print(f\"Effective dimension of full kernel matrix = {eff_dim_full}\")\n",
    "print(f\"Effective dimension of RRLS approximation = {eff_dim_rrls}\")\n",
    "print(f\"Effective dimension of random approximation = {eff_dim_rand}\")"
   ]
  },
  {
   "cell_type": "code",
   "execution_count": 28,
   "metadata": {},
   "outputs": [
    {
     "name": "stdout",
     "output_type": "stream",
     "text": [
      "Sum of leverage scores for full kernel matrix =  tensor(6366.7021, device='cuda:1')\n"
     ]
    }
   ],
   "source": [
    "print(\"Sum of leverage scores for full kernel matrix = \", torch.sum(leverage_scores_full))"
   ]
  },
  {
   "cell_type": "code",
   "execution_count": 29,
   "metadata": {},
   "outputs": [
    {
     "data": {
      "text/plain": [
       "[<matplotlib.lines.Line2D at 0x7f8ec16d3280>]"
      ]
     },
     "execution_count": 29,
     "metadata": {},
     "output_type": "execute_result"
    },
    {
     "data": {
      "image/png": "[encoded data removed]",
      "text/plain": [
       "<Figure size 640x480 with 1 Axes>"
      ]
     },
     "metadata": {},
     "output_type": "display_data"
    }
   ],
   "source": [
    "plt.semilogy(torch.linalg.eigvalsh(K_full).cpu().numpy())"
   ]
  },
  {
   "cell_type": "code",
   "execution_count": null,
   "metadata": {},
   "outputs": [],
   "source": []
  }
 ],
 "metadata": {
  "kernelspec": {
   "display_name": "fast_krr_env",
   "language": "python",
   "name": "python3"
  },
  "language_info": {
   "codemirror_mode": {
    "name": "ipython",
    "version": 3
   },
   "file_extension": ".py",
   "mimetype": "text/x-python",
   "name": "python",
   "nbconvert_exporter": "python",
   "pygments_lexer": "ipython3",
   "version": "3.10.12"
  }
 },
 "nbformat": 4,
 "nbformat_minor": 2
}
