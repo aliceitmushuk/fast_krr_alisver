{
 "cells": [
  {
   "cell_type": "code",
   "execution_count": 1,
   "metadata": {},
   "outputs": [],
   "source": [
    "import torch\n",
    "from pykeops.torch import LazyTensor\n",
    "from sklearn.datasets import load_svmlight_file\n",
    "from sklearn.preprocessing import StandardScaler\n",
    "import matplotlib.pyplot as plt"
   ]
  },
  {
   "cell_type": "code",
   "execution_count": 2,
   "metadata": {},
   "outputs": [],
   "source": [
    "def rbf(X, sigma, device):\n",
    "    x1_lazy = LazyTensor(X[:, None, :])\n",
    "    x2_lazy = LazyTensor(X[None, :, :])\n",
    "    D = ((x1_lazy - x2_lazy) ** 2).sum(dim=2)\n",
    "    K = (-D / (2 * sigma ** 2)).exp()\n",
    "\n",
    "    return K @ torch.eye(X.shape[0], device=device)"
   ]
  },
  {
   "cell_type": "code",
   "execution_count": 3,
   "metadata": {},
   "outputs": [
    {
     "data": {
      "text/plain": [
       "<torch._C.Generator at 0x7eff3c393310>"
      ]
     },
     "execution_count": 3,
     "metadata": {},
     "output_type": "execute_result"
    }
   ],
   "source": [
    "torch.manual_seed(0)"
   ]
  },
  {
   "cell_type": "code",
   "execution_count": 4,
   "metadata": {},
   "outputs": [],
   "source": [
    "device = torch.device(\"cuda\" if torch.cuda.is_available() else \"cpu\")"
   ]
  },
  {
   "cell_type": "code",
   "execution_count": 5,
   "metadata": {},
   "outputs": [],
   "source": [
    "# m = 10000\n",
    "# d = 20\n",
    "sigma = 0.1\n",
    "delta = 0.01\n",
    "lambd = 1.0\n",
    "# X = torch.randn(m, d, device=device)\n",
    "\n",
    "# Load data and standardize\n",
    "X, y = load_svmlight_file(\"../data/cod-rna\")\n",
    "X = X.toarray()\n",
    "X = X[:5000, :] # Subsample\n",
    "scaler = StandardScaler()\n",
    "X = scaler.fit_transform(X)\n",
    "X = torch.tensor(X, device=device, dtype=torch.float32)\n",
    "\n",
    "kernel_fn = lambda Y: rbf(Y, sigma, device)"
   ]
  },
  {
   "cell_type": "code",
   "execution_count": 6,
   "metadata": {},
   "outputs": [],
   "source": [
    "def rrls_nystrom(X, kernel_fn, lambd, delta, device):\n",
    "    m, _ = X.shape\n",
    "    print(f\"m ub = {192 * torch.log(1/delta)}\")\n",
    "    if m <= 192 * torch.log(1 / delta):\n",
    "        return torch.eye(m, device=device)\n",
    "    \n",
    "    # Sample rows of X independently, each with probability 1/2\n",
    "    S_bar = torch.bernoulli(0.5 * torch.ones(m, device=device)).bool()\n",
    "    S_bar_mat = torch.zeros(m, torch.sum(S_bar), device=device)\n",
    "    S_bar_mat[S_bar, torch.arange(torch.sum(S_bar))] = 1\n",
    "    S_til = rrls_nystrom(X[S_bar], kernel_fn, lambd, delta / 3, device)\n",
    "    print(f\"S_bar_mat.shape = {S_bar_mat.shape}\")\n",
    "    print(f\"S_til.shape = {S_til.shape}\")\n",
    "    S_hat = S_bar_mat @ S_til # TODO(pratik): Try making this more efficient in the future\n",
    "\n",
    "    # Compute approximate leverage scores\n",
    "    K = kernel_fn(X)\n",
    "    S_hatT_K = S_hat.T @ K\n",
    "    C = S_hatT_K @ S_hat # TODO(pratik): optimize this -- think of it as taking the block kernel followed by column/row scaling\n",
    "    C.diagonal().add_(lambd)\n",
    "    L = torch.linalg.cholesky(C)\n",
    "    nys_sqrt = torch.linalg.solve_triangular(L, S_hatT_K, upper=False)\n",
    "\n",
    "    l_tilde = 3/(2 * lambd) * (torch.diagonal(K) - torch.sum(nys_sqrt ** 2, dim=0))\n",
    "    print(f\"min of unscaled leverage scores = {torch.min(torch.diagonal(K) - torch.sum(nys_sqrt ** 2, dim=0))}\")\n",
    "    print(f\"max of unscaled leverage scores = {torch.max(torch.diagonal(K) - torch.sum(nys_sqrt ** 2, dim=0))}\")\n",
    "    adj_factor = torch.log(torch.sum(l_tilde) / delta)\n",
    "    print(\n",
    "        f\"min of adjusted leverage scores = {torch.min(adj_factor * l_tilde)}\")\n",
    "    p = torch.minimum(torch.ones(m, device=device), adj_factor * l_tilde)\n",
    "    # print(f\"min of adjusted leverage scores = {torch.min(16 * adj_factor * l_tilde)}\")\n",
    "    # p = torch.minimum(torch.ones(m, device=device), 16 * adj_factor * l_tilde)\n",
    "\n",
    "    # Form the new sampling matrix\n",
    "    sampling_vector = torch.bernoulli(p)\n",
    "    # Find indices of sampling_vector that equal 1\n",
    "    sampling_indices = torch.nonzero(sampling_vector == 1).squeeze()\n",
    "    num_columns = sampling_indices.shape[0]\n",
    "    S = torch.zeros(m, num_columns, device=device)\n",
    "    S[sampling_indices, torch.arange(num_columns)] = 1 / torch.sqrt(p[sampling_indices])\n",
    "    return S"
   ]
  },
  {
   "cell_type": "code",
   "execution_count": 7,
   "metadata": {},
   "outputs": [
    {
     "name": "stdout",
     "output_type": "stream",
     "text": [
      "m ub = tensor([884.1927], device='cuda:0')\n",
      "m ub = tensor([1095.1262], device='cuda:0')\n",
      "m ub = tensor([1306.0598], device='cuda:0')\n",
      "S_bar_mat.shape = torch.Size([2514, 1300])\n",
      "S_til.shape = torch.Size([1300, 1300])\n",
      "min of unscaled leverage scores = 0.24694347381591797\n",
      "max of unscaled leverage scores = 1.0\n",
      "min of adjusted leverage scores = 5.045075416564941\n",
      "S_bar_mat.shape = torch.Size([5000, 2514])\n",
      "S_til.shape = torch.Size([2514, 2514])\n",
      "min of unscaled leverage scores = 0.19708997011184692\n",
      "max of unscaled leverage scores = 1.0\n",
      "min of adjusted leverage scores = 3.9026079177856445\n"
     ]
    }
   ],
   "source": [
    "S = rrls_nystrom(X, kernel_fn, lambd, torch.tensor([delta], device=device), device)"
   ]
  },
  {
   "cell_type": "code",
   "execution_count": 8,
   "metadata": {},
   "outputs": [
    {
     "data": {
      "text/plain": [
       "tensor([[1., 0., 0.,  ..., 0., 0., 0.],\n",
       "        [0., 1., 0.,  ..., 0., 0., 0.],\n",
       "        [0., 0., 1.,  ..., 0., 0., 0.],\n",
       "        ...,\n",
       "        [0., 0., 0.,  ..., 1., 0., 0.],\n",
       "        [0., 0., 0.,  ..., 0., 1., 0.],\n",
       "        [0., 0., 0.,  ..., 0., 0., 1.]], device='cuda:0')"
      ]
     },
     "execution_count": 8,
     "metadata": {},
     "output_type": "execute_result"
    }
   ],
   "source": [
    "S"
   ]
  },
  {
   "cell_type": "code",
   "execution_count": 9,
   "metadata": {},
   "outputs": [
    {
     "data": {
      "text/plain": [
       "torch.Size([5000, 5000])"
      ]
     },
     "execution_count": 9,
     "metadata": {},
     "output_type": "execute_result"
    }
   ],
   "source": [
    "S.shape"
   ]
  },
  {
   "cell_type": "markdown",
   "metadata": {},
   "source": [
    "### Compute exact leverage scores"
   ]
  },
  {
   "cell_type": "code",
   "execution_count": 10,
   "metadata": {},
   "outputs": [],
   "source": [
    "K = rbf(X, sigma, device)\n",
    "L = torch.linalg.cholesky(K + lambd * torch.eye(X.shape[0], device=device))\n",
    "\n",
    "# L^-T L^-1 K\n",
    "L_inv_K = torch.linalg.solve_triangular(L, K, upper=False)\n",
    "LT_inv_L_inv_K = torch.linalg.solve_triangular(L.T, L_inv_K, upper=True)\n",
    "\n",
    "leverage_scores = torch.diagonal(LT_inv_L_inv_K)"
   ]
  },
  {
   "cell_type": "code",
   "execution_count": 11,
   "metadata": {},
   "outputs": [
    {
     "data": {
      "text/plain": [
       "(array([7.000e+00, 0.000e+00, 6.000e+00, 0.000e+00, 0.000e+00, 0.000e+00,\n",
       "        0.000e+00, 0.000e+00, 0.000e+00, 0.000e+00, 0.000e+00, 0.000e+00,\n",
       "        4.000e+00, 0.000e+00, 1.000e+01, 1.000e+00, 5.000e+00, 1.000e+00,\n",
       "        0.000e+00, 1.000e+00, 0.000e+00, 3.000e+00, 1.000e+00, 0.000e+00,\n",
       "        0.000e+00, 4.000e+00, 0.000e+00, 0.000e+00, 0.000e+00, 2.000e+00,\n",
       "        1.000e+00, 5.000e+00, 7.000e+00, 3.000e+00, 1.000e+00, 9.000e+00,\n",
       "        3.000e+00, 4.000e+00, 4.000e+00, 6.000e+00, 6.000e+00, 4.000e+00,\n",
       "        1.000e+00, 6.000e+00, 2.000e+00, 6.000e+00, 4.000e+00, 3.000e+00,\n",
       "        4.000e+00, 3.000e+00, 8.000e+00, 6.000e+00, 4.000e+00, 4.000e+00,\n",
       "        5.000e+00, 1.100e+01, 2.400e+01, 1.110e+02, 7.000e+00, 1.500e+01,\n",
       "        3.400e+01, 7.000e+00, 2.000e+00, 5.500e+01, 3.000e+00, 1.200e+01,\n",
       "        5.000e+00, 4.100e+01, 3.000e+00, 1.000e+00, 7.000e+00, 5.000e+00,\n",
       "        3.600e+01, 3.000e+00, 2.000e+00, 4.000e+00, 1.600e+01, 3.800e+01,\n",
       "        1.200e+01, 8.000e+00, 3.000e+00, 2.800e+01, 1.000e+00, 7.000e+00,\n",
       "        4.000e+00, 5.100e+01, 5.000e+00, 8.000e+00, 4.300e+01, 3.000e+00,\n",
       "        1.400e+01, 5.300e+01, 1.200e+01, 5.100e+01, 1.600e+01, 4.700e+01,\n",
       "        6.400e+01, 8.100e+01, 1.400e+02, 3.753e+03]),\n",
       " array([0.11172207, 0.11560486, 0.11948764, 0.12337041, 0.12725319,\n",
       "        0.13113597, 0.13501875, 0.13890153, 0.14278431, 0.14666709,\n",
       "        0.15054987, 0.15443264, 0.15831542, 0.1621982 , 0.16608098,\n",
       "        0.16996376, 0.17384654, 0.17772932, 0.1816121 , 0.18549488,\n",
       "        0.18937767, 0.19326045, 0.19714321, 0.20102599, 0.20490877,\n",
       "        0.20879155, 0.21267433, 0.21655712, 0.2204399 , 0.22432268,\n",
       "        0.22820546, 0.23208824, 0.235971  , 0.23985378, 0.24373657,\n",
       "        0.24761935, 0.25150213, 0.25538489, 0.25926769, 0.26315045,\n",
       "        0.26703325, 0.27091601, 0.27479881, 0.27868158, 0.28256437,\n",
       "        0.28644714, 0.29032993, 0.2942127 , 0.29809546, 0.30197826,\n",
       "        0.30586103, 0.30974382, 0.31362659, 0.31750938, 0.32139215,\n",
       "        0.32527494, 0.32915771, 0.33304051, 0.33692327, 0.34080604,\n",
       "        0.34468883, 0.3485716 , 0.35245439, 0.35633716, 0.36021996,\n",
       "        0.36410272, 0.36798552, 0.37186828, 0.37575108, 0.37963384,\n",
       "        0.38351661, 0.38739941, 0.39128217, 0.39516497, 0.39904773,\n",
       "        0.40293053, 0.40681329, 0.41069609, 0.41457886, 0.41846162,\n",
       "        0.42234442, 0.42622718, 0.43010998, 0.43399274, 0.43787554,\n",
       "        0.4417583 , 0.4456411 , 0.44952387, 0.45340666, 0.45728943,\n",
       "        0.46117219, 0.46505499, 0.46893775, 0.47282055, 0.47670332,\n",
       "        0.48058611, 0.48446888, 0.48835167, 0.49223444, 0.49611723,\n",
       "        0.5       ]),\n",
       " <BarContainer object of 100 artists>)"
      ]
     },
     "execution_count": 11,
     "metadata": {},
     "output_type": "execute_result"
    },
    {
     "data": {
      "image/png": "[encoded data removed]",
      "text/plain": [
       "<Figure size 640x480 with 1 Axes>"
      ]
     },
     "metadata": {},
     "output_type": "display_data"
    }
   ],
   "source": [
    "plt.hist(leverage_scores.cpu().numpy(), bins=100)"
   ]
  }
 ],
 "metadata": {
  "kernelspec": {
   "display_name": "fast_krr_env",
   "language": "python",
   "name": "python3"
  },
  "language_info": {
   "codemirror_mode": {
    "name": "ipython",
    "version": 3
   },
   "file_extension": ".py",
   "mimetype": "text/x-python",
   "name": "python",
   "nbconvert_exporter": "python",
   "pygments_lexer": "ipython3",
   "version": "3.10.12"
  }
 },
 "nbformat": 4,
 "nbformat_minor": 2
}
