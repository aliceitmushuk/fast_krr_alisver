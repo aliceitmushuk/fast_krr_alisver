{
 "cells": [
  {
   "cell_type": "code",
   "execution_count": 16,
   "metadata": {},
   "outputs": [],
   "source": [
    "import torch\n",
    "from scipy.stats import ortho_group"
   ]
  },
  {
   "cell_type": "code",
   "execution_count": 17,
   "metadata": {},
   "outputs": [],
   "source": [
    "def rand_nys_appx(K, n, r, device):\n",
    "    # Calculate sketch\n",
    "    Phi = torch.randn((n, r), device=device) / (n ** 0.5)\n",
    "    Phi = torch.linalg.qr(Phi, mode='reduced')[0]\n",
    "\n",
    "    Y = K @ Phi\n",
    "\n",
    "    # Calculate shift\n",
    "    shift = torch.finfo(Y.dtype).eps\n",
    "    Y_shifted = Y + shift * Phi\n",
    "\n",
    "    # Calculate Phi^T * K * Phi (w/ shift) for Cholesky\n",
    "    choleskytarget = torch.mm(Phi.t(), Y_shifted)\n",
    "\n",
    "    # Perform Cholesky decomposition\n",
    "    C = torch.linalg.cholesky(choleskytarget)\n",
    "\n",
    "    B = torch.linalg.solve_triangular(C.t(), Y_shifted, upper=True, left=False)\n",
    "    U, S, _ = torch.linalg.svd(B, full_matrices=False)\n",
    "    S = torch.max(torch.square(S) - shift, torch.tensor(0.0))\n",
    "\n",
    "    return U, S"
   ]
  },
  {
   "cell_type": "code",
   "execution_count": 18,
   "metadata": {},
   "outputs": [],
   "source": [
    "def get_L(K, lambd, U, S, rho):\n",
    "    n = U.shape[0]\n",
    "    v = torch.randn(n, device=U.device)\n",
    "    v = v / torch.linalg.norm(v)\n",
    "\n",
    "    max_eig = None\n",
    "\n",
    "    for _ in range(1000):\n",
    "        v_old = v.clone()\n",
    "\n",
    "        UTv = U.t() @ v\n",
    "        v = U @ (UTv / ((S + rho) ** (0.5))) + 1/(rho ** 0.5) * (v - U @ UTv)\n",
    "\n",
    "        v = K @ v + lambd * v\n",
    "\n",
    "        UTv = U.t() @ v\n",
    "        v = U @ (UTv / ((S + rho) ** (0.5))) + 1/(rho ** 0.5) * (v - U @ UTv)\n",
    "\n",
    "        max_eig = torch.dot(v_old, v)\n",
    "\n",
    "        v = v / torch.linalg.norm(v)\n",
    "\n",
    "    return max_eig"
   ]
  },
  {
   "cell_type": "code",
   "execution_count": 19,
   "metadata": {},
   "outputs": [],
   "source": [
    "# Generate an orthogonal matrix of size 1000 by 1000\n",
    "n = 1000\n",
    "V = ortho_group.rvs(n)\n",
    "\n",
    "V = torch.tensor(V, dtype=torch.float32).to('cuda')\n",
    "\n",
    "Sigma = torch.diag(torch.arange(1, n+1, dtype=torch.float32) ** -3).to('cuda')\n",
    "\n",
    "K = V @ Sigma @ V.t()\n",
    "\n",
    "U, S = rand_nys_appx(K, n, 1000, 'cuda')"
   ]
  },
  {
   "cell_type": "code",
   "execution_count": 20,
   "metadata": {},
   "outputs": [
    {
     "name": "stdout",
     "output_type": "stream",
     "text": [
      "tensor(1.0108, device='cuda:0')\n"
     ]
    }
   ],
   "source": [
    "lambd = 0.01\n",
    "rho = 0.01\n",
    "\n",
    "print(get_L(K, lambd, U, S, rho))"
   ]
  }
 ],
 "metadata": {
  "kernelspec": {
   "display_name": "fast_krr_env",
   "language": "python",
   "name": "fast_krr_env"
  },
  "language_info": {
   "codemirror_mode": {
    "name": "ipython",
    "version": 3
   },
   "file_extension": ".py",
   "mimetype": "text/x-python",
   "name": "python",
   "nbconvert_exporter": "python",
   "pygments_lexer": "ipython3",
   "version": "3.10.12"
  }
 },
 "nbformat": 4,
 "nbformat_minor": 2
}
