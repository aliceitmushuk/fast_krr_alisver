{
  "cells": [
    {
      "cell_type": "code",
      "execution_count": 1,
      "metadata": {
        "id": "XCJx8hV8Q_gg"
      },
      "outputs": [],
      "source": [
        "import torch\n",
        "import pykeops"
      ]
    },
    {
      "cell_type": "code",
      "execution_count": 2,
      "metadata": {
        "colab": {
          "base_uri": "https://localhost:8080/"
        },
        "id": "NgdwhZuTV91q",
        "outputId": "e06e84a5-9659-430f-d568-44d948fcbd2b"
      },
      "outputs": [
        {
          "data": {
            "text/plain": [
              "0"
            ]
          },
          "execution_count": 2,
          "metadata": {},
          "output_type": "execute_result"
        }
      ],
      "source": [
        "torch.cuda.current_device()"
      ]
    },
    {
      "cell_type": "code",
      "execution_count": 8,
      "metadata": {
        "id": "2ATu6HeXXtu9"
      },
      "outputs": [],
      "source": [
        "device = 'cuda:0'\n",
        "\n",
        "torch.manual_seed(0)\n",
        "ntr = 1000\n",
        "ntst = 100\n",
        "d = 3\n",
        "\n",
        "xtr = torch.randn(ntr,d).to(device)\n",
        "xtst = torch.randn(ntst,d).to(device)\n",
        "btr = torch.randn(ntr).to(device)\n",
        "btst = torch.randn(ntst).to(device)"
      ]
    },
    {
      "cell_type": "code",
      "execution_count": 9,
      "metadata": {
        "id": "pRdVGAgRYYoL"
      },
      "outputs": [],
      "source": [
        "from opts.pcg import PCG"
      ]
    },
    {
      "cell_type": "code",
      "execution_count": 10,
      "metadata": {
        "id": "dQ27Zb8rs53T"
      },
      "outputs": [],
      "source": [
        "kernel_params = {\"type\": \"rbf\", \"sigma\": 1}\n",
        "gauss_nys_params = {\"type\": \"nystrom\", \"r\": 100, \"rho\": 1}\n",
        "lambd = 1\n",
        "task = 'test_mse'\n",
        "a0 = torch.zeros(ntr).to(device)\n",
        "pcg_iters = 10"
      ]
    },
    {
      "cell_type": "code",
      "execution_count": 11,
      "metadata": {
        "colab": {
          "base_uri": "https://localhost:8080/"
        },
        "id": "oZDUZ8wpY2Ko",
        "outputId": "c62c0dcf-6da3-432b-9492-82b55e2f944a"
      },
      "outputs": [
        {
          "name": "stdout",
          "output_type": "stream",
          "text": [
            "[pyKeOps] Warning : at least one of the input tensors is not contiguous. Consider using contiguous data arrays to avoid unnecessary copies.\n",
            "PCG has converged with residual:tensor(1.3815e-07, device='cuda:0')\n"
          ]
        }
      ],
      "source": [
        "#Test Nystrom PCG with Gaussian test matrix\n",
        "nystrom_pcg = PCG(gauss_nys_params)\n",
        "a = nystrom_pcg.run(xtr,btr,xtst,btst,kernel_params,lambd, task,\n",
        "                    a0,pcg_iters,device,None)"
      ]
    },
    {
      "cell_type": "code",
      "execution_count": 12,
      "metadata": {
        "colab": {
          "base_uri": "https://localhost:8080/"
        },
        "id": "Rg_R60oLtIhG",
        "outputId": "3674a25f-1912-4e2a-b719-645d95ce5e94"
      },
      "outputs": [
        {
          "name": "stdout",
          "output_type": "stream",
          "text": [
            "PCG has converged with residual:tensor(8.8497e-07, device='cuda:0')\n"
          ]
        }
      ],
      "source": [
        "#Test Nystrom PCG with greedy column selection\n",
        "greedy_nys_params = {\"type\": \"pivoted_cholesky\", \"r\": 100, \"rho\": 1}\n",
        "greedy_nystrom_pcg = PCG(greedy_nys_params)\n",
        "a = greedy_nystrom_pcg.run(xtr,btr,xtst,btst,kernel_params,lambd, task,\n",
        "                           torch.zeros(1000).to(device),pcg_iters,device,None)"
      ]
    }
  ],
  "metadata": {
    "accelerator": "GPU",
    "colab": {
      "gpuType": "T4",
      "provenance": []
    },
    "kernelspec": {
      "display_name": "Python 3",
      "name": "python3"
    },
    "language_info": {
      "name": "python"
    }
  },
  "nbformat": 4,
  "nbformat_minor": 0
}
