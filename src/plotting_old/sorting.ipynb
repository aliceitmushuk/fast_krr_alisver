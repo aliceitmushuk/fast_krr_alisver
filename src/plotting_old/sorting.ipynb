{
 "cells": [
  {
   "cell_type": "code",
   "execution_count": 5,
   "metadata": {},
   "outputs": [],
   "source": [
    "def sort_data(data, sort_keys):\n",
    "    # Define the custom order for the \"opt\" key\n",
    "    opt_order = {\"askotch\": 0, \"skotch\": 1, \"sketchysaga\": 2, \"sketchykatyusha\": 3, \"pcg\": 4}\n",
    "\n",
    "    # Create the sorting key function based on the specified sort_keys\n",
    "    def sorting_key(d):\n",
    "        key = []\n",
    "        if 'opt' in sort_keys:\n",
    "            key.append(opt_order[d[\"opt\"]])\n",
    "        if 'b' in sort_keys:\n",
    "            key.append(d.get(\"b\", float('inf')))\n",
    "        if 'r' in sort_keys:\n",
    "            key.append(d.get(\"precond_params\", {}).get(\"r\", float('inf')))\n",
    "        if 'preconditioner_type' in sort_keys:\n",
    "            key.append(d.get(\"precond_params\", {}).get(\"type\", 'zzz'))  # 'zzz' to ensure it's sorted last if not present\n",
    "        return tuple(key)\n",
    "    \n",
    "    # Sort the data using the sorting key\n",
    "    data.sort(key=sorting_key)\n",
    "\n",
    "    return data"
   ]
  },
  {
   "cell_type": "code",
   "execution_count": 6,
   "metadata": {},
   "outputs": [
    {
     "name": "stdout",
     "output_type": "stream",
     "text": [
      "[{'opt': 'askotch', 'b': 1}, {'opt': 'askotch', 'b': 2, 'precond_params': {'r': 3, 'type': 'falkon'}}, {'opt': 'skotch', 'b': 3, 'precond_params': {'r': 1}}, {'opt': 'skotch'}, {'opt': 'sketchysaga', 'b': 1}, {'opt': 'sketchysaga', 'b': 4, 'precond_params': {'r': 2, 'type': 'nystrom'}}, {'opt': 'sketchykatyusha', 'precond_params': {'r': 5, 'type': 'partial_cholesky'}}, {'opt': 'pcg', 'precond_params': {'r': 4}}]\n",
      "[{'opt': 'askotch', 'b': 1}, {'opt': 'askotch', 'b': 2, 'precond_params': {'r': 3, 'type': 'falkon'}}, {'opt': 'skotch', 'b': 3, 'precond_params': {'r': 1}}, {'opt': 'skotch'}, {'opt': 'sketchysaga', 'b': 1}, {'opt': 'sketchysaga', 'b': 4, 'precond_params': {'r': 2, 'type': 'nystrom'}}, {'opt': 'sketchykatyusha', 'precond_params': {'r': 5, 'type': 'partial_cholesky'}}, {'opt': 'pcg', 'precond_params': {'r': 4}}]\n",
      "[{'opt': 'askotch', 'b': 1}, {'opt': 'askotch', 'b': 2, 'precond_params': {'r': 3, 'type': 'falkon'}}, {'opt': 'skotch', 'b': 3, 'precond_params': {'r': 1}}, {'opt': 'skotch'}, {'opt': 'sketchysaga', 'b': 1}, {'opt': 'sketchysaga', 'b': 4, 'precond_params': {'r': 2, 'type': 'nystrom'}}, {'opt': 'sketchykatyusha', 'precond_params': {'r': 5, 'type': 'partial_cholesky'}}, {'opt': 'pcg', 'precond_params': {'r': 4}}]\n"
     ]
    }
   ],
   "source": [
    "# Example usage\n",
    "data = [\n",
    "    {\"opt\": \"sketchysaga\", \"b\": 4, \"precond_params\": {\"r\": 2, \"type\": \"nystrom\"}},\n",
    "    {\"opt\": \"askotch\", \"b\": 2, \"precond_params\": {\"r\": 3, \"type\": \"falkon\"}},\n",
    "    {\"opt\": \"skotch\", \"b\": 3, \"precond_params\": {\"r\": 1}},\n",
    "    {\"opt\": \"pcg\", \"precond_params\": {\"r\": 4}},\n",
    "    {\"opt\": \"sketchykatyusha\", \"precond_params\": {\"r\": 5, \"type\": \"partial_cholesky\"}},\n",
    "    {\"opt\": \"sketchysaga\", \"b\": 1},\n",
    "    {\"opt\": \"skotch\"},\n",
    "    {\"opt\": \"askotch\", \"b\": 1},\n",
    "]\n",
    "\n",
    "# Sort by \"opt\" and \"b\"\n",
    "sorted_data = sort_data(data, sort_keys=[\"opt\", \"b\"])\n",
    "print(sorted_data)\n",
    "\n",
    "# Sort by \"opt\", \"b\", and \"r\"\n",
    "sorted_data = sort_data(data, sort_keys=[\"opt\", \"b\", \"r\"])\n",
    "print(sorted_data)\n",
    "\n",
    "# Sort by \"opt\", \"b\", \"r\", and \"preconditioner_type\"\n",
    "sorted_data = sort_data(data, sort_keys=[\"opt\", \"b\", \"r\", \"preconditioner_type\"])\n",
    "print(sorted_data)"
   ]
  }
 ],
 "metadata": {
  "kernelspec": {
   "display_name": "fast_krr_plotting_env",
   "language": "python",
   "name": "python3"
  },
  "language_info": {
   "codemirror_mode": {
    "name": "ipython",
    "version": 3
   },
   "file_extension": ".py",
   "mimetype": "text/x-python",
   "name": "python",
   "nbconvert_exporter": "python",
   "pygments_lexer": "ipython3",
   "version": "3.10.10"
  }
 },
 "nbformat": 4,
 "nbformat_minor": 2
}
