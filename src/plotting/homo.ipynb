{
 "cells": [
  {
   "cell_type": "code",
   "execution_count": null,
   "metadata": {},
   "outputs": [],
   "source": [
    "import wandb\n",
    "import numpy as np\n",
    "import matplotlib.pyplot as plt\n",
    "from plotting_utils import render_in_latex"
   ]
  },
  {
   "cell_type": "code",
   "execution_count": null,
   "metadata": {},
   "outputs": [],
   "source": [
    "# Render plots in LaTeX\n",
    "# render_in_latex()"
   ]
  },
  {
   "cell_type": "code",
   "execution_count": null,
   "metadata": {},
   "outputs": [],
   "source": [
    "entity_name = \"sketchy-opts\"\n",
    "project_name = \"homo_full_krr\""
   ]
  },
  {
   "cell_type": "code",
   "execution_count": null,
   "metadata": {},
   "outputs": [],
   "source": [
    "api = wandb.Api()"
   ]
  },
  {
   "cell_type": "code",
   "execution_count": null,
   "metadata": {},
   "outputs": [],
   "source": [
    "runs = api.runs(f\"{entity_name}/{project_name}\")"
   ]
  },
  {
   "cell_type": "code",
   "execution_count": null,
   "metadata": {},
   "outputs": [],
   "source": [
    "def plot_runs(runs, r, opts, precisions):\n",
    "    r_runs = []\n",
    "\n",
    "    for run in runs:\n",
    "        precond_params = run.config[\"precond_params\"]\n",
    "        if precond_params is not None:\n",
    "            if precond_params[\"r\"] == r:\n",
    "                r_runs.append(run)\n",
    "\n",
    "    plt.figure()\n",
    "\n",
    "    for run in r_runs:\n",
    "        if run.config[\"opt\"] in opts and run.config[\"precision\"] in precisions:\n",
    "            smape_df = run.history(samples=1000000000, keys=[\"smape\"])\n",
    "            times_df = run.history(samples=1000000000, keys=[\"iter_time\"])\n",
    "\n",
    "            steps = smape_df[\"_step\"].to_numpy()\n",
    "            cum_times = np.cumsum(times_df[\"iter_time\"].to_numpy())\n",
    "\n",
    "            label = run.config[\"opt\"]\n",
    "            if run.config[\"opt\"] in [\"skotch\", \"askotch\"]:\n",
    "                label += \", b=\"\n",
    "                label += str(run.config[\"b\"])\n",
    "            elif run.config[\"opt\"] == \"pcg\":\n",
    "                label += \", \"\n",
    "                label += run.config[\"precond_params\"][\"type\"]\n",
    "\n",
    "            plt.plot(cum_times[steps], smape_df[\"smape\"], label=label)\n",
    "\n",
    "    plt.ylim(0, 0.25)\n",
    "    plt.title(f\"rank = {r}\")\n",
    "    plt.xlabel(\"Time (seconds)\")\n",
    "    plt.ylabel(\"SMAPE\")\n",
    "    plt.legend()"
   ]
  },
  {
   "cell_type": "code",
   "execution_count": null,
   "metadata": {},
   "outputs": [],
   "source": [
    "rs = [10, 20, 50, 100, 200, 500, 1000, 2000]\n",
    "opts = [\"askotch\", \"pcg\"]\n",
    "precisions = [\"float32\"]"
   ]
  },
  {
   "cell_type": "code",
   "execution_count": null,
   "metadata": {},
   "outputs": [],
   "source": [
    "for r in rs:\n",
    "    plot_runs(runs, r, opts, precisions)"
   ]
  }
 ],
 "metadata": {
  "kernelspec": {
   "display_name": "fast_krr_env",
   "language": "python",
   "name": "python3"
  },
  "language_info": {
   "codemirror_mode": {
    "name": "ipython",
    "version": 3
   },
   "file_extension": ".py",
   "mimetype": "text/x-python",
   "name": "python",
   "nbconvert_exporter": "python",
   "pygments_lexer": "ipython3",
   "version": "3.10.12"
  }
 },
 "nbformat": 4,
 "nbformat_minor": 2
}
